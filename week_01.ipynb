{
 "cells": [
  {
   "cell_type": "code",
   "execution_count": null,
   "id": "b94d5201",
   "metadata": {},
   "outputs": [],
   "source": [
    "# 주석\n",
    "# run : shift + enter"
   ]
  },
  {
   "cell_type": "markdown",
   "id": "723d2da5",
   "metadata": {},
   "source": [
    "markdown 입력(m)"
   ]
  },
  {
   "cell_type": "markdown",
   "id": "e46c837e",
   "metadata": {},
   "source": [
    "## 프로그래밍이란?\n",
    "- programing: 프로그래밍 언어를 사용하여 프로그램을 개발하는 것.\n",
    "- program: 일련의 작업을 지속하는 것.\n",
    "- python:  프로그래밍 언어 중 하나. 컴퓨터에게 작업을 명령하기 위해 사용하는 컴퓨터가 이해할 수 있는 언어."
   ]
  },
  {
   "cell_type": "code",
   "execution_count": 1,
   "id": "d78cd796",
   "metadata": {},
   "outputs": [
    {
     "name": "stdout",
     "output_type": "stream",
     "text": [
      "Hello World!\n"
     ]
    }
   ],
   "source": [
    "print('Hello World!')"
   ]
  },
  {
   "cell_type": "markdown",
   "id": "4f61f426",
   "metadata": {},
   "source": [
    "## Ch2. Data: Types, Values, Variables, and Names"
   ]
  },
  {
   "cell_type": "code",
   "execution_count": 33,
   "id": "6c21b4b9",
   "metadata": {},
   "outputs": [],
   "source": [
    "a = 2"
   ]
  },
  {
   "cell_type": "markdown",
   "id": "400c75b1",
   "metadata": {},
   "source": [
    "- markdown = m+\n",
    "\n",
    "- 변수, variables : 특정 값을 저장하는 공간\n",
    "- 값, value: 2\n",
    "- 자료형, type : 2가 어떤 타입인가? 데이터의 형태, intiger(int 타입)\n",
    "- 할당하다, assign : 2를 a에 넣는 과정\n",
    "-  a가 2다?? : a==2(equal)\n",
    "할당과 같다는 다르다"
   ]
  },
  {
   "cell_type": "markdown",
   "id": "3bab49d0",
   "metadata": {},
   "source": [
    "### 변수의 타입\n",
    "- boolean, 불리언 : True, False(`bool`) → 두가지 자료값 중 하나만을 갖는다\n",
    "- integer, 정수 : 1,2,3,4...(`int`)\n",
    "- floating point number, 부동소수점 : 1.0, 2.0, 0.45...(`float`)\n",
    "- string, 문자열 : 'apple'(`str`)"
   ]
  },
  {
   "cell_type": "code",
   "execution_count": 3,
   "id": "377d0922",
   "metadata": {},
   "outputs": [],
   "source": [
    "num = 4"
   ]
  },
  {
   "cell_type": "code",
   "execution_count": 4,
   "id": "f258a438",
   "metadata": {},
   "outputs": [
    {
     "name": "stdout",
     "output_type": "stream",
     "text": [
      "4\n"
     ]
    }
   ],
   "source": [
    "print(num)"
   ]
  },
  {
   "cell_type": "code",
   "execution_count": 5,
   "id": "049131d1",
   "metadata": {},
   "outputs": [
    {
     "data": {
      "text/plain": [
       "int"
      ]
     },
     "execution_count": 5,
     "metadata": {},
     "output_type": "execute_result"
    }
   ],
   "source": [
    "type(num)"
   ]
  },
  {
   "cell_type": "code",
   "execution_count": 6,
   "id": "1f087760",
   "metadata": {},
   "outputs": [
    {
     "data": {
      "text/plain": [
       "float"
      ]
     },
     "execution_count": 6,
     "metadata": {},
     "output_type": "execute_result"
    }
   ],
   "source": [
    "type(1.0)"
   ]
  },
  {
   "cell_type": "code",
   "execution_count": 34,
   "id": "98792135",
   "metadata": {},
   "outputs": [
    {
     "data": {
      "text/plain": [
       "bool"
      ]
     },
     "execution_count": 34,
     "metadata": {},
     "output_type": "execute_result"
    }
   ],
   "source": [
    "type(a == 2)"
   ]
  },
  {
   "cell_type": "code",
   "execution_count": 12,
   "id": "12be5510",
   "metadata": {},
   "outputs": [
    {
     "name": "stdout",
     "output_type": "stream",
     "text": [
      "my name\n"
     ]
    }
   ],
   "source": [
    "name = 'my name'\n",
    "print(name)"
   ]
  },
  {
   "cell_type": "code",
   "execution_count": 13,
   "id": "f9418399",
   "metadata": {},
   "outputs": [
    {
     "data": {
      "text/plain": [
       "str"
      ]
     },
     "execution_count": 13,
     "metadata": {},
     "output_type": "execute_result"
    }
   ],
   "source": [
    "type(name)"
   ]
  },
  {
   "cell_type": "code",
   "execution_count": 14,
   "id": "90f8cf64",
   "metadata": {},
   "outputs": [
    {
     "ename": "NameError",
     "evalue": "name 'my_name' is not defined",
     "output_type": "error",
     "traceback": [
      "\u001b[1;31m---------------------------------------------------------------------------\u001b[0m",
      "\u001b[1;31mNameError\u001b[0m                                 Traceback (most recent call last)",
      "\u001b[1;32m~\\AppData\\Local\\Temp/ipykernel_3172/4277683291.py\u001b[0m in \u001b[0;36m<module>\u001b[1;34m\u001b[0m\n\u001b[1;32m----> 1\u001b[1;33m \u001b[0mmy_name\u001b[0m \u001b[1;31m# 변수명으로 인식, 없는 변수 > 에러\u001b[0m\u001b[1;33m\u001b[0m\u001b[1;33m\u001b[0m\u001b[0m\n\u001b[0m",
      "\u001b[1;31mNameError\u001b[0m: name 'my_name' is not defined"
     ]
    }
   ],
   "source": [
    "my_name # 변수명으로 인식, 없는 변수 > 에러"
   ]
  },
  {
   "cell_type": "code",
   "execution_count": 1,
   "id": "77505e1d",
   "metadata": {},
   "outputs": [
    {
     "name": "stdout",
     "output_type": "stream",
     "text": [
      "I'm Sam.\n",
      "I'm Sam.\n",
      "I\"m Sam.\n",
      "I\"m Sam.\n"
     ]
    }
   ],
   "source": [
    "# single quote 안에 single quote를 문자로 인식하는 방법\n",
    "#'I'm sam.'\n",
    "\n",
    "#1. 백슬레쉬 사용\n",
    "print('I\\'m Sam.')\n",
    "\n",
    "#2. \"\"사용\n",
    "print(\"I'm Sam.\")\n",
    "\n",
    "# double quote를 사용하는 경우에도 이와 동일하게 진행하면 된다.\n",
    "\n",
    "#1. 백슬레쉬 사용\n",
    "print(\"I\\\"m Sam.\")\n",
    "\n",
    "#2. \"\"사용\n",
    "print('I\"m Sam.')"
   ]
  },
  {
   "cell_type": "markdown",
   "id": "bf795b7f",
   "metadata": {},
   "source": [
    "### 변수명 정하기\n",
    "- 소문자, 대문자, 숫자, 언더바 사용\n",
    "예: 'name', ',my_name', 'name3'\n",
    "불가능한 예: 'my-name', '3name'\n",
    "\n",
    "- 변수로 사용할 수 없는 케이스\n",
    "1. 숫자로 시작할 수 없다.\n",
    "2. 예약어는 사용할 수 없다.\n",
    "→ 예약어란 'keyword'를 말하며 파이썬(3.7버전)에는 33개의 예약어가 있다. \n",
    "3. 어떤 문법을 위해 사용하는 단어(True, False)"
   ]
  },
  {
   "cell_type": "code",
   "execution_count": 16,
   "id": "2023f63a",
   "metadata": {},
   "outputs": [
    {
     "ename": "SyntaxError",
     "evalue": "invalid syntax (Temp/ipykernel_3172/1868589236.py, line 1)",
     "output_type": "error",
     "traceback": [
      "\u001b[1;36m  File \u001b[1;32m\"C:\\Users\\dong\\AppData\\Local\\Temp/ipykernel_3172/1868589236.py\"\u001b[1;36m, line \u001b[1;32m1\u001b[0m\n\u001b[1;33m    def = 'Hwang' #예약어는 변수명으로 사용할 수 없다.\u001b[0m\n\u001b[1;37m        ^\u001b[0m\n\u001b[1;31mSyntaxError\u001b[0m\u001b[1;31m:\u001b[0m invalid syntax\n"
     ]
    }
   ],
   "source": [
    "def = 'Hwang' #예약어는 변수명으로 사용할 수 없다."
   ]
  },
  {
   "cell_type": "markdown",
   "id": "610e4fe6",
   "metadata": {},
   "source": [
    "- 주의할 점 (특별한 용도가 있어서 일반적으로 사용하지 않는 변수명 타입)\n",
    "1.언더바로 시작하는 변수명\n",
    "(예: _name)\n",
    "2. 언더바가 2개 있는 변수명\n",
    "(예: _name_)\n",
    "3. 대문자로 시작하는 변수명\n",
    "(예: Car)\n",
    "4. 전체가 대문자인 변수명\n",
    "(예: CAR)"
   ]
  },
  {
   "cell_type": "code",
   "execution_count": 17,
   "id": "057820a9",
   "metadata": {},
   "outputs": [
    {
     "data": {
      "text/plain": [
       "'lee'"
      ]
     },
     "execution_count": 17,
     "metadata": {},
     "output_type": "execute_result"
    }
   ],
   "source": [
    "name = 'lee'\n",
    "name"
   ]
  },
  {
   "cell_type": "code",
   "execution_count": 18,
   "id": "a473c566",
   "metadata": {},
   "outputs": [
    {
     "ename": "SyntaxError",
     "evalue": "invalid syntax (Temp/ipykernel_3172/3522045974.py, line 1)",
     "output_type": "error",
     "traceback": [
      "\u001b[1;36m  File \u001b[1;32m\"C:\\Users\\dong\\AppData\\Local\\Temp/ipykernel_3172/3522045974.py\"\u001b[1;36m, line \u001b[1;32m1\u001b[0m\n\u001b[1;33m    3name = 'kim' # 숫자는 변수명 맨 앞에 쓸 수 없다.\u001b[0m\n\u001b[1;37m     ^\u001b[0m\n\u001b[1;31mSyntaxError\u001b[0m\u001b[1;31m:\u001b[0m invalid syntax\n"
     ]
    }
   ],
   "source": [
    "3name = 'kim' # 숫자는 변수명 맨 앞에 쓸 수 없다."
   ]
  },
  {
   "cell_type": "code",
   "execution_count": 19,
   "id": "d0b00b7e",
   "metadata": {},
   "outputs": [
    {
     "ename": "SyntaxError",
     "evalue": "invalid syntax (Temp/ipykernel_3172/3702995781.py, line 1)",
     "output_type": "error",
     "traceback": [
      "\u001b[1;36m  File \u001b[1;32m\"C:\\Users\\dong\\AppData\\Local\\Temp/ipykernel_3172/3702995781.py\"\u001b[1;36m, line \u001b[1;32m1\u001b[0m\n\u001b[1;33m    def = 'Hwang' # 예약어는 변수명으로 사용할 수 없다.\u001b[0m\n\u001b[1;37m        ^\u001b[0m\n\u001b[1;31mSyntaxError\u001b[0m\u001b[1;31m:\u001b[0m invalid syntax\n"
     ]
    }
   ],
   "source": [
    "def = 'Hwang' # 예약어는 변수명으로 사용할 수 없다."
   ]
  },
  {
   "cell_type": "code",
   "execution_count": 3,
   "id": "08eca1b6",
   "metadata": {},
   "outputs": [
    {
     "name": "stdout",
     "output_type": "stream",
     "text": [
      "Hwang\n"
     ]
    }
   ],
   "source": [
    "# 예약어와 유사하게 사용하는 방법\n",
    "Def = \"Hwang\"\n",
    "print(Def)\n",
    "# 예약어와 유사해도 예약어와 완전히 동일하지 않다면 사용 가능"
   ]
  },
  {
   "cell_type": "code",
   "execution_count": 20,
   "id": "219e4850",
   "metadata": {},
   "outputs": [
    {
     "name": "stdout",
     "output_type": "stream",
     "text": [
      "\n",
      "Here is a list of the Python keywords.  Enter any keyword to get more help.\n",
      "\n",
      "False               break               for                 not\n",
      "None                class               from                or\n",
      "True                continue            global              pass\n",
      "__peg_parser__      def                 if                  raise\n",
      "and                 del                 import              return\n",
      "as                  elif                in                  try\n",
      "assert              else                is                  while\n",
      "async               except              lambda              with\n",
      "await               finally             nonlocal            yield\n",
      "\n"
     ]
    }
   ],
   "source": [
    "help(\"keywords\")"
   ]
  },
  {
   "cell_type": "markdown",
   "id": "cc955661",
   "metadata": {},
   "source": [
    "- 주의할 점 (특별한 용도가 있어서 일반적으로 사용하지 안흔 변수명 타입)\n",
    "1. 언더바로 시작하는 변수명 예: _name\n",
    "2. 언더바가 2개 있는 변수명 예: __name\n",
    "3. 대문자로 시작하는 변수명 예: Car\n",
    "4.전체가 대문자인 변수명 예: CAR"
   ]
  },
  {
   "cell_type": "code",
   "execution_count": 22,
   "id": "7466bec2",
   "metadata": {},
   "outputs": [],
   "source": [
    "# number != Number\n",
    "word1 = 'number'\n",
    "word2 = 'Number'"
   ]
  },
  {
   "cell_type": "code",
   "execution_count": 23,
   "id": "5bcb26f3",
   "metadata": {},
   "outputs": [
    {
     "data": {
      "text/plain": [
       "False"
      ]
     },
     "execution_count": 23,
     "metadata": {},
     "output_type": "execute_result"
    }
   ],
   "source": [
    "word1 == word2 # 대소문자 구분한다"
   ]
  },
  {
   "cell_type": "code",
   "execution_count": 24,
   "id": "5150a1bd",
   "metadata": {},
   "outputs": [
    {
     "data": {
      "text/plain": [
       "True"
      ]
     },
     "execution_count": 24,
     "metadata": {},
     "output_type": "execute_result"
    }
   ],
   "source": [
    "word1 != word2"
   ]
  },
  {
   "cell_type": "markdown",
   "id": "2ee725db",
   "metadata": {},
   "source": [
    "### 할당하기\n",
    "- 수학에서는 =가 양변이 같음을 의미하는데, 프로그램에서는 할당을 의미한다.\n",
    "예: 'name' = 'lee'\n",
    "lee라는 값을 name에 넣는것.\n",
    "- 오른쪽에 있는 모든 것은 값을 가져야 한다.(\"초기화\")\n",
    "- 변수 타입은 따로 지정하지 않는다.\n",
    "지정해주는 언어도 있지만 파이썬은 따로 지정하지 않는다.\n",
    "\n"
   ]
  },
  {
   "cell_type": "code",
   "execution_count": 25,
   "id": "fc9f5532",
   "metadata": {},
   "outputs": [],
   "source": [
    "car = 'hyundai'"
   ]
  },
  {
   "cell_type": "code",
   "execution_count": 26,
   "id": "6575451a",
   "metadata": {},
   "outputs": [],
   "source": [
    "kia = 'kia'\n",
    "truck = kia"
   ]
  },
  {
   "cell_type": "code",
   "execution_count": 27,
   "id": "3f083e1b",
   "metadata": {},
   "outputs": [
    {
     "name": "stdout",
     "output_type": "stream",
     "text": [
      "2 12\n"
     ]
    }
   ],
   "source": [
    "x =2\n",
    "y = x + 10\n",
    "print(x, y)"
   ]
  },
  {
   "cell_type": "code",
   "execution_count": 28,
   "id": "9979f9eb",
   "metadata": {},
   "outputs": [
    {
     "data": {
      "text/plain": [
       "str"
      ]
     },
     "execution_count": 28,
     "metadata": {},
     "output_type": "execute_result"
    }
   ],
   "source": [
    "type(car) # str"
   ]
  },
  {
   "cell_type": "code",
   "execution_count": 29,
   "id": "fdef6d0c",
   "metadata": {},
   "outputs": [],
   "source": [
    "# str car = 'kia';\n",
    "car = 'kia'"
   ]
  },
  {
   "cell_type": "code",
   "execution_count": 30,
   "id": "607a4951",
   "metadata": {},
   "outputs": [
    {
     "data": {
      "text/plain": [
       "'kia'"
      ]
     },
     "execution_count": 30,
     "metadata": {},
     "output_type": "execute_result"
    }
   ],
   "source": [
    "car"
   ]
  },
  {
   "cell_type": "code",
   "execution_count": null,
   "id": "2dabb870",
   "metadata": {},
   "outputs": [],
   "source": [
    "# 할당시 유의할 점\n",
    "# 코드를 작성하는 과정에서 할당을 사용할 때 의미있는 할당 값을 사용하는게 좋다.\n",
    "# a = 'kim' 보다는 user_name = 'kim'과 같은 무엇을 할당해줬는지 나타나는 값을 보여주는 할당이 좋다.\n"
   ]
  }
 ],
 "metadata": {
  "kernelspec": {
   "display_name": "Python 3 (ipykernel)",
   "language": "python",
   "name": "python3"
  },
  "language_info": {
   "codemirror_mode": {
    "name": "ipython",
    "version": 3
   },
   "file_extension": ".py",
   "mimetype": "text/x-python",
   "name": "python",
   "nbconvert_exporter": "python",
   "pygments_lexer": "ipython3",
   "version": "3.9.7"
  }
 },
 "nbformat": 4,
 "nbformat_minor": 5
}
