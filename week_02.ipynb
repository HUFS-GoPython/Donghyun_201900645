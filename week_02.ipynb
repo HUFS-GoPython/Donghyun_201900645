{
 "cells": [
  {
   "cell_type": "markdown",
   "id": "c1e1afd9",
   "metadata": {},
   "source": [
    "### Ch02. 자료형\n",
    "- 자료형 종류: int, str, float, bool\n",
    "- 자료형 변환하기\n",
    "-> int → bool(어떤경우가 false냐가 더 적다)\n",
    "-> float → int(소수점의 경우 실수에서 정수로 변환시 버려짐)\n",
    "-> str → int(문자열이 정수로 변환이 가능한 경우에만 가능)"
   ]
  },
  {
   "cell_type": "code",
   "execution_count": 1,
   "id": "13b43732",
   "metadata": {},
   "outputs": [
    {
     "data": {
      "text/plain": [
       "10"
      ]
     },
     "execution_count": 1,
     "metadata": {},
     "output_type": "execute_result"
    }
   ],
   "source": [
    "# 소수점의 경우 실수에서 정수로 변환시 버려짐\n",
    "int(10.6)"
   ]
  },
  {
   "cell_type": "markdown",
   "id": "e45a91a8",
   "metadata": {},
   "source": [
    "#### float 값 계산\n",
    "- float값의 경우 계산시 int로 전환하느냐의 여부에 따라 값이 달라질 수 있음"
   ]
  },
  {
   "cell_type": "code",
   "execution_count": 2,
   "id": "7a7f9dd0",
   "metadata": {},
   "outputs": [
    {
     "name": "stdout",
     "output_type": "stream",
     "text": [
      "12\n",
      "11\n"
     ]
    }
   ],
   "source": [
    "x = 4.6\n",
    "y = 7.9\n",
    "\n",
    "print(int(x + y)) # 12.xx -> 소수점 자리에 대한 계산까지 해줌\n",
    "print(int(x)+ int(y)) # 4 + 7 -> 소수점을 버리고 계산을 함"
   ]
  },
  {
   "cell_type": "markdown",
   "id": "e90fdfa4",
   "metadata": {},
   "source": [
    "### print() 관련 꿀팁\n"
   ]
  },
  {
   "cell_type": "code",
   "execution_count": 3,
   "id": "d7232697",
   "metadata": {},
   "outputs": [
    {
     "name": "stdout",
     "output_type": "stream",
     "text": [
      "orangeappletomato\n",
      "orangeappletomato\n",
      "orange_apple_tomato\n",
      "orange,apple,tomato\n"
     ]
    }
   ],
   "source": [
    "# 1. sep으로 문장 나누기\n",
    "orange = 'orange'\n",
    "apple = 'apple'\n",
    "tomato = 'tomato'\n",
    "\n",
    "print(orange + apple + tomato) # + 연결 가능하지만 원소들간의 공백 사라진다\n",
    "print(orange, apple, tomato, sep='') # default\n",
    "print(orange, apple, tomato, sep='_')\n",
    "print(orange, apple, tomato, sep=\",\")"
   ]
  },
  {
   "cell_type": "code",
   "execution_count": 4,
   "id": "2bff4838",
   "metadata": {},
   "outputs": [
    {
     "name": "stdout",
     "output_type": "stream",
     "text": [
      "orange\n"
     ]
    }
   ],
   "source": [
    "# 2. ';'를 사용하여 코드를 한줄로 표시하기\n",
    "\"\"\"orange = 'orange'\n",
    "apple = 'apple' \n",
    "tomato = 'tomato'를 한줄로 표시\"\"\"\n",
    "orange = 'orange';apple = 'apple' ;tomato = 'tomato'\n",
    "print(orange)"
   ]
  },
  {
   "cell_type": "code",
   "execution_count": 2,
   "id": "ebfc2c3b",
   "metadata": {},
   "outputs": [
    {
     "name": "stdout",
     "output_type": "stream",
     "text": [
      "철수의 내년 나이는 18입니다.\n"
     ]
    }
   ],
   "source": [
    "# 3. f와 {}을 사용하여 프린팅하는 방법\n",
    "age = 17\n",
    "print(f'철수의 내년 나이는 {age + 1}입니다.')\n",
    "# 내년 나이에 대한 변수를 따로 만들 필요가 없다"
   ]
  },
  {
   "cell_type": "markdown",
   "id": "0d872006",
   "metadata": {},
   "source": [
    "### input() 함수\n",
    "- console에서 사용자에게 값을 입력 받는 함수\n",
    "- 입력 받는 값의 타입은 문자열(str)\n",
    "- 숫자를 입력 받고 싶은 경우 자료형 변환이 필요"
   ]
  },
  {
   "cell_type": "code",
   "execution_count": 5,
   "id": "52341765",
   "metadata": {},
   "outputs": [
    {
     "name": "stdout",
     "output_type": "stream",
     "text": [
      "What is your name?KIM\n"
     ]
    }
   ],
   "source": [
    "# name이라는 변수에 값을 입력 받는 상황\n",
    "name = input('What is your name?')"
   ]
  },
  {
   "cell_type": "code",
   "execution_count": 1,
   "id": "d68cf8d2",
   "metadata": {},
   "outputs": [
    {
     "name": "stdout",
     "output_type": "stream",
     "text": [
      "How old are you?17\n"
     ]
    }
   ],
   "source": [
    "# 입력을 정수형과 같이 문자열이 아닌 경우로 받고 싶은 경우는 자료형 변환이 필요\n",
    "age = int(input('How old are you?'))"
   ]
  },
  {
   "cell_type": "markdown",
   "id": "a09d84eb",
   "metadata": {},
   "source": [
    "### Quiz 1\n",
    "- 택배 정보를 입력 받고 무게에 따른 값 산정하기\n",
    "  - 수취인 성명:\n",
    "  - 수취인 주소:\n",
    "  - 배송비: 3000원\n",
    "  - 물건 비용: <계산된 값>원\n",
    "  - 총 합계: <계산된 값>원\n",
    "- 물건비용은 무게(g) * 5\n",
    "- 입력 값 = 이름,주소,무게"
   ]
  },
  {
   "cell_type": "code",
   "execution_count": 3,
   "id": "d3af0891",
   "metadata": {},
   "outputs": [
    {
     "name": "stdout",
     "output_type": "stream",
     "text": [
      "수취인 성명: 김동현\n",
      "수취인 주소: 이문동\n",
      "배송비: 3000\n",
      "물건의 무게: 300\n",
      "수취인 성명: 김동현\n",
      "수취인 주소: 이문동\n",
      "배송비: 3000\n",
      "물건비용: 1500원\n",
      "총 합계: 4500원\n"
     ]
    }
   ],
   "source": [
    "name = input('수취인 성명: ')\n",
    "address = input('수취인 주소: ')\n",
    "cost_deliv = int(input('배송비: '))\n",
    "weight = int(input('물건의 무게: '))\n",
    "\n",
    "print(f'수취인 성명: {name}')\n",
    "print(f'수취인 주소: {address}')\n",
    "print(f'배송비: {cost_deliv}')\n",
    "print(f'물건비용: {weight * 5}원')\n",
    "print(f'총 합계: {weight * 5 + 3000}원')"
   ]
  },
  {
   "cell_type": "markdown",
   "id": "b972683c",
   "metadata": {},
   "source": [
    "### Quiz 2\n",
    "- 섭씨를 입력 받아 화씨로 변환하기\n",
    "- 섭씨 * 1.8 + 32 = 화씨"
   ]
  },
  {
   "cell_type": "code",
   "execution_count": 4,
   "id": "b5175d22",
   "metadata": {},
   "outputs": [
    {
     "name": "stdout",
     "output_type": "stream",
     "text": [
      "섭씨를 입력해주세요: 34\n",
      "화씨는 93.2도 입니다.\n"
     ]
    }
   ],
   "source": [
    "celsius = float(input('섭씨를 입력해주세요: '))\n",
    "fahrenheit = celsius * 1.8 + 32\n",
    "print(f\"화씨는 {fahrenheit}도 입니다.\")"
   ]
  },
  {
   "cell_type": "markdown",
   "id": "266742c6",
   "metadata": {},
   "source": [
    "### Ch03. Num"
   ]
  },
  {
   "cell_type": "markdown",
   "id": "0fda5dcf",
   "metadata": {},
   "source": [
    "### boolean(논리형)\n",
    "- True / False -> True와 False를 제외한 값을 갖지 않는다\n",
    "- if문(조건식)은 'True'를 가정하고 진행된다"
   ]
  },
  {
   "cell_type": "code",
   "execution_count": 5,
   "id": "4acf1243",
   "metadata": {},
   "outputs": [
    {
     "data": {
      "text/plain": [
       "False"
      ]
     },
     "execution_count": 5,
     "metadata": {},
     "output_type": "execute_result"
    }
   ],
   "source": [
    "# 비어있는 모든 값은 'False'로 생각\n",
    "bool(0)\n",
    "bool(None)\n",
    "bool('')"
   ]
  },
  {
   "cell_type": "markdown",
   "id": "ceb3bfe2",
   "metadata": {},
   "source": [
    "### Integer(정수형)\n",
    "- 분수나 소수가 아닌 정수\n",
    "- 음수는 '-'기호를 붙인다\n",
    "- 숫자 앞에는 0을 쓰지 못한다 ex) 09\n",
    "- 숫자 사이에 ','나 '_'등은 인식하지 못한다"
   ]
  },
  {
   "cell_type": "code",
   "execution_count": 6,
   "id": "8e85a02b",
   "metadata": {},
   "outputs": [
    {
     "ename": "SyntaxError",
     "evalue": "leading zeros in decimal integer literals are not permitted; use an 0o prefix for octal integers (Temp/ipykernel_21668/1106146124.py, line 1)",
     "output_type": "error",
     "traceback": [
      "\u001b[1;36m  File \u001b[1;32m\"C:\\Users\\dong\\AppData\\Local\\Temp/ipykernel_21668/1106146124.py\"\u001b[1;36m, line \u001b[1;32m1\u001b[0m\n\u001b[1;33m    a = 05\u001b[0m\n\u001b[1;37m         ^\u001b[0m\n\u001b[1;31mSyntaxError\u001b[0m\u001b[1;31m:\u001b[0m leading zeros in decimal integer literals are not permitted; use an 0o prefix for octal integers\n"
     ]
    }
   ],
   "source": [
    "a = 05 # 숫자 앞에 0이 올 경우 오류 발생"
   ]
  },
  {
   "cell_type": "code",
   "execution_count": 7,
   "id": "ca99242e",
   "metadata": {},
   "outputs": [
    {
     "data": {
      "text/plain": [
       "tuple"
      ]
     },
     "execution_count": 7,
     "metadata": {},
     "output_type": "execute_result"
    }
   ],
   "source": [
    "b = 213,465\n",
    "type(b)\n",
    "# 'b = 213.465'를 하나의 숫자로 보는 것이 아닌 '213'과 '465' 두 숫자로 인식"
   ]
  },
  {
   "cell_type": "markdown",
   "id": "a726e63b",
   "metadata": {},
   "source": [
    "### 연산자\n",
    "1.정수 연산자\n",
    "- + -> 더하기\n",
    "- - -> 빼기\n",
    "- * -> 곱하기\n",
    "- / -> 나누기(몫과 나머지)\n",
    "- // -> 몫\n",
    "- % -> 나머지\n",
    "- ** -> 거듭제곱\n",
    "\n",
    "2. 복합 대입 연산자\n",
    "- 복합 대입 연산자는 복합과 대입을 동시에 할수 있게 해주는 연산자\n",
    "- 'a = a + 3'과 같은 형태\n",
    "- +,-,/,* 등 모든 연산자에 대해 가능하다\n",
    "\n",
    "3. 비교 연산자\n",
    "- x < y (y는 x보다 크다)\n",
    "- x > y (x는 y보다 크다)\n",
    "- x >= y (x는 y보다 크거나 같다)\n",
    "- x <= y (y는 x보다 크거나 같다)\n",
    "- x == y (값이) -> 할당과는 다르다\n",
    "- x != y (x는 y가 아니다)\n",
    "- x is y (값,메모리주소)\n",
    "- x is not y"
   ]
  },
  {
   "cell_type": "code",
   "execution_count": 8,
   "id": "c387404a",
   "metadata": {},
   "outputs": [
    {
     "data": {
      "text/plain": [
       "2401"
      ]
     },
     "execution_count": 8,
     "metadata": {},
     "output_type": "execute_result"
    }
   ],
   "source": [
    "# 거듭제곱 예시\n",
    "a = 7\n",
    "b =4\n",
    "a ** b\n",
    "# 앞에 수를 뒤에 횟수 만큼 거듭제곱한다"
   ]
  },
  {
   "cell_type": "code",
   "execution_count": 9,
   "id": "67fc96e6",
   "metadata": {},
   "outputs": [
    {
     "data": {
      "text/plain": [
       "(1, 3)"
      ]
     },
     "execution_count": 9,
     "metadata": {},
     "output_type": "execute_result"
    }
   ],
   "source": [
    "# divmod(a,b)함수 = /\n",
    "# a / b의 연산을 구해주는 함수\n",
    "divmod(a,b) # a / b와 같은 값을 추출함"
   ]
  },
  {
   "cell_type": "code",
   "execution_count": 10,
   "id": "a893a737",
   "metadata": {},
   "outputs": [
    {
     "data": {
      "text/plain": [
       "17"
      ]
     },
     "execution_count": 10,
     "metadata": {},
     "output_type": "execute_result"
    }
   ],
   "source": [
    "# 계산식에 있어서 공백은 무시하고 계산한다\n",
    "10 + 2 +                5"
   ]
  },
  {
   "cell_type": "code",
   "execution_count": 11,
   "id": "c51ee088",
   "metadata": {},
   "outputs": [
    {
     "name": "stdout",
     "output_type": "stream",
     "text": [
      "4\n"
     ]
    }
   ],
   "source": [
    "# 복합 대입 연산자\n",
    "a = 5\n",
    "a += 5 # a = 5 + 5 = 10\n",
    "a -= 2 # a = 10 - 2 = 8\n",
    "a *= 2 # a = 8 * 2 = 16\n",
    "a //= 4 # a = 16 // 4 = 4\n",
    "print(a)"
   ]
  },
  {
   "cell_type": "code",
   "execution_count": 17,
   "id": "4ce21b87",
   "metadata": {},
   "outputs": [
    {
     "data": {
      "text/plain": [
       "True"
      ]
     },
     "execution_count": 17,
     "metadata": {},
     "output_type": "execute_result"
    }
   ],
   "source": [
    "bool(3 != 4)"
   ]
  },
  {
   "cell_type": "code",
   "execution_count": 18,
   "id": "64816e08",
   "metadata": {},
   "outputs": [
    {
     "data": {
      "text/plain": [
       "False"
      ]
     },
     "execution_count": 18,
     "metadata": {},
     "output_type": "execute_result"
    }
   ],
   "source": [
    "bool(3 != 3)"
   ]
  },
  {
   "cell_type": "markdown",
   "id": "adfd2fa5",
   "metadata": {},
   "source": [
    "### 지수 표현 \n",
    "- 'e'와 'E'를 사용함 -> 둘을 구분하지는 않음\n",
    "- 보통 큰수를 표현하기 위해 사용\n",
    "- 예: '1.0e-4'\n",
    "- e의 앞부분은 소수, 정수 둘다 됨\n",
    "- 뒷부분은 정수여야 함\n",
    "- 뒷부분이 음수면 소수점 자릿수를 의미함"
   ]
  },
  {
   "cell_type": "code",
   "execution_count": 12,
   "id": "03bfbd5d",
   "metadata": {},
   "outputs": [
    {
     "data": {
      "text/plain": [
       "10000.0"
      ]
     },
     "execution_count": 12,
     "metadata": {},
     "output_type": "execute_result"
    }
   ],
   "source": [
    "1.0e4"
   ]
  },
  {
   "cell_type": "code",
   "execution_count": 13,
   "id": "0e742436",
   "metadata": {},
   "outputs": [
    {
     "data": {
      "text/plain": [
       "10000.0"
      ]
     },
     "execution_count": 13,
     "metadata": {},
     "output_type": "execute_result"
    }
   ],
   "source": [
    "1.0E4"
   ]
  },
  {
   "cell_type": "code",
   "execution_count": 14,
   "id": "989edc1e",
   "metadata": {},
   "outputs": [
    {
     "data": {
      "text/plain": [
       "0.0004005"
      ]
     },
     "execution_count": 14,
     "metadata": {},
     "output_type": "execute_result"
    }
   ],
   "source": [
    "# 지수 표현의 경우 다양하게 나타날 수 있음\n",
    "# 0.0004005 => 지수로 표현하기\n",
    "4005e-7 # 4.005e-4, 0.004005E-1"
   ]
  },
  {
   "cell_type": "markdown",
   "id": "c5efc095",
   "metadata": {},
   "source": [
    "### Quiz 1.\n",
    "- 반지름을 입력 받아서 원의 면적을 구하기\n",
    "- 면적 = pi * r제곱\n",
    "\n",
    "### Quiz 2.\n",
    "- 숫자를 입력 받고 3의 배수인지 확인하기"
   ]
  },
  {
   "cell_type": "code",
   "execution_count": 15,
   "id": "1e95ac77",
   "metadata": {},
   "outputs": [
    {
     "name": "stdout",
     "output_type": "stream",
     "text": [
      "원의 반지름을 입력하시오: 5\n",
      "원의 면적은 78.5입니다.\n"
     ]
    }
   ],
   "source": [
    "half = int(input('원의 반지름을 입력하시오: '))\n",
    "pi = 3.14\n",
    "print(f'원의 면적은 {round((pi * (half ** 2)), 2)}입니다.')"
   ]
  },
  {
   "cell_type": "code",
   "execution_count": 16,
   "id": "2a7d2778",
   "metadata": {},
   "outputs": [
    {
     "name": "stdout",
     "output_type": "stream",
     "text": [
      "숫자를 입력하시오: 5\n",
      "3의 배수가 아닙니다.\n"
     ]
    }
   ],
   "source": [
    "num = int(input('숫자를 입력하시오: '))\n",
    "if num % 3 == 0 and num > 0:\n",
    "    print('3의 배수입니다.')\n",
    "else:\n",
    "    print('3의 배수가 아닙니다.')"
   ]
  },
  {
   "cell_type": "markdown",
   "id": "5626a6f0",
   "metadata": {},
   "source": [
    "### Ch04. IF 조건문"
   ]
  },
  {
   "cell_type": "markdown",
   "id": "d791043a",
   "metadata": {},
   "source": [
    "### 코드 짜는 팁\n",
    "- 주석 다는 법\n",
    "-> #을 사용하여 주석을 달수 있음\n",
    "-> 문자열 안에 있는 #은 문자로 인식됨\n",
    "-> 코드에 대한 설명은 최대한 하지 않는다\n",
    "\n",
    "- 라인 유지하기\n",
    "-> 들여쓰기(space 4개 =  Tab 1개)\n",
    "-> if 조건문과 같이 논리구조에서 매우 중요\n",
    "-> 한 라인에 80자 정도 "
   ]
  },
  {
   "cell_type": "code",
   "execution_count": 19,
   "id": "695c62ff",
   "metadata": {},
   "outputs": [
    {
     "name": "stdout",
     "output_type": "stream",
     "text": [
      "3\n"
     ]
    }
   ],
   "source": [
    "# 긴 주석을 다는 방법 -> '#'이 필요없다\n",
    "a = 3 \n",
    "\"\"\"주석1\n",
    "주석2\n",
    "주석3\"\"\"\n",
    "print(a)"
   ]
  },
  {
   "cell_type": "code",
   "execution_count": 20,
   "id": "e3b2f2d8",
   "metadata": {},
   "outputs": [
    {
     "name": "stdout",
     "output_type": "stream",
     "text": [
      "오늘의 날씨는 #맑다\n"
     ]
    }
   ],
   "source": [
    "# 문자열 내부의 '#'은 문자로 인식된다\n",
    "print('오늘의 날씨는 #맑다')"
   ]
  },
  {
   "cell_type": "markdown",
   "id": "6cc4515c",
   "metadata": {},
   "source": [
    "### if문의 구조\n",
    "- 조건식의 실행할 코드는 반드시 탭으로 띄어져 있어야함\n",
    "- 조건식이 참이 될 경우에만 실행할 코드를 실행"
   ]
  },
  {
   "cell_type": "code",
   "execution_count": 21,
   "id": "279f4c8f",
   "metadata": {},
   "outputs": [
    {
     "name": "stdout",
     "output_type": "stream",
     "text": [
      "두수는 같지 않다\n",
      "두수는 같지 않다\n",
      "3보다 크다\n"
     ]
    }
   ],
   "source": [
    "# 조건이 1개인 경우 -> 'if'만을 사용\n",
    "\"\"\"if <조건식> : \n",
    "    <실행할 코드>\"\"\"\n",
    "\n",
    "if 3 != 1:\n",
    "    print('두수는 같지 않다')\n",
    "    \n",
    "# 조건이 2개인 경우 -> 'if'와 'else'를 사용\n",
    "\"\"\"if <조건식>:\n",
    "    <실행할 코드1>\n",
    "else:\n",
    "    <실행할 코드2>\"\"\"\n",
    "\n",
    "if 3 != 1:\n",
    "    print('두수는 같지 않다')\n",
    "else:\n",
    "    print('두수는 같다')\n",
    "\n",
    "# 조건이 3개 이상인 경우 -> 'if','elif','else'를 사용\n",
    "\"\"\"if <조건식>:\n",
    "    <실행할 코드1>\n",
    "elif:\n",
    "    <실행할 코드2>\n",
    "else: \n",
    "    <실행할 코드3>\"\"\"\n",
    "\n",
    "a = 4\n",
    "if a < 3:\n",
    "    print('3보다 작다')\n",
    "elif a == 3:\n",
    "    print('3이다')\n",
    "else:\n",
    "    print('3보다 크다')\n"
   ]
  },
  {
   "cell_type": "code",
   "execution_count": 22,
   "id": "e37a5dd4",
   "metadata": {},
   "outputs": [
    {
     "ename": "SyntaxError",
     "evalue": "invalid syntax (Temp/ipykernel_21668/2497420425.py, line 4)",
     "output_type": "error",
     "traceback": [
      "\u001b[1;36m  File \u001b[1;32m\"C:\\Users\\dong\\AppData\\Local\\Temp/ipykernel_21668/2497420425.py\"\u001b[1;36m, line \u001b[1;32m4\u001b[0m\n\u001b[1;33m    elif:\u001b[0m\n\u001b[1;37m        ^\u001b[0m\n\u001b[1;31mSyntaxError\u001b[0m\u001b[1;31m:\u001b[0m invalid syntax\n"
     ]
    }
   ],
   "source": [
    "# 조건이 2가지일 경우 else가 아닌 elif를 사용할 수 없다\n",
    "if 3 != 1:\n",
    "    print('두수는 같지 않다')\n",
    "elif:\n",
    "    print('두수는 같다')"
   ]
  },
  {
   "cell_type": "code",
   "execution_count": 23,
   "id": "281255e8",
   "metadata": {},
   "outputs": [],
   "source": [
    "# 3개의 if문을 별개로 생각해서 하나씩 판별하여 모두 아니기 때문에 아무것도 출력하지 않는다.\n",
    "if a < 3:\n",
    "    print('3보다 작다')\n",
    "if a == 3:\n",
    "    print('3이다')\n",
    "if a > 4:\n",
    "    print('3보다 크다')"
   ]
  },
  {
   "cell_type": "markdown",
   "id": "f073b87b",
   "metadata": {},
   "source": [
    "### Quiz 1,2번\n",
    "- 1. 시험 점수를 입력 받고, 80점 이상이면 True, 아니면 False 반환하기\n",
    "- 2. 시험 점수를 입력 받고, 95이상 A+, 90이상 A, 85이상 B+, 나머지 F로 출력하세요."
   ]
  },
  {
   "cell_type": "code",
   "execution_count": 24,
   "id": "455a6cdf",
   "metadata": {},
   "outputs": [
    {
     "name": "stdout",
     "output_type": "stream",
     "text": [
      "시험 점수를 입력하시오: 56\n",
      "False\n"
     ]
    }
   ],
   "source": [
    "# 퀴즈 1번.\n",
    "test_score = int(input('시험 점수를 입력하시오: '))\n",
    "if test_score >= 80:\n",
    "    print(\"True\")\n",
    "else:\n",
    "    print(\"False\")"
   ]
  },
  {
   "cell_type": "code",
   "execution_count": 25,
   "id": "c4ba513b",
   "metadata": {},
   "outputs": [
    {
     "name": "stdout",
     "output_type": "stream",
     "text": [
      "시험 점수를 입력하시오: 96\n",
      "A+\n"
     ]
    }
   ],
   "source": [
    "# 퀴즈 2번.\n",
    "test_score = int(input('시험 점수를 입력하시오: '))\n",
    "if test_score >= 95:\n",
    "    print('A+')\n",
    "elif test_score >= 90 and test_score < 95:\n",
    "    print('A')\n",
    "elif test_score >= 85 and test_score < 90:\n",
    "    print('B+')\n",
    "else:\n",
    "    print('F')"
   ]
  },
  {
   "cell_type": "markdown",
   "id": "30c253ab",
   "metadata": {},
   "source": [
    "### Quiz 3번\n",
    "- 학점 부여하기\n",
    "- 점수를 입력 받아서\n",
    "- 90점 이상이면 A\n",
    "- 80점 이상이면 B\n",
    "- 70점 이상이면 C\n",
    "- 그 외일 경우 D"
   ]
  },
  {
   "cell_type": "code",
   "execution_count": 27,
   "id": "00096c59",
   "metadata": {},
   "outputs": [
    {
     "name": "stdout",
     "output_type": "stream",
     "text": [
      "점수를 입력하시오: 71\n",
      "C학점입니다.\n"
     ]
    }
   ],
   "source": [
    "# 퀴즈 3번.\n",
    "score = int(input('점수를 입력하시오: '))\n",
    "if score >= 90:\n",
    "    print(\"A학점입니다.\")\n",
    "elif score >= 80:\n",
    "    print(\"B학점입니다.\")\n",
    "elif score >= 70:\n",
    "    print(\"C학점입니다.\")\n",
    "else:\n",
    "    print(\"D학점입니다.\")   "
   ]
  },
  {
   "cell_type": "markdown",
   "id": "4fef5a46",
   "metadata": {},
   "source": [
    "### Quiz 4번\n",
    "- 아이디와 비밀번호 입력 받아서 둘다 일치하면 로그인하기\n",
    "- 아이디, 비밀번호 각자 정해놓기\n",
    "- 일치하지 않을 때에는 창의적으로 어떤 값으로 반환하기"
   ]
  },
  {
   "cell_type": "code",
   "execution_count": 32,
   "id": "52ec899c",
   "metadata": {},
   "outputs": [
    {
     "name": "stdout",
     "output_type": "stream",
     "text": [
      "아이디를 입력하시오:dfsaf\n",
      "가입되어 있지 않는 아이디입니다.\n"
     ]
    }
   ],
   "source": [
    "# 퀴즈 4번.\n",
    "answer_id = 'python01'\n",
    "answer_password = 'python02'\n",
    "\n",
    "guess_id = input('아이디를 입력하시오:')\n",
    "\n",
    "if guess_id == answer_id:\n",
    "    guess_password = input('비밀번호를 입력하시오:')\n",
    "    if guess_password == answer_password:\n",
    "        print('로그인 되었습니다.')\n",
    "    else:\n",
    "        print('비밀번호가 일치하지 않습니다.')\n",
    "else:\n",
    "    print('가입되어 있지 않는 아이디입니다.')"
   ]
  },
  {
   "cell_type": "markdown",
   "id": "4fcd6087",
   "metadata": {},
   "source": [
    "### Quiz 5번\n",
    "- quiz 2 확장판\n",
    "- 결석 횟수를 받아서 점수가 80점 이상인데 결석이 2번 이상이면 F, 나머지는 그대로\n",
    "- 논리 연산자 사용하거나 if 구조를 크게 2번 가져갈 수 있다."
   ]
  },
  {
   "cell_type": "code",
   "execution_count": 35,
   "id": "b63f1693",
   "metadata": {},
   "outputs": [
    {
     "name": "stdout",
     "output_type": "stream",
     "text": [
      "시험 점수를 입력하시오: 87\n",
      "결석 횟수를 입력하시오: 2\n",
      "F\n"
     ]
    }
   ],
   "source": [
    "test_score = int(input('시험 점수를 입력하시오: '))\n",
    "absense_time = int(input('결석 횟수를 입력하시오: '))\n",
    "if test_score >= 90:\n",
    "    grade = 'A'\n",
    "elif test_score >= 80 and test_score < 90:\n",
    "    grade = 'B'\n",
    "elif test_score >= 70 and test_score < 80:\n",
    "    grade = 'C'\n",
    "else:\n",
    "    grade = 'D'\n",
    "    \n",
    "if test_score >= 80:\n",
    "    if absense_time >= 2:\n",
    "        grade ='F'\n",
    "print(grade)"
   ]
  }
 ],
 "metadata": {
  "kernelspec": {
   "display_name": "Python 3 (ipykernel)",
   "language": "python",
   "name": "python3"
  },
  "language_info": {
   "codemirror_mode": {
    "name": "ipython",
    "version": 3
   },
   "file_extension": ".py",
   "mimetype": "text/x-python",
   "name": "python",
   "nbconvert_exporter": "python",
   "pygments_lexer": "ipython3",
   "version": "3.9.7"
  }
 },
 "nbformat": 4,
 "nbformat_minor": 5
}
