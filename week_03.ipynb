{
 "cells": [
  {
   "cell_type": "markdown",
   "id": "db7986fc",
   "metadata": {},
   "source": [
    "### 중첩조건문\n",
    "- if 블록 안에 또다른 if 블록이 있는 경우\n",
    "- 들여쓰기로 논리를 구분한다.\n",
    "- 어쩔수 없는 상황에만 사용한다."
   ]
  },
  {
   "cell_type": "code",
   "execution_count": null,
   "id": "017f3b29",
   "metadata": {},
   "outputs": [],
   "source": [
    "x = 0\n",
    "\n",
    "# 안 좋은 예시\n",
    "\n",
    "if x > 0:\n",
    "    if x < 10: # '0 < x < 10'으로 한줄로 표현 가능\n",
    "        print('Block A')\n",
    "    else:\n",
    "        print('Block B')\n",
    "else:\n",
    "    print('Block c')\n",
    "    \n",
    "# 좋은 예시 1\n",
    "if (x > 0) and (x < 10): # 'and' 논리연산자를 이용\n",
    "    print('block a')\n",
    "else:\n",
    "    print('block b')\n",
    "    \n",
    "# 좋은 예시 2\n",
    "if 0 < x < 10:\n",
    "    print('block a')\n",
    "else:\n",
    "    print('block b')"
   ]
  },
  {
   "cell_type": "markdown",
   "id": "a50a7c17",
   "metadata": {},
   "source": [
    "### 논리연산자\n",
    "- 비교연산자를 여러번 사용해야 할 때 코드를 간편하게 해줌\n",
    "- and, or, not\n",
    "    - A and B: A도 참이고, B도 참일 때 True\n",
    "    -> A와 B 중 하나만 참일 때는 False\n",
    "        - 예: A and b = A & B\n",
    "    - A or B: A 혹은 B, 둘중 하나만 참이면 True\n",
    "    -> A와 B 모두 참일 때도 True\n",
    "    -> A와 B 모두 거짓일 경우는 False\n",
    "        - 예: A | B = A or B\n",
    "    - not A: A가 False -> True, True -> False\n",
    "    -> not 뒤에 오는 부분에 따라 True or False가 정해짐\n",
    "- 코드의 가독성을 높이기 위해 논리연산자로 연결되는 비교연산자를 괄호로 묶음\n",
    "- 비교연산자를 한번에 둘다 사용하는 것은 파이썬에서만 가능한 표현: 0 < x < 10"
   ]
  },
  {
   "cell_type": "markdown",
   "id": "a9f31d0b",
   "metadata": {},
   "source": [
    "### If 구문에서 True, False 사용\n",
    "- if a:\n",
    "    ~\n",
    "-> '만약 a가 참이라면' ~을 실행"
   ]
  },
  {
   "cell_type": "markdown",
   "id": "cd6bfa54",
   "metadata": {},
   "source": [
    "### in 연산자\n",
    "- 멤버 연산자(membership operator)\n",
    "ex) in, not in\n",
    "- 어떤 요소가 그 안에 있는지 확인할 때 사용\n",
    "- a in b\n",
    "-> a가 b 안에 있는지 확인\n",
    "- 비슷한 조건이 여러번 반복될 때 사용 가능"
   ]
  },
  {
   "cell_type": "code",
   "execution_count": 6,
   "id": "9cd0e434",
   "metadata": {},
   "outputs": [
    {
     "name": "stdout",
     "output_type": "stream",
     "text": [
      "no\n",
      "NO\n",
      "Yes\n",
      "No\n"
     ]
    }
   ],
   "source": [
    "# letter가 모음인지 확인하는 방법 by in 연산자\n",
    "letter = 'k'\n",
    "\n",
    "# 첫번째 방법 > if 조건문이 길어짐(in 연산자 사용x)\n",
    "if letter == 'a' or letter == 'e' or letter == 'o' or letter == 'i' or letter == 'u':\n",
    "    print('yes')\n",
    "else:\n",
    "    print('no')\n",
    "\n",
    "# 두번째 방법 > 리스트를 활용\n",
    "if letter in ['a', 'e', 'i', 'o', 'u']: \n",
    "        print('Yes')\n",
    "else:\n",
    "        print('NO')\n",
    "        \n",
    "# 단어에 모음이 있는지 확인\n",
    "word = 'abcde'\n",
    "\n",
    "if 'a' or 'e' or 'i' or 'o' or 'u' in word:\n",
    "    print('Yes')\n",
    "else:\n",
    "    print('No')\n",
    "    \n",
    "# 없냐의 경우는 'not in을 사용'\n",
    "word = 'abcde'\n",
    "\n",
    "if 'a' or 'e' or 'i' or 'o' or 'u' not in word:\n",
    "    print('No')\n",
    "else:\n",
    "    print('Yes')"
   ]
  },
  {
   "cell_type": "markdown",
   "id": "8c66f05d",
   "metadata": {},
   "source": [
    "### 바다코끼리 연산자\n",
    "- ':='\n",
    "- 할당과 테스트를 동시에 하는 기능\n",
    "-> 할당과 테스트를 한줄로 줄일 수 있음\n",
    "- walrus operator"
   ]
  },
  {
   "cell_type": "code",
   "execution_count": 2,
   "id": "028fd03b",
   "metadata": {},
   "outputs": [
    {
     "name": "stdout",
     "output_type": "stream",
     "text": [
      "출력 불가\n",
      "출력 불가\n"
     ]
    }
   ],
   "source": [
    "# 바다코끼리 연산자 사용x\n",
    "sentence = 'walrus operator'\n",
    "\n",
    "sen_len1 = len(sentence)\n",
    "if sen_len1 > 5:\n",
    "    print('출력 불가')\n",
    "else:\n",
    "    print('출력 가능')\n",
    "    \n",
    "# 바다코끼리 연산자 사용\n",
    "if sen_len2 := len(sentence) > 5:\n",
    "        print('출력 불가')\n",
    "else:\n",
    "    print('출력 가능')"
   ]
  },
  {
   "cell_type": "markdown",
   "id": "7f25b65c",
   "metadata": {},
   "source": [
    "### Quiz\n",
    "- 윤년을 구하는 코드를 짜보자\n",
    "    - 연도가 4로 나눠떨어지면 윤년\n",
    "    - 100으로 나눠떨어지면 안된다\n",
    "    - 400으로 나눠떨어지면 된다\n",
    "\n",
    "- year를 입력받는다.\n",
    "- '{}년은 윤년입니다' / \"{}년은 윤년이 아닙니다.\""
   ]
  },
  {
   "cell_type": "code",
   "execution_count": 3,
   "id": "4848cf96",
   "metadata": {},
   "outputs": [
    {
     "name": "stdout",
     "output_type": "stream",
     "text": [
      "연도를 입력하시오: 1300\n",
      "1300년은 윤년이 아닙니다.\n"
     ]
    }
   ],
   "source": [
    "# 작성한 코드 > 중첩조건문\n",
    "year = int(input('연도를 입력하시오: '))\n",
    "\n",
    "if year % 4 == 0:\n",
    "    if year % 100 == 0:\n",
    "        if year % 400 == 0:\n",
    "            print(f'{year}년은 윤년입니다')\n",
    "        else:\n",
    "            print(f\"{year}년은 윤년이 아닙니다.\")    \n",
    "    else:\n",
    "        print(f\"{year}년은 윤년이 아닙니다.\")\n",
    "else:\n",
    "    print(f\"{year}년은 윤년이 아닙니다.\")\n",
    "    \n",
    "# 중첩조건문을 사용하지 않는 방법\n",
    "\n",
    "# if (year % 4 == 0) and (year % 100 != 0) or (year % 400 == 0):\n",
    "    # print(f'{year}년은 윤년입니다')\n",
    "# else:\n",
    "    # print(f\"{year}년은 윤년이 아닙니다.\")"
   ]
  },
  {
   "cell_type": "markdown",
   "id": "3737cc89",
   "metadata": {},
   "source": [
    "## String | 문자열\n",
    "- string type\n",
    "- 시스템에서 가장 작은 단위\n",
    "- 불변적인 성격을 가짐 (immutable)\n",
    "    - 'abcd' -> b -> a 바꿀 수 없다\n",
    "- 문법: '', \"\" 감싸면 모두 문자열\n",
    "    - 예: '24'\n",
    "- ''' or \"\"\" => 주석\n",
    "- 형 변환은 str()\n",
    "- input()으로 입력을 받으면 문자열 형태이다\n",
    "\n",
    "## Escape character | 이스케이프문자\n",
    "- 눈에 보이는 대로 인식되지 않는 문자열\n",
    "- 문법: \\ + <character>\n",
    "- print()함수 쓰지 않으면 형태가 출력은 된다\n",
    "- '\\n' 출력 방법\n",
    "    - \\\\n\n",
    "    - r'' (raw string) -> 이스케이프문자 무시\n",
    "- 문자열을 바꾸는 것이 아니라 표면상의 형태를 말하는 것\n",
    "\n",
    "## 이스케이프문자 종류\n",
    "    - \\b : 백스페이스\n",
    "    - \\t : 탭\n",
    "    - \\n : 라인피드 -> 줄바꿈\n",
    "    - \\r : 캐리지"
   ]
  },
  {
   "cell_type": "code",
   "execution_count": 7,
   "id": "ab5b1963",
   "metadata": {},
   "outputs": [
    {
     "name": "stdout",
     "output_type": "stream",
     "text": [
      "hello py\bthon\n",
      "hello py\tthon\n",
      "hello py\n",
      "thon\n",
      "hello py\r",
      "thon\n"
     ]
    }
   ],
   "source": [
    "# 이스케이프 문자 사용\n",
    "\n",
    "# \\b\n",
    "print('hello py\\bthon')\n",
    "\n",
    "# \\t\n",
    "print('hello py\\tthon')\n",
    "\n",
    "# \\n\n",
    "print('hello py\\nthon')\n",
    "\n",
    "# \\r\n",
    "print('hello py\\rthon')"
   ]
  },
  {
   "cell_type": "code",
   "execution_count": 17,
   "id": "788a8318",
   "metadata": {},
   "outputs": [
    {
     "ename": "TypeError",
     "evalue": "'str' object does not support item assignment",
     "output_type": "error",
     "traceback": [
      "\u001b[1;31m---------------------------------------------------------------------------\u001b[0m",
      "\u001b[1;31mTypeError\u001b[0m                                 Traceback (most recent call last)",
      "\u001b[1;32m~\\AppData\\Local\\Temp/ipykernel_20116/2215675667.py\u001b[0m in \u001b[0;36m<module>\u001b[1;34m\u001b[0m\n\u001b[0;32m      1\u001b[0m \u001b[1;31m# str은 불변 타입\u001b[0m\u001b[1;33m\u001b[0m\u001b[1;33m\u001b[0m\u001b[0m\n\u001b[0;32m      2\u001b[0m \u001b[0msent\u001b[0m \u001b[1;33m=\u001b[0m \u001b[1;34m'hello'\u001b[0m\u001b[1;33m\u001b[0m\u001b[1;33m\u001b[0m\u001b[0m\n\u001b[1;32m----> 3\u001b[1;33m \u001b[0msent\u001b[0m\u001b[1;33m[\u001b[0m\u001b[1;36m1\u001b[0m\u001b[1;33m]\u001b[0m \u001b[1;33m=\u001b[0m \u001b[1;34m'E'\u001b[0m\u001b[1;33m\u001b[0m\u001b[1;33m\u001b[0m\u001b[0m\n\u001b[0m\u001b[0;32m      4\u001b[0m \u001b[0mprint\u001b[0m\u001b[1;33m(\u001b[0m\u001b[0msent\u001b[0m\u001b[1;33m)\u001b[0m\u001b[1;33m\u001b[0m\u001b[1;33m\u001b[0m\u001b[0m\n",
      "\u001b[1;31mTypeError\u001b[0m: 'str' object does not support item assignment"
     ]
    }
   ],
   "source": [
    "# str은 불변 타입\n",
    "sent = 'hello'\n",
    "sent[1] = 'E'\n",
    "print(sent)"
   ]
  },
  {
   "cell_type": "markdown",
   "id": "48b29e22",
   "metadata": {},
   "source": [
    "### 문자열 연산\n",
    "- '' + '' => 붙이기\n",
    "- '' * n => n번 반복\n",
    "\n",
    "### 문자열 Slicing\n",
    "- 지정 범위의 문자열을 추출하는 것\n",
    "- 문법: 대괄호 + 오프셋 이용 [offset]\n",
    "    - [start:end:step]\n",
    "    -> 오프셋이란? 문자열의 문자마다 고유의 번호\n",
    "- 오프셋은 0부터 시작\n",
    "- start 포함, end 불포함 (크거나 같고, 작다)\n",
    "- 0일 경우 생략한다.\n",
    "    - 예: ~4까지 출력하라 => [:5]\n",
    "    - 예: 처음부터 끝까지 2스탭씩 => [::2]\n",
    "    - 예: 처음부터 끝까지 역순으로 => [::-1]\n",
    "- 오프셋은 거꾸로도 가능하다\n",
    "0 1 2 ..\n",
    "h e l l o\n",
    "-5     -1"
   ]
  },
  {
   "cell_type": "code",
   "execution_count": 10,
   "id": "a5fa32dd",
   "metadata": {},
   "outputs": [
    {
     "name": "stdout",
     "output_type": "stream",
     "text": [
      "hellopython\n",
      "hello python\n"
     ]
    }
   ],
   "source": [
    "# '+' 사용\n",
    "word1 = 'hello'\n",
    "word2 = 'python'\n",
    "print(word1 + word2)\n",
    "# 공백 없이 붙어서 출력\n",
    "\n",
    "print(word1 + \" \" + word2 )\n",
    "# 띄어쓰기를 넣어서 출력 가능"
   ]
  },
  {
   "cell_type": "code",
   "execution_count": 14,
   "id": "51c31e2d",
   "metadata": {},
   "outputs": [
    {
     "name": "stdout",
     "output_type": "stream",
     "text": [
      "hellohellohellohellohello\n",
      "hello hello hello hello hello \n"
     ]
    }
   ],
   "source": [
    "# '*'사용 -> 붙어서 출력\n",
    "word = 'hello'\n",
    "print(word * 5)\n",
    "\n",
    "# 띄어쓰기 사용\n",
    "word1 = 'hello '\n",
    "print(word1 * 5)"
   ]
  },
  {
   "cell_type": "code",
   "execution_count": 16,
   "id": "12ccf3e3",
   "metadata": {},
   "outputs": [
    {
     "name": "stdout",
     "output_type": "stream",
     "text": [
      "e\n",
      "l\n",
      "hello\n",
      "hlopto\n",
      "nohtyp olleh\n"
     ]
    }
   ],
   "source": [
    "# slicing 사용\n",
    "sent = 'hello python'\n",
    "\n",
    "print(sent[1]) # 2번째 글자\n",
    "print(sent[3:4]) # 3번째 글자만\n",
    "print(sent[:5]) # 처음부터 4까지\n",
    "print(sent[::2]) # 처음부터 끝까지 2스탭씩 출력하기\n",
    "print(sent[::-1]) # 처음부터 끝까지 역순으로 출력하기"
   ]
  },
  {
   "cell_type": "markdown",
   "id": "495b4b21",
   "metadata": {},
   "source": [
    "### NLTK\n",
    "- natural language toolkit\n",
    "- 교육용으로 개발된 자연어처리 패키지\n",
    "- 코퍼스 제공하는데 어떤 처리가 되어 있다.\n",
    "-> 코퍼스란? 말뭉치로 자연어 처리를 위한 분류된 언어의 표본 집합\n",
    "    - 토크나이즈, 파싱, 태깅, ..\n",
    "    -> 토크나이즈: tokenize()"
   ]
  },
  {
   "cell_type": "code",
   "execution_count": 19,
   "id": "0f9be4f1",
   "metadata": {},
   "outputs": [
    {
     "data": {
      "text/plain": [
       "True"
      ]
     },
     "execution_count": 19,
     "metadata": {},
     "output_type": "execute_result"
    }
   ],
   "source": [
    "import nltk\n",
    "nltk.download('book', quiet = True) #dot으로 접근\n",
    "# nltk에서 'book'을 다운 받는 과정"
   ]
  },
  {
   "cell_type": "code",
   "execution_count": 2,
   "id": "ece68a06",
   "metadata": {},
   "outputs": [
    {
     "name": "stdout",
     "output_type": "stream",
     "text": [
      "*** Introductory Examples for the NLTK Book ***\n",
      "Loading text1, ..., text9 and sent1, ..., sent9\n",
      "Type the name of the text or sentence to view it.\n",
      "Type: 'texts()' or 'sents()' to list the materials.\n",
      "text1: Moby Dick by Herman Melville 1851\n",
      "text2: Sense and Sensibility by Jane Austen 1811\n",
      "text3: The Book of Genesis\n",
      "text4: Inaugural Address Corpus\n",
      "text5: Chat Corpus\n",
      "text6: Monty Python and the Holy Grail\n",
      "text7: Wall Street Journal\n",
      "text8: Personals Corpus\n",
      "text9: The Man Who Was Thursday by G . K . Chesterton 1908\n"
     ]
    }
   ],
   "source": [
    "from nltk import book"
   ]
  },
  {
   "cell_type": "code",
   "execution_count": 22,
   "id": "4b554917",
   "metadata": {},
   "outputs": [],
   "source": [
    "moby = book.text1"
   ]
  },
  {
   "cell_type": "code",
   "execution_count": 24,
   "id": "de071c4e",
   "metadata": {},
   "outputs": [
    {
     "data": {
      "text/plain": [
       "['[',\n",
       " 'Moby',\n",
       " 'Dick',\n",
       " 'by',\n",
       " 'Herman',\n",
       " 'Melville',\n",
       " '1851',\n",
       " ']',\n",
       " 'ETYMOLOGY',\n",
       " '.']"
      ]
     },
     "execution_count": 24,
     "metadata": {},
     "output_type": "execute_result"
    }
   ],
   "source": [
    "moby.tokens[0:10] # 'moby'안에 단어(토큰)에 접근하는 방법"
   ]
  },
  {
   "cell_type": "markdown",
   "id": "528022f2",
   "metadata": {},
   "source": [
    "- 토큰: 문법적으로 더 이상 나눌 수 없는 언어요소\n",
    "- EX) 'There is an apple'이라는 문장이 있을 때\n",
    "- 코퍼스(말뭉치):'There is an apple'\n",
    "- 토큰:'There', 'is', 'an', 'apple'"
   ]
  },
  {
   "cell_type": "code",
   "execution_count": 29,
   "id": "b95999d1",
   "metadata": {},
   "outputs": [
    {
     "data": {
      "text/plain": [
       "260819"
      ]
     },
     "execution_count": 29,
     "metadata": {},
     "output_type": "execute_result"
    }
   ],
   "source": [
    "# 총 단어의 길이 구하기(토큰 개수)\n",
    "len(moby.tokens)"
   ]
  },
  {
   "cell_type": "markdown",
   "id": "8c1baa7e",
   "metadata": {},
   "source": [
    "- set\n",
    "    - {a, b, c, ...}\n",
    "    - 중복 불가능\n",
    "    - 수학의 집합과 동일한 개념\n",
    "    - 순서 없음\n",
    "- list\n",
    "    - [a, b, c, ...]\n",
    "    - 중복 가능\n",
    "    - 순서 없음"
   ]
  },
  {
   "cell_type": "code",
   "execution_count": 32,
   "id": "7acb093d",
   "metadata": {},
   "outputs": [
    {
     "data": {
      "text/plain": [
       "{'apple', 'grape', 'peach'}"
      ]
     },
     "execution_count": 32,
     "metadata": {},
     "output_type": "execute_result"
    }
   ],
   "source": [
    "# set()을 활용하여 중복되는 것 걸러내기\n",
    "fruits = ['apple', 'grape', 'peach', 'apple']\n",
    "# 리스트의 경우 중복이 가능\n",
    "set(fruits)\n",
    "# 중복되는 'apple'이 하나 사라짐"
   ]
  },
  {
   "cell_type": "code",
   "execution_count": 30,
   "id": "520e6562",
   "metadata": {},
   "outputs": [
    {
     "data": {
      "text/plain": [
       "{'.',\n",
       " '1851',\n",
       " 'Dick',\n",
       " 'ETYMOLOGY',\n",
       " 'Herman',\n",
       " 'Melville',\n",
       " 'Moby',\n",
       " '[',\n",
       " ']',\n",
       " 'by'}"
      ]
     },
     "execution_count": 30,
     "metadata": {},
     "output_type": "execute_result"
    }
   ],
   "source": [
    "# 중복되는 단어 걸러내기\n",
    "# set()함수 사용 -> 집합을 나타내는 함수\n",
    "# -> 집합의 경우 중복된 원소를 갖을수 없기 때문\n",
    "set((moby.tokens)[:10])"
   ]
  },
  {
   "cell_type": "code",
   "execution_count": 34,
   "id": "66cdffe7",
   "metadata": {},
   "outputs": [
    {
     "name": "stdout",
     "output_type": "stream",
     "text": [
      "19317\n",
      "0.07406285585022564\n"
     ]
    }
   ],
   "source": [
    "# 중복 없는 단어 수\n",
    "print(len(set(moby.tokens)))\n",
    "\n",
    "# lexical diversity -> 얼마나 어휘를 다양하게 사용하는가\n",
    "print(len(set(moby.tokens)) / len(moby.tokens))\n"
   ]
  },
  {
   "cell_type": "markdown",
   "id": "691a992d",
   "metadata": {},
   "source": [
    "### sorted() 함수\n",
    "- 매개변수로 들어온 데이터를 새로운 정렬된 리스트로 변환해주는 함수\n",
    "- sorted(정렬할 데이터)\n",
    "-> 정렬할 데이터를 정렬해줌\n",
    "- sorted(정렬할 데이터, reverse 파라미터)\n",
    "-> reverse = False의 경우는 오름차순, rverese = True의 경우는 내림차순\n",
    "- sorted(정렬할 데이터, key 파라미터)\n",
    "-> key를 기준으로 정렬\n",
    "\n",
    "- 리스트.sort()와 sorted(리스트)의 차이점\n",
    "-> 리스트.sort()는 본체의 리스틀 정렬해서 변환\n",
    "-> sorted(리스트)는 본체 리스트는 변환 없이 새로운 리스트를 반환"
   ]
  },
  {
   "cell_type": "code",
   "execution_count": 36,
   "id": "c5257dfc",
   "metadata": {},
   "outputs": [
    {
     "data": {
      "text/plain": [
       "['peach', 'grape', 'apple', 'apple']"
      ]
     },
     "execution_count": 36,
     "metadata": {},
     "output_type": "execute_result"
    }
   ],
   "source": [
    "# 오름차순, 내림차순 정렬\n",
    "sorted(fruits, reverse = True)"
   ]
  },
  {
   "cell_type": "code",
   "execution_count": 37,
   "id": "12f5516a",
   "metadata": {},
   "outputs": [
    {
     "data": {
      "text/plain": [
       "['!', '!\"', '!\"--', \"!'\", '!\\'\"', '!)', '!)\"', '!*', '!--', '!--\"']"
      ]
     },
     "execution_count": 37,
     "metadata": {},
     "output_type": "execute_result"
    }
   ],
   "source": [
    "# mobydick 정렬하기\n",
    "sorted(set(moby.tokens))[:10]"
   ]
  },
  {
   "cell_type": "markdown",
   "id": "ccd345c1",
   "metadata": {},
   "source": [
    "### Quiz 1.\n",
    "- text9에서 lexical diversity 구하기.\n",
    "- text6에서 중복없는 셋 내림차순 정렬하기\n",
    "    - a. 앞에서 단어 10개 추출하기\n",
    "    - b. 조건문 연습: 'z'가 있으면 대문자로 바꾸기, 'z'가 없는 4자 이상이면 끝 글자 대문자로 바꾸기\n",
    "        \n",
    "### Quiz 2.\n",
    "- 주민등록번호, 휴대폰 번호, 이메일 입력받는다.\n",
    "    - 주민번호, 휴대폰은 숫자만 입력(- 없다)\n",
    "    - 이메일은 아이디만 입력(@뒷부분 없다)\n",
    "\n",
    "-출력: \n",
    "    - \"당신은 {}년 {}월 {}일 출생의 {남성/여성}입니다.\"\n",
    "    - 휴대폰 번호: {} # 하이폰으로 연결하기\n",
    "    - 이메일주소: {아이디}@gmail.com"
   ]
  },
  {
   "cell_type": "code",
   "execution_count": 3,
   "id": "27c17a36",
   "metadata": {},
   "outputs": [
    {
     "name": "stdout",
     "output_type": "stream",
     "text": [
      "lexical diversity는 0.0983485761345412입니다.\n",
      "['zoosh', 'zoop', 'zoo', 'zone', 'zhiv', 'yourself', 'yours', 'your', 'young', 'you']\n",
      "Zoosh\n",
      "Zoop\n",
      "Zoo\n",
      "Zone\n",
      "Zhiv\n",
      "yourselF\n",
      "yourS\n",
      "youR\n",
      "younG\n"
     ]
    }
   ],
   "source": [
    "# Quiz1\n",
    "# lexical diversity 구하기\n",
    "man = book.text9\n",
    "man.tokens\n",
    "len(man.tokens)\n",
    "set(man.tokens)\n",
    "lex_div = len(set(man.tokens)) / len(man.tokens)\n",
    "print(f'lexical diversity는 {lex_div}입니다.')\n",
    "\n",
    "# a\n",
    "monty = book.text6\n",
    "sorted_monty = sorted(set(monty.tokens), reverse = True)\n",
    "monty_list = sorted_monty[:10]\n",
    "print(monty_list)\n",
    "\n",
    "# b\n",
    "for i in monty_list:\n",
    "    if 'z' in i:\n",
    "        print(i.replace('z', 'Z'))\n",
    "    elif len(i) >= 4:\n",
    "        print(i.replace(i[-1], i[-1].upper()))\n",
    "\n",
    "\n"
   ]
  },
  {
   "cell_type": "code",
   "execution_count": 15,
   "id": "dafe0391",
   "metadata": {},
   "outputs": [
    {
     "name": "stdout",
     "output_type": "stream",
     "text": [
      "주민등록번호를 입력하시오(하이폰X): 0001013030300\n",
      "전화번호를 입력하시오(하이폰X): 01012345678\n",
      "이메일을 입력하시오(도메인X): dfsad\n",
      "\"당신은 2000년 01월 01일 출생의 남성입니다.\" - 휴대폰 번호: 010-1234-5678 - 이메일주소: dfsad@gmail.com\n"
     ]
    }
   ],
   "source": [
    "resident_num = input('주민등록번호를 입력하시오(하이폰X): ')\n",
    "phone_num = input('전화번호를 입력하시오(하이폰X): ')\n",
    "email_address = input('이메일을 입력하시오(도메인X): ')\n",
    "\n",
    "\n",
    "if resident_num[6] == '1' or resident_num[6] == '2':\n",
    "    year = '19' + resident_num[:2]\n",
    "else:\n",
    "    year = '20' + resident_num[:2]\n",
    "    \n",
    "month = resident_num[2:4]\n",
    "\n",
    "day = resident_num[4:6]\n",
    "    \n",
    "\n",
    "if resident_num[6] == '1' or resident_num[6] == '3':\n",
    "    gender = '남성'\n",
    "else:\n",
    "    gender = '여성'\n",
    "    \n",
    "phone_hyphone = phone_num[:3] + '-' + phone_num[3:7] + '-' + phone_num[7:]\n",
    "\n",
    "print(f'\"당신은 {year}년 {month}월 {day}일 출생의 {gender}입니다.\" - 휴대폰 번호: {phone_hyphone} - 이메일주소: {email_address}@gmail.com')"
   ]
  },
  {
   "cell_type": "code",
   "execution_count": null,
   "id": "23779108",
   "metadata": {},
   "outputs": [],
   "source": []
  }
 ],
 "metadata": {
  "kernelspec": {
   "display_name": "Python 3 (ipykernel)",
   "language": "python",
   "name": "python3"
  },
  "language_info": {
   "codemirror_mode": {
    "name": "ipython",
    "version": 3
   },
   "file_extension": ".py",
   "mimetype": "text/x-python",
   "name": "python",
   "nbconvert_exporter": "python",
   "pygments_lexer": "ipython3",
   "version": "3.9.7"
  }
 },
 "nbformat": 4,
 "nbformat_minor": 5
}
