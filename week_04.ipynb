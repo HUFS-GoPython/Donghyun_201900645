{
 "cells": [
  {
   "cell_type": "markdown",
   "id": "e3488937",
   "metadata": {},
   "source": [
    "### NLTK"
   ]
  },
  {
   "cell_type": "code",
   "execution_count": 1,
   "id": "fd67263d",
   "metadata": {},
   "outputs": [
    {
     "name": "stdout",
     "output_type": "stream",
     "text": [
      "*** Introductory Examples for the NLTK Book ***\n",
      "Loading text1, ..., text9 and sent1, ..., sent9\n",
      "Type the name of the text or sentence to view it.\n",
      "Type: 'texts()' or 'sents()' to list the materials.\n",
      "text1: Moby Dick by Herman Melville 1851\n",
      "text2: Sense and Sensibility by Jane Austen 1811\n",
      "text3: The Book of Genesis\n",
      "text4: Inaugural Address Corpus\n",
      "text5: Chat Corpus\n",
      "text6: Monty Python and the Holy Grail\n",
      "text7: Wall Street Journal\n",
      "text8: Personals Corpus\n",
      "text9: The Man Who Was Thursday by G . K . Chesterton 1908\n"
     ]
    },
    {
     "data": {
      "text/plain": [
       "True"
      ]
     },
     "execution_count": 1,
     "metadata": {},
     "output_type": "execute_result"
    }
   ],
   "source": [
    "# nltk book import -> 암기\n",
    "import nltk\n",
    "from nltk.book import *\n",
    "nltk.download('book', quiet = True) # 'quiet = True' 구문을 통해 긴 과정을 생략 가능"
   ]
  },
  {
   "cell_type": "markdown",
   "id": "5ab1dfd8",
   "metadata": {},
   "source": [
    "### 함수 \n",
    "- 형태: '.f(x)(<요소>)'\n",
    "-> 요소를 갖을 수도, 갖지 않을 수도 있다.\n",
    "ex) a.count('b') -> 요소를 갖음\n",
    "    a.strip() -> 요소를 갖지않음\n",
    "- count(): 텍스트에서 어떤 요소의 개수를 세는 함수\n",
    "-> 요소를 갖음\n",
    "- replace(): 텍스트에서 어떤 요소를 어떤 요소로 바꿔줌\n",
    "-> 요소를 두개 받음\n",
    "- strip(): 불필요한 공백, 등등 원하는 요소를 제거하는 역할\n",
    "-> 요소를 갖지 않음\n",
    "- find(): 원하는 문자열 찾기\n",
    "-> 요소를 갖음, 요소의 인덱스를 출력\n",
    "- index(): 원하는 문자열의 인덱스 변환\n",
    "-> 요소를 갖음, 요소의 인덱스를 출력\n",
    "\n",
    "※ find() 함수와 index()함수의 차이\n",
    "find() -> 요소가 없을 경우 '-1'을 출력\n",
    "index() -> 요소가 없을 경우 오류 발생"
   ]
  },
  {
   "cell_type": "code",
   "execution_count": 4,
   "id": "d5c24b0b",
   "metadata": {},
   "outputs": [
    {
     "name": "stdout",
     "output_type": "stream",
     "text": [
      "13721\n",
      "612\n",
      "소문자 a가 대문자 A보다 많다\n"
     ]
    }
   ],
   "source": [
    "# count()\n",
    "print(text1.count('the'))\n",
    "print(text1.count('The'))\n",
    "\n",
    "# the와 The를 구분함 -> 대소문자 구분\n",
    "\n",
    "if text1.count('a') > text1.count('A'):\n",
    "    print('소문자 a가 대문자 A보다 많다')\n",
    "else:\n",
    "    print('소문자 a가 대문자 A보다 많지 않다')"
   ]
  },
  {
   "cell_type": "code",
   "execution_count": 6,
   "id": "b2f580dc",
   "metadata": {},
   "outputs": [
    {
     "name": "stdout",
     "output_type": "stream",
     "text": [
      "The\n",
      "the\n"
     ]
    }
   ],
   "source": [
    "# replace(A,B)\n",
    "word ='the'\n",
    "print(word.replace('t','T'))\n",
    "print(word)\n",
    "# replace함수는 요소 자체를 바꿀 수 없다."
   ]
  },
  {
   "cell_type": "code",
   "execution_count": 7,
   "id": "cc0a2aea",
   "metadata": {},
   "outputs": [
    {
     "name": "stdout",
     "output_type": "stream",
     "text": [
      "The\n"
     ]
    }
   ],
   "source": [
    "# replace 함수를 통해 요소 자체를 바꾸는 방법\n",
    "word ='the'\n",
    "word = word.replace('t','T')\n",
    "print(word)\n",
    "# word를 다시 선언하는 과정을 통해 요소 자체를 바꿈"
   ]
  },
  {
   "cell_type": "code",
   "execution_count": 8,
   "id": "82abeaf4",
   "metadata": {},
   "outputs": [
    {
     "data": {
      "text/plain": [
       "'hello python'"
      ]
     },
     "execution_count": 8,
     "metadata": {},
     "output_type": "execute_result"
    }
   ],
   "source": [
    "# 여러개의 문자열을 바꿔야 할 경우 -> translate 함수 사용\n",
    "sent = 'Hello Python'\n",
    "sent_tran = str.maketrans('HP', 'hp')\n",
    "sent.translate(sent_tran)"
   ]
  },
  {
   "cell_type": "code",
   "execution_count": 14,
   "id": "1cac91f0",
   "metadata": {},
   "outputs": [
    {
     "name": "stdout",
     "output_type": "stream",
     "text": [
      "word\n",
      "                       word\n",
      "word\n",
      "word\n"
     ]
    }
   ],
   "source": [
    "# strip(), rstrip() > 오른쪽 공백, lstrip() > 왼쪽 공백\n",
    "word = '                       word'\n",
    "print(word.strip())\n",
    "print(word)\n",
    "# 일시적인 것이지 word 자체가 변하지는 않는다\n",
    "\n",
    "word = word.strip()\n",
    "print(word)\n",
    "# word 자체의 공백을 없애주는 방법\n",
    "\n",
    "word.lstrip().replace('w','W').replace('d','k')"
   ]
  },
  {
   "cell_type": "code",
   "execution_count": 18,
   "id": "90baeef8",
   "metadata": {},
   "outputs": [
    {
     "name": "stdout",
     "output_type": "stream",
     "text": [
      "2\n",
      "3\n",
      "3\n",
      "7\n"
     ]
    }
   ],
   "source": [
    "# find 첫 번째 발견한 r의 인덱스(공백 포함)\n",
    "print(word.find('r'))\n",
    "word2 = 'I have a pen'\n",
    "print(word2.find('a'))\n",
    "\n",
    "#find, rfind -> 'find'의 경우는 앞에서부터, 'rfind'의 경우는 뒤에서부터\n",
    "print(word2.find('a'))\n",
    "print(word2.rfind('a'))"
   ]
  },
  {
   "cell_type": "code",
   "execution_count": 19,
   "id": "a01aacf0",
   "metadata": {},
   "outputs": [
    {
     "data": {
      "text/plain": [
       "3"
      ]
     },
     "execution_count": 19,
     "metadata": {},
     "output_type": "execute_result"
    }
   ],
   "source": [
    "# index)() 함수\n",
    "word2.index('a')\n",
    "# 요소가 있을 경우 find()함수와 동일\n",
    "# 하지만 요소가 없을 경우 오류를 출력"
   ]
  },
  {
   "cell_type": "code",
   "execution_count": 20,
   "id": "2bc71fac",
   "metadata": {},
   "outputs": [
    {
     "name": "stdout",
     "output_type": "stream",
     "text": [
      "찾는 과일이 없습니다.\n"
     ]
    }
   ],
   "source": [
    "# find()함수와 index()함수의 차이를 이용\n",
    "sent = 'apple orange grape'\n",
    "if sent.find('peach') == -1:\n",
    "    print('찾는 과일이 없습니다.')\n",
    "else:\n",
    "    print('찾는 과일이 있습니다.')"
   ]
  },
  {
   "cell_type": "markdown",
   "id": "5f59c1a2",
   "metadata": {},
   "source": [
    "### 함수 2\n",
    "- NLTK 전용\n",
    "- concordance(): 특정 스트링이 어떤 문역에서 쓰이는지\n",
    "-> 요소를 갖음\n",
    "- similar():  주어진 스트링과 비슷한 문역에서 쓰이는 단어들 보여줌\n",
    "-> 요소를 갖음\n",
    "-> 단어들을 변수로 사용이 불가\n",
    "- common_contexts(): 주어진 스트일들이 공유하는 문역\n",
    "-> 요소를 갖음\n",
    "-> 요소를 리스트 형식([])으로 줘야함\n",
    "- dispersion_plot(): 주어진 스트링들이 텍스트의 어느 위치에 나오는지\n",
    "-> 요소를 갖음\n",
    "-> 요소를 리스트 형식([])으로 줘야함"
   ]
  },
  {
   "cell_type": "code",
   "execution_count": 48,
   "id": "04c92feb",
   "metadata": {},
   "outputs": [
    {
     "name": "stdout",
     "output_type": "stream",
     "text": [
      "Displaying 25 of 1226 matches:\n",
      "s , and to teach them by what name a whale - fish is to be called in our tongue\n",
      "t which is not true .\" -- HACKLUYT \" WHALE . ... Sw . and Dan . HVAL . This ani\n",
      "ulted .\" -- WEBSTER ' S DICTIONARY \" WHALE . ... It is more immediately from th\n",
      "ISH . WAL , DUTCH . HWAL , SWEDISH . WHALE , ICELANDIC . WHALE , ENGLISH . BALE\n",
      "HWAL , SWEDISH . WHALE , ICELANDIC . WHALE , ENGLISH . BALEINE , FRENCH . BALLE\n",
      "least , take the higgledy - piggledy whale statements , however authentic , in \n",
      " dreadful gulf of this monster ' s ( whale ' s ) mouth , are immediately lost a\n",
      " patient Job .\" -- RABELAIS . \" This whale ' s liver was two cartloads .\" -- ST\n",
      " Touching that monstrous bulk of the whale or ork we have received nothing cert\n",
      " of oil will be extracted out of one whale .\" -- IBID . \" HISTORY OF LIFE AND D\n",
      "ise .\" -- KING HENRY . \" Very like a whale .\" -- HAMLET . \" Which to secure , n\n",
      "restless paine , Like as the wounded whale to shore flies thro ' the maine .\" -\n",
      ". OF SPERMA CETI AND THE SPERMA CETI WHALE . VIDE HIS V . E . \" Like Spencer ' \n",
      "t had been a sprat in the mouth of a whale .\" -- PILGRIM ' S PROGRESS . \" That \n",
      "EN ' S ANNUS MIRABILIS . \" While the whale is floating at the stern of the ship\n",
      "e ship called The Jonas - in - the - Whale . ... Some say the whale can ' t ope\n",
      " in - the - Whale . ... Some say the whale can ' t open his mouth , but that is\n",
      " masts to see whether they can see a whale , for the first discoverer has a duc\n",
      " for his pains . ... I was told of a whale taken near Shetland , that had above\n",
      "oneers told me that he caught once a whale in Spitzbergen that was white all ov\n",
      "2 , one eighty feet in length of the whale - bone kind came in , which ( as I w\n",
      "n master and kill this Sperma - ceti whale , for I could never hear of any of t\n",
      " . 1729 . \"... and the breath of the whale is frequendy attended with such an i\n",
      "ed with hoops and armed with ribs of whale .\" -- RAPE OF THE LOCK . \" If we com\n",
      "contemptible in the comparison . The whale is doubtless the largest animal in c\n"
     ]
    }
   ],
   "source": [
    "#concordance()\n",
    "text1.concordance('whale')\n",
    "# 단어가 등장하는 부분을 보여줌 -> 단어를 중심으로 내용 파악 가능"
   ]
  },
  {
   "cell_type": "code",
   "execution_count": 4,
   "id": "e0e90558",
   "metadata": {},
   "outputs": [
    {
     "name": "stdout",
     "output_type": "stream",
     "text": [
      "ship boat sea time captain world man deck pequod other whales air\n",
      "water head crew line thing side way body\n"
     ]
    },
    {
     "data": {
      "text/plain": [
       "NoneType"
      ]
     },
     "execution_count": 4,
     "metadata": {},
     "output_type": "execute_result"
    }
   ],
   "source": [
    "# similar()\n",
    "a = type(text1.similar('whale'))\n",
    "a\n",
    "# 같은 문맥에서 요소 대신 많이 사용된 단어 출력\n",
    "# nonetype이기 떄문에 변수로 사용이 불가능"
   ]
  },
  {
   "cell_type": "code",
   "execution_count": 5,
   "id": "f31a17f9",
   "metadata": {},
   "outputs": [
    {
     "name": "stdout",
     "output_type": "stream",
     "text": [
      "am_glad a_pretty a_lucky is_pretty be_glad\n"
     ]
    }
   ],
   "source": [
    "# common_contexts([리스트])\n",
    "text2.common_contexts(['monstrous', 'very'])\n",
    "# 두 단어의 공통된 문맥을 보여줌"
   ]
  },
  {
   "cell_type": "code",
   "execution_count": 7,
   "id": "bbf37607",
   "metadata": {},
   "outputs": [
    {
     "data": {
      "image/png": "[encoded data removed]",
      "text/plain": [
       "<Figure size 432x288 with 1 Axes>"
      ]
     },
     "metadata": {
      "needs_background": "light"
     },
     "output_type": "display_data"
    }
   ],
   "source": [
    "# dispersion_plot([리스트])\n",
    "text4. dispersion_plot(['citizens', 'democracy', 'America'])\n",
    "# 텍스트 내 단어 사용 빈도와 위치를 분산 그래프로 그려줌"
   ]
  },
  {
   "cell_type": "markdown",
   "id": "eb958eb9",
   "metadata": {},
   "source": [
    "### 리스트 & 리스트컴프리헨션(List comprehension)\n",
    "- 프로그래밍에서 '배열'에 해당, 파이썬에서는 리스트라고 부른다.\n",
    "- 하나의 변수에 여러 값을 할당하는 자료형\n",
    "    - example = [1,2,3,4]\n",
    "- 대괄호를 사용한다\n",
    "- 내부 요소들의 자료형은 같을 필요 없다.\n",
    "    - example = [1, 'yes']\n",
    "- 순서가 있는 자료형 => 슬라이싱, 인덱싱\n",
    "    - example = list_a[0] -> 리스트의 첫번째 요소를 말함\n",
    "                list_a[0:2] -> 리스트의 첫번째부터 두번째 요소까지\n",
    "                list_a[02] -> 잘못된 형식\n",
    "- 빈 리스트 선언: set(), []\n",
    "-> 반복문과 빈리스트를 함께 사용하면 새로운 리스트를 만들 수 있다."
   ]
  },
  {
   "cell_type": "code",
   "execution_count": 8,
   "id": "bde0ec95",
   "metadata": {},
   "outputs": [
    {
     "data": {
      "text/plain": [
       "list"
      ]
     },
     "execution_count": 8,
     "metadata": {},
     "output_type": "execute_result"
    }
   ],
   "source": [
    "# 빈 리스트 선언\n",
    "empty = []\n",
    "type(empty)"
   ]
  },
  {
   "cell_type": "code",
   "execution_count": 9,
   "id": "10af09d1",
   "metadata": {},
   "outputs": [
    {
     "name": "stdout",
     "output_type": "stream",
     "text": [
      "blue\n",
      "['white', 'yellow', 'blue']\n"
     ]
    }
   ],
   "source": [
    "colors = ['blue','yellow','white']\n",
    "print(colors[0])\n",
    "print(colors[::-1])"
   ]
  },
  {
   "cell_type": "code",
   "execution_count": 13,
   "id": "a9800cdd",
   "metadata": {},
   "outputs": [
    {
     "name": "stdout",
     "output_type": "stream",
     "text": [
      "1\n"
     ]
    }
   ],
   "source": [
    "# 리스트에서 함수 사용하기\n",
    "print(colors.count('blue'))\n",
    "# 문자열에서 사용했던 replace()나 find() 함수는 리스트에서 사용이 불가\n",
    "# 리스트와 문자열 함수는 다르다"
   ]
  },
  {
   "cell_type": "markdown",
   "id": "68ae8d1f",
   "metadata": {},
   "source": [
    "### list comprehension\n",
    "- 포함형/지능형/축약형 리스트\n",
    "- 하나의 리스트에서 그걸 포함하여 다른 리스트를 만든다.\n",
    "- list + for loop(반복문)\n",
    "-> loop이란 반복문을 말한다\n",
    "- [A for A' in C]\n",
    "    - C에 있는 A'에서 A를 가져와라 => 리스트에 담아서 반환\n",
    "    - A는 리스트 형식으로 출력됨\n",
    "    - A: 내가 원하는 출력 형태\n",
    "    - A': C의 형태\n",
    "    - C : 반복가능한 자료형 (리스트)\n",
    "    \n",
    "- 조건 추가: [A for A' in C if ~]"
   ]
  },
  {
   "cell_type": "code",
   "execution_count": 14,
   "id": "b1ff029c",
   "metadata": {},
   "outputs": [
    {
     "data": {
      "text/plain": [
       "['b', 'y', 'w']"
      ]
     },
     "execution_count": 14,
     "metadata": {},
     "output_type": "execute_result"
    }
   ],
   "source": [
    "[color[0] for color in colors]\n",
    "# colors라는 리스트에 있는 color들의 첫번째 글자를 모은 집합"
   ]
  },
  {
   "cell_type": "code",
   "execution_count": 15,
   "id": "30fd3176",
   "metadata": {},
   "outputs": [
    {
     "name": "stdout",
     "output_type": "stream",
     "text": [
      "['[', 'y', 'k', 'y', 'n', 'e', '1', ']', 'Y', '.']\n"
     ]
    }
   ],
   "source": [
    "# Quiz 1\n",
    "# text1의 토큰 중 처음 10개 단어에서 마지막 알파벳 반환\n",
    "print([word[-1] for word in text1[:10]])\n",
    "# text1의 처음 10개 단어로 구성된 리스트의 10개의 word의 마지막 알파벳의 집합"
   ]
  },
  {
   "cell_type": "code",
   "execution_count": 18,
   "id": "3d4bf0c0",
   "metadata": {},
   "outputs": [
    {
     "data": {
      "text/plain": [
       "['iamahotniplickme',\n",
       " '!!!!!!!!!!!!!!!!',\n",
       " 'iamahotnipwithpics',\n",
       " 'iamahotnipwithhotnippics']"
      ]
     },
     "execution_count": 18,
     "metadata": {},
     "output_type": "execute_result"
    }
   ],
   "source": [
    "# Quiz 2 -> list comprehension + 조건문\n",
    "#1. text5의 토큰 중 처음 1000개 단어에서 길이가 15 이상인 단어 추출하기\n",
    "[word for word in text5.tokens[:1000] if len(word) >= 15]"
   ]
  },
  {
   "cell_type": "markdown",
   "id": "f31f1f20",
   "metadata": {},
   "source": [
    "### isupper()함수와 lower()함수\n",
    "- isupper(): 대문자인지 알아보는 함수\n",
    "-> ex) A.isupper() => True\n",
    "- islower(): 소문자인지 알아보는 함수\n",
    "-> ex) A.isupper() => False\n",
    "- upper(): 대문자로 바꿔주는 함수\n",
    "-> ex) a.upper() => A\n",
    "- lower(): 소문자로 바꿔주는 함수\n",
    "-> ex) A.lower() => a"
   ]
  },
  {
   "cell_type": "code",
   "execution_count": 23,
   "id": "3846eca3",
   "metadata": {},
   "outputs": [
    {
     "name": "stdout",
     "output_type": "stream",
     "text": [
      "False\n",
      "True\n",
      "her\n",
      "HER\n",
      "nice day\n"
     ]
    }
   ],
   "source": [
    "print('hey'.isupper())\n",
    "print('hey'.islower())\n",
    "print(\"HER\".lower())\n",
    "print(\"her\".upper())\n",
    "\n",
    "sent = 'nice day'\n",
    "sent.upper()\n",
    "print(sent)\n",
    "# upper()과 lower()은 변수를 변하게 하지는 않는다"
   ]
  },
  {
   "cell_type": "code",
   "execution_count": 27,
   "id": "45e3b165",
   "metadata": {},
   "outputs": [
    {
     "data": {
      "text/plain": [
       "['i', 'i']"
      ]
     },
     "execution_count": 27,
     "metadata": {},
     "output_type": "execute_result"
    }
   ],
   "source": [
    "# Quiz 3\n",
    "# text3의 토큰 중 처음 1000개 단어에서 대문자인 단어를 소문자로 반환: isupper(), lower()\n",
    "[word.lower() for word in text3[:1000] if word.isupper()]"
   ]
  },
  {
   "cell_type": "markdown",
   "id": "47b812dc",
   "metadata": {},
   "source": [
    "### cased, uncased\n",
    "- 변환: upper(), lower(), titile(), swapcase()\n",
    "    - title(): 앞글자만 대문자로 바꿔줌\n",
    "    - swapcase(): 대문자는 소문자로, 소문자는 대문자로 바꿔줌\n",
    "- 형태 체크: isupper(), islower(), istitle()\n",
    "    - endswith(<string>): 'string'으로 끝나는지 판단\n",
    "    - startswith(<stirng>): 'string'으로 시작하는지 판단\n",
    "    - isalpha(): 문자냐 -> 알파벳만 골라내는 함수"
   ]
  },
  {
   "cell_type": "code",
   "execution_count": 35,
   "id": "b99d0e16",
   "metadata": {},
   "outputs": [
    {
     "name": "stdout",
     "output_type": "stream",
     "text": [
      "Hello Python\n",
      "hELLO pYHTON\n",
      "True\n",
      "False\n",
      "True\n"
     ]
    }
   ],
   "source": [
    "# 사용 예시\n",
    "sent = 'hello python'\n",
    "print(sent.title()) # 띄어쓰기의 경우 앞글자로 인식\n",
    "\n",
    "sent2 = 'Hello Pyhton'\n",
    "print(sent2.swapcase())\n",
    "\n",
    "sent3 = 'studying python is hard'\n",
    "print(sent3.endswith('hard'))\n",
    "print(sent3.startswith('hard'))\n",
    "\n",
    "word = 'a'\n",
    "print(word.isalpha())"
   ]
  },
  {
   "cell_type": "code",
   "execution_count": 36,
   "id": "78f38b8c",
   "metadata": {},
   "outputs": [
    {
     "data": {
      "text/plain": [
       "['comfortableness',\n",
       " 'honourableness',\n",
       " 'immutableness',\n",
       " 'indispensableness',\n",
       " 'indomitableness',\n",
       " 'intolerableness',\n",
       " 'palpableness',\n",
       " 'reasonableness',\n",
       " 'uncomfortableness']"
      ]
     },
     "execution_count": 36,
     "metadata": {},
     "output_type": "execute_result"
    }
   ],
   "source": [
    "# Quiz 4\n",
    "# text1에서 'ableness'로 끝나는 단어를 중복없이 정렬\n",
    "sorted(set([word for word in text1 if word.endswith('ableness')]))"
   ]
  },
  {
   "cell_type": "code",
   "execution_count": 38,
   "id": "b6997832",
   "metadata": {},
   "outputs": [
    {
     "data": {
      "text/plain": [
       "{'sovereignties', 'sovereignty'}"
      ]
     },
     "execution_count": 38,
     "metadata": {},
     "output_type": "execute_result"
    }
   ],
   "source": [
    "# Quiz 5\n",
    "# text4에서 단어에 'gnt'가 포함된 단어들을 소문자로 리스트 반환\n",
    "set([word.lower() for word in text4 if 'gnt' in word])"
   ]
  },
  {
   "cell_type": "code",
   "execution_count": 43,
   "id": "563bbc28",
   "metadata": {},
   "outputs": [
    {
     "name": "stdout",
     "output_type": "stream",
     "text": [
      "['sovereignty', 'sovereignty', 'sovereignties']\n",
      "{'sovereignty', 'sovereignties'}\n"
     ]
    }
   ],
   "source": [
    "# set()의 위치에 따라 출력 값이 달라짐\n",
    "# 리스트에서 대소문자 구분이 있기 때문\n",
    "print([word.lower() for word in set(text4.tokens) if 'gnt' in word])\n",
    "print(set([word.lower() for word in text4 if 'gnt' in word]))"
   ]
  },
  {
   "cell_type": "markdown",
   "id": "8c93b6a7",
   "metadata": {},
   "source": [
    "### NLTK - FreqDist()\n",
    "- frequency distribution: 단어가 몇 번 출현했는지(빈도수)\n",
    "- 텍스트의 성질 알기위해\n",
    "    - 단어 개수\n",
    "    - 단어 빈도수\n",
    "- 'FreqDist(text): 'text'의 문서에서의 사용 빈도를 보여줌\n",
    "-> 괄호안에 해당문서를 넣어서 사용\n",
    "-> cased를 통해 사용\n",
    "\n",
    "- most_common(num): 상위 'num'만큼 가장 빈번한거 뽑아줌\n",
    "- freq(word): 전체 문서에서 'word'의 비율\n",
    "- plot(): 빈도수를 그래프로 표현해줌\n",
    "- hapaxes(): 1번만 등장하는 단어를 추출해줌"
   ]
  },
  {
   "cell_type": "code",
   "execution_count": 4,
   "id": "49b0ea35",
   "metadata": {},
   "outputs": [
    {
     "name": "stdout",
     "output_type": "stream",
     "text": [
      "13721\n",
      "612\n"
     ]
    }
   ],
   "source": [
    "fdist = FreqDist(text1) # cased\n",
    "# 빈도수를 나타낼때는 cased된 'fdist'를 사용하면 됨\n",
    "\n",
    "# 단어의 빈도수 형식: fdist['단어']\n",
    "print(fdist['the']) # text1.count('the')\n",
    "print(fdist['The'])\n",
    "# The와 the의 개수가 다름 > 대소문자 구별"
   ]
  },
  {
   "cell_type": "code",
   "execution_count": 16,
   "id": "3e60a22e",
   "metadata": {},
   "outputs": [
    {
     "name": "stdout",
     "output_type": "stream",
     "text": [
      "<class 'list'>\n",
      ",의 빈도수는 18713입니다.\n",
      "the의 빈도수는 13721입니다.\n",
      ".의 빈도수는 6862입니다.\n",
      "of의 빈도수는 6536입니다.\n",
      "and의 빈도수는 6024입니다.\n",
      "a의 빈도수는 4569입니다.\n",
      "to의 빈도수는 4542입니다.\n",
      ";의 빈도수는 4072입니다.\n",
      "in의 빈도수는 3916입니다.\n",
      "that의 빈도수는 2982입니다.\n"
     ]
    }
   ],
   "source": [
    "# most_common(num): \n",
    "fdist.most_common(10)\n",
    "# 상위 가장 빈번한거 10개 뽑아줌 & 빈도수\n",
    "\n",
    "print(type(fdist.most_common(10)))\n",
    "\n",
    "for i in fdist.most_common(10):\n",
    "    a = list(i)[0]\n",
    "    b = list(i)[1]\n",
    "    print(f'{a}의 빈도수는 {b}입니다.')\n",
    "# most_common()으로 추출되는 내용은 리스트 내부에 튜플로\n",
    "# 처리되어 있기 때문에 반복문을 통해 요소를 사용할 수 있다."
   ]
  },
  {
   "cell_type": "code",
   "execution_count": 17,
   "id": "3c250837",
   "metadata": {},
   "outputs": [
    {
     "data": {
      "text/plain": [
       "0.052607363727335814"
      ]
     },
     "execution_count": 17,
     "metadata": {},
     "output_type": "execute_result"
    }
   ],
   "source": [
    "# freq()\n",
    "fdist.freq('the')\n",
    "# text1 전체에서 'the'가 차지하는 비율"
   ]
  },
  {
   "cell_type": "markdown",
   "id": "332c18c5",
   "metadata": {},
   "source": [
    "### plot()함수에 대하여\n",
    "- plot()은 데이터를 시각화 해줌\n",
    "- FreqDist()에서 plot()은 단어의 빈도수를 그래프로 표현\n",
    "- 형식: fdist.plot(상위 단어의 개수, cumulative = True)"
   ]
  },
  {
   "cell_type": "code",
   "execution_count": 21,
   "id": "3b3d6071",
   "metadata": {},
   "outputs": [
    {
     "name": "stdout",
     "output_type": "stream",
     "text": [
      "[<matplotlib.lines.Line2D object at 0x0000028D5175B340>]\n"
     ]
    },
    {
     "data": {
      "image/png": "[encoded data removed]",
      "text/plain": [
       "<Figure size 432x288 with 1 Axes>"
      ]
     },
     "metadata": {
      "needs_background": "light"
     },
     "output_type": "display_data"
    }
   ],
   "source": [
    "import matplotlib.pyplot as plt\n",
    "\n",
    "print(plt.plot([1,2,3,4], [4,3,2,1]))\n",
    "# plot(x좌표, y좌표)\n",
    "# plt.show()를 통해서도 print 할 수 있다."
   ]
  },
  {
   "cell_type": "code",
   "execution_count": 24,
   "id": "368d72d8",
   "metadata": {
    "scrolled": true
   },
   "outputs": [
    {
     "data": {
      "image/png": "[encoded data removed]",
      "text/plain": [
       "<Figure size 432x288 with 1 Axes>"
      ]
     },
     "metadata": {
      "needs_background": "light"
     },
     "output_type": "display_data"
    },
    {
     "name": "stdout",
     "output_type": "stream",
     "text": [
      "AxesSubplot(0.125,0.125;0.775x0.755)\n"
     ]
    },
    {
     "data": {
      "image/png": "[encoded data removed]",
      "text/plain": [
       "<Figure size 432x288 with 1 Axes>"
      ]
     },
     "metadata": {
      "needs_background": "light"
     },
     "output_type": "display_data"
    },
    {
     "name": "stdout",
     "output_type": "stream",
     "text": [
      "AxesSubplot(0.125,0.125;0.775x0.755)\n"
     ]
    }
   ],
   "source": [
    "# plot()\n",
    "print(fdist.plot(10, cumulative = True))\n",
    "# cumulative는 누적된 값을 보여줌\n",
    "print(fdist.plot(10))\n",
    "# cumulative가 없기 때문에 각각의 값을 그래프로 보여줌"
   ]
  },
  {
   "cell_type": "code",
   "execution_count": 26,
   "id": "ede8af8f",
   "metadata": {},
   "outputs": [
    {
     "name": "stdout",
     "output_type": "stream",
     "text": [
      "['Herman', 'Melville', ']', 'ETYMOLOGY', 'Late', 'Consumptive', 'School', 'threadbare', 'lexicons', 'mockingly']\n",
      "['Herman', 'Melville', 'ETYMOLOGY', 'Late', 'Consumptive', 'School', 'threadbare', 'lexicons', 'mockingly', 'flags', 'mortality', 'signification', 'HACKLUYT', 'Sw', 'HVAL', 'roundness', 'Dut', 'Ger', 'WALLEN']\n"
     ]
    }
   ],
   "source": [
    "# hapxes()\n",
    "print(fdist.hapaxes()[:10])\n",
    "\n",
    "# 알파벳만 리스트에 담아보기\n",
    "print([word for word in fdist.hapaxes()[:20] if word.isalpha()])"
   ]
  },
  {
   "cell_type": "code",
   "execution_count": 29,
   "id": "8ecea357",
   "metadata": {},
   "outputs": [
    {
     "name": "stdout",
     "output_type": "stream",
     "text": [
      "14431\n",
      "0\n"
     ]
    }
   ],
   "source": [
    "# 대소문자 구별 없이 freq dist 만들기\n",
    "fdist2 = FreqDist([word.lower() for word in text1])\n",
    "print(fdist2['the'])\n",
    "print(fdist2['The']) # 모두 소문자로 만들어 대소문자 구별을 없애서"
   ]
  },
  {
   "cell_type": "code",
   "execution_count": 32,
   "id": "5dd0f512",
   "metadata": {},
   "outputs": [
    {
     "data": {
      "text/plain": [
       "['and',\n",
       " 'by',\n",
       " 'The',\n",
       " 'of',\n",
       " 'had',\n",
       " 'in',\n",
       " '.',\n",
       " 'was',\n",
       " ',',\n",
       " 'and',\n",
       " 'was',\n",
       " 'at',\n",
       " ',',\n",
       " 'in',\n",
       " 'the',\n",
       " 'of',\n",
       " ',',\n",
       " ',',\n",
       " 'for',\n",
       " ',',\n",
       " 'had']"
      ]
     },
     "execution_count": 32,
     "metadata": {},
     "output_type": "execute_result"
    }
   ],
   "source": [
    "# text2에서 길이가 3자이하이고, 빈도수가 5이상인 단어 구하기\n",
    "[word for word in text2[:50] if len(word) <= 3 and FreqDist(text2)[word] >= 5]\n",
    "\n",
    "# [word for word in text2 if len(word) <= 3 and text2.count(word) >= 5]\n",
    "# 정답이지만 모든 단어에 대해 count를 해야하기 때문에 비효율적"
   ]
  },
  {
   "cell_type": "markdown",
   "id": "da2433e8",
   "metadata": {},
   "source": [
    "### 리스트 <-> 스트링\n",
    "- split(): 스트링을 주어진 기준으로 잘라 리스트로 만들어줌\n",
    "- 형식: string.split(seperator)\n",
    "    - default = ' '\n",
    "    - ex) string.split(',') -> ','을 기준으로 잘라줌\n",
    "- join(): 리스트를 주어진 기준으로 붙여 스트링으로 만들어줌\n",
    "- 형식: seperator.join(string)"
   ]
  },
  {
   "cell_type": "code",
   "execution_count": 44,
   "id": "322fa9d5",
   "metadata": {},
   "outputs": [
    {
     "name": "stdout",
     "output_type": "stream",
     "text": [
      "['I,', 'have,', 'a,', 'car']\n"
     ]
    },
    {
     "ename": "AttributeError",
     "evalue": "'list' object has no attribute 'strip'",
     "output_type": "error",
     "traceback": [
      "\u001b[1;31m---------------------------------------------------------------------------\u001b[0m",
      "\u001b[1;31mAttributeError\u001b[0m                            Traceback (most recent call last)",
      "\u001b[1;32m~\\AppData\\Local\\Temp/ipykernel_26828/4043595126.py\u001b[0m in \u001b[0;36m<module>\u001b[1;34m\u001b[0m\n\u001b[0;32m      3\u001b[0m \u001b[1;31m# ['I', 'have', 'a', 'car']\u001b[0m\u001b[1;33m\u001b[0m\u001b[1;33m\u001b[0m\u001b[0m\n\u001b[0;32m      4\u001b[0m \u001b[0mprint\u001b[0m\u001b[1;33m(\u001b[0m\u001b[0msent\u001b[0m\u001b[1;33m.\u001b[0m\u001b[0msplit\u001b[0m\u001b[1;33m(\u001b[0m\u001b[1;33m)\u001b[0m\u001b[1;33m)\u001b[0m\u001b[1;33m\u001b[0m\u001b[1;33m\u001b[0m\u001b[0m\n\u001b[1;32m----> 5\u001b[1;33m \u001b[0mprint\u001b[0m\u001b[1;33m(\u001b[0m\u001b[0msent\u001b[0m\u001b[1;33m.\u001b[0m\u001b[0msplit\u001b[0m\u001b[1;33m(\u001b[0m\u001b[1;34m','\u001b[0m\u001b[1;33m)\u001b[0m\u001b[1;33m.\u001b[0m\u001b[0mstrip\u001b[0m\u001b[1;33m(\u001b[0m\u001b[1;33m)\u001b[0m\u001b[1;33m)\u001b[0m \u001b[1;31m# string.strip() > 타입이 안맞기 때문에\u001b[0m\u001b[1;33m\u001b[0m\u001b[1;33m\u001b[0m\u001b[0m\n\u001b[0m",
      "\u001b[1;31mAttributeError\u001b[0m: 'list' object has no attribute 'strip'"
     ]
    }
   ],
   "source": [
    "# split()\n",
    "sent = 'I, have, a, car'\n",
    "# ['I', 'have', 'a', 'car']\n",
    "print(sent.split())\n",
    "print(sent.split(',').strip()) # string.strip() > 타입이 안맞기 때문에"
   ]
  },
  {
   "cell_type": "code",
   "execution_count": 41,
   "id": "0f1f3c03",
   "metadata": {},
   "outputs": [
    {
     "name": "stdout",
     "output_type": "stream",
     "text": [
      "['I', 'have', 'a', 'car']\n"
     ]
    }
   ],
   "source": [
    "# solution\n",
    "sent_tokens = [word.strip() for word in sent.split(',')]\n",
    "print(sent_tokens)"
   ]
  },
  {
   "cell_type": "code",
   "execution_count": 43,
   "id": "af846f54",
   "metadata": {},
   "outputs": [
    {
     "data": {
      "text/plain": [
       "'I have a car'"
      ]
     },
     "execution_count": 43,
     "metadata": {},
     "output_type": "execute_result"
    }
   ],
   "source": [
    "# join()\n",
    "# ['I', 'have', 'a', 'car'] => 'I have a car'\n",
    "' '.join(sent_tokens)"
   ]
  },
  {
   "cell_type": "markdown",
   "id": "46de4e76",
   "metadata": {},
   "source": [
    "### 반복문 맛보기\n",
    "- 자료구조를 순회할 때 사용\n",
    "- 시작조건, 종료조건, 수행명령\n",
    "- for 변수 in <반복 범위>:\n",
    "  <들여쓰기> <수행명령>\n",
    "- [<수행명령> for 변수 in <반복범위>] => list comprehension이랑 비슷\n",
    "- range(start, end, step): 숫자 순회할 때\n",
    "    - 0부터 시작   "
   ]
  },
  {
   "cell_type": "code",
   "execution_count": 46,
   "id": "d8cb5a5f",
   "metadata": {},
   "outputs": [
    {
     "name": "stdout",
     "output_type": "stream",
     "text": [
      "['I', 'have', 'a', 'car']\n",
      "I\n",
      "have\n",
      "a\n",
      "car\n"
     ]
    }
   ],
   "source": [
    "# list comprehension 사용\n",
    "print([word for word in sent_tokens])\n",
    "\n",
    "# for 반복문 사용\n",
    "for word in sent_tokens:\n",
    "    print(word)"
   ]
  },
  {
   "cell_type": "markdown",
   "id": "3665b483",
   "metadata": {},
   "source": [
    "### Ex\n",
    "-1. text6에서 길이가 4자 이하인 알파벳 중 ie를 포함하는 단어를 단어 개수로 출력하시오\n",
    "예: [1, 3, 4, 3]\n",
    "\n",
    "-2. text2에서 ch로 끝나는 단어를 출력하는데 \n",
    "    - 중복 없고\n",
    "    - 첫 글자와 ch 남기고 가운데는 모두 -로 가려라.\n",
    "        예: much -> m-ch\n",
    "        - ch로 시작하면 바꾸면 안됨\n",
    "    - 정렬:\n",
    "        - 문자 길이로 정렬하기"
   ]
  },
  {
   "cell_type": "code",
   "execution_count": 49,
   "id": "8c117e41",
   "metadata": {},
   "outputs": [
    {
     "data": {
      "text/plain": [
       "[2, 10, 10, 10, 10, 2, 4, 10, 10, 2, 1, 1, 4, 3, 3, 4, 2, 10, 10, 10, 10, 3, 4]"
      ]
     },
     "execution_count": 49,
     "metadata": {},
     "output_type": "execute_result"
    }
   ],
   "source": [
    "# Ex 1.\n",
    "[FreqDist(text6)[word] for word in text6 if len(word) <= 4 and 'ie' in word]"
   ]
  },
  {
   "cell_type": "code",
   "execution_count": 74,
   "id": "c3425593",
   "metadata": {},
   "outputs": [
    {
     "name": "stdout",
     "output_type": "stream",
     "text": [
      "['e-ch', 'm-ch', 'r-ch', 's-ch', 'E-ch', 'S-ch', 'M-ch', 'i-ch', 'p--ch', 't--ch', 'r--ch', 'c--ch', 'M--ch', 'b--ch', 'W--ch', 'w--ch', 'f--ch', 't--ch', 'w--ch', 'c--ch', 'm--ch', 's---ch', 'e---ch', 'a---ch', 'b---ch', 'b---ch', 's---ch', 's---ch', 'church', 's----ch', 's----ch', 's----ch', 'a-----ch', 'r-----ch', 'd-----ch', 'd-----ch']\n"
     ]
    }
   ],
   "source": [
    "# Ex 2.\n",
    "list_a = set([word for word in text2 if word.endswith('ch')])\n",
    "list_b =[]\n",
    "for i in list_a:\n",
    "    if i.startswith('ch'):\n",
    "        list_b.append(i)\n",
    "    elif i.endswith('ch'):\n",
    "        list_c = list(i)\n",
    "        for j in range(1,len(i) - 2):\n",
    "            list_c[j] = '-'\n",
    "        k = ''.join(list_c)\n",
    "        list_b.append(k)\n",
    "    else:\n",
    "        list_b.append(i)\n",
    "\n",
    "list_b.sort(key = len)\n",
    "print(list_b)"
   ]
  }
 ],
 "metadata": {
  "kernelspec": {
   "display_name": "Python 3 (ipykernel)",
   "language": "python",
   "name": "python3"
  },
  "language_info": {
   "codemirror_mode": {
    "name": "ipython",
    "version": 3
   },
   "file_extension": ".py",
   "mimetype": "text/x-python",
   "name": "python",
   "nbconvert_exporter": "python",
   "pygments_lexer": "ipython3",
   "version": "3.9.7"
  }
 },
 "nbformat": 4,
 "nbformat_minor": 5
}
