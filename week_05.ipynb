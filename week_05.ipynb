{
 "cells": [
  {
   "cell_type": "markdown",
   "id": "74bbd4c1",
   "metadata": {},
   "source": [
    "### Quiz 2. text2에서 ch로 끝나는 단어를 조건에 맞춰 출력하기.\n",
    "- for 반복문과 조건문을 사용해 풀었음\n",
    "- 한줄로 푸는 방법도 있음"
   ]
  },
  {
   "cell_type": "code",
   "execution_count": 1,
   "id": "d87a23c3",
   "metadata": {},
   "outputs": [
    {
     "name": "stdout",
     "output_type": "stream",
     "text": [
      "*** Introductory Examples for the NLTK Book ***\n",
      "Loading text1, ..., text9 and sent1, ..., sent9\n",
      "Type the name of the text or sentence to view it.\n",
      "Type: 'texts()' or 'sents()' to list the materials.\n",
      "text1: Moby Dick by Herman Melville 1851\n",
      "text2: Sense and Sensibility by Jane Austen 1811\n",
      "text3: The Book of Genesis\n",
      "text4: Inaugural Address Corpus\n",
      "text5: Chat Corpus\n",
      "text6: Monty Python and the Holy Grail\n",
      "text7: Wall Street Journal\n",
      "text8: Personals Corpus\n",
      "text9: The Man Who Was Thursday by G . K . Chesterton 1908\n"
     ]
    }
   ],
   "source": [
    "from nltk import book"
   ]
  },
  {
   "cell_type": "markdown",
   "id": "ef8e4838",
   "metadata": {},
   "source": [
    "## 반복문(for, while)\n",
    "\n",
    "### while\n",
    "- 어떤 조건이 만족할 때까지 해당 블록을 반복\n",
    "- 해당 조건이 거짓이면 수행을 멈춤\n",
    "-> Ture: 계속 반복, Flase: 반복을 멈춤\n",
    "=> for + if\n",
    "\n",
    "### for과 while의 차이점\n",
    "- 반복 횟수\n",
    "-> for: 반복하는 횟수가 정해져 있음\n",
    "-> while: 반복 횟수가 정해져 있지 않음\n",
    "\n",
    "- 종료\n",
    "-> for: 정해진 반복횟수를 만족하면 종료\n",
    "-> while: 정해진 조건을 만족하면 종료\n",
    "\n",
    "- for loop: 반복 횟수 정확히 알고, 반복 횟수 변하지 않을 때\n",
    "- while loop: 반복 횟수 정확하지 않고, 어떤 조건을 만족시킬 때 프로그램 종료하고 싶다면 사용\n",
    "    - ex) 가위바위보를 이기면 종료\n",
    "          정해진 목표량을 도달하면 종료\n",
    "    -> 반복문에 if가 붙는다면 while문을 사용"
   ]
  },
  {
   "cell_type": "code",
   "execution_count": 2,
   "id": "cc4bd231",
   "metadata": {},
   "outputs": [
    {
     "name": "stdout",
     "output_type": "stream",
     "text": [
      "0\n",
      "1\n",
      "2\n",
      "3\n",
      "4\n",
      "5\n",
      "6\n",
      "7\n",
      "8\n",
      "9\n"
     ]
    }
   ],
   "source": [
    "j = 0\n",
    "while j < 10:\n",
    "    print(j)\n",
    "    j += 1 # j가 변하는 조건이 필요\n",
    "# j가 변하는 조건이 없다면 무한 반복 함"
   ]
  },
  {
   "cell_type": "code",
   "execution_count": 3,
   "id": "eb5437c2",
   "metadata": {},
   "outputs": [
    {
     "data": {
      "text/plain": [
       "10"
      ]
     },
     "execution_count": 3,
     "metadata": {},
     "output_type": "execute_result"
    }
   ],
   "source": [
    "# 현재 j값은 몇일까?\n",
    "j\n",
    "# print함수가  j += 1보다 먼저 실행되기 때문에 '9'를 출력하고도 j는 변화함\n",
    "# print(j)와 j += 1의 위치 차이의 중요성"
   ]
  },
  {
   "cell_type": "code",
   "execution_count": 5,
   "id": "578b7a3b",
   "metadata": {},
   "outputs": [
    {
     "name": "stdout",
     "output_type": "stream",
     "text": [
      "a\n",
      "b\n",
      "c\n",
      "a\n",
      "b\n",
      "c\n"
     ]
    }
   ],
   "source": [
    "# 동일한 반복문을 for과 while로 다르게 나타낼수 있음\n",
    "# for loop\n",
    "characters = ['a', 'b', 'c']\n",
    "for ch in characters:\n",
    "    print(ch)\n",
    "    \n",
    "# while loop\n",
    "ch = 0\n",
    "while ch < len(characters):\n",
    "    print(characters[ch])\n",
    "    ch += 1"
   ]
  },
  {
   "cell_type": "markdown",
   "id": "cdd6858d",
   "metadata": {},
   "source": [
    "### 반복문의 제어\n",
    "- 의도치 않게 코드를 종료시킬 수 있기 때문에 되도록 사용하지 않는다.\n",
    "- break: 논리적으로 반복을 종료시키는 방법, break 시점을 잘 알아야함.\n",
    "- else: 어떤 조건이 \"완전히\" 끝났을 때 한번 더 실행하는 블록\n",
    "-> break로 인해 반복문이 끝났는지 아니면 끝까지 반복했는지 확인가능\n",
    "-> else에 의한 무언가가 도출되면 끝까지 반복한 경우\n",
    "- continue: 특정 조건을 건너뛰고 다음 조건을 수행함\n",
    "-> 사용시 주의할점: 반복문 외부의 조건을 변화시키는 'n = n+1과 같은 구문 앞에 사용될 경우 변화가 생기지 않아 계속 반복 될 수 있음.\n",
    "- pass: 아무런 작업도 수행하지 않고 넘어감"
   ]
  },
  {
   "cell_type": "code",
   "execution_count": 7,
   "id": "358677eb",
   "metadata": {},
   "outputs": [
    {
     "name": "stdout",
     "output_type": "stream",
     "text": [
      "0\n",
      "1\n",
      "2\n",
      "3\n",
      "4\n",
      "5\n",
      "0\n",
      "1\n",
      "2\n",
      "3\n",
      "4\n"
     ]
    }
   ],
   "source": [
    "# break & else\n",
    "for i in range(10):\n",
    "    if i ==6: break\n",
    "    print(i)\n",
    "else:\n",
    "    print(\"ended\")\n",
    "# 'ended가 출력되지 않았기 때문에 break에 의해 반복문이 종료됨을 의미함\n",
    "\n",
    "j = 0\n",
    "while j < 10:\n",
    "    print(j)\n",
    "    if j == 4: break\n",
    "    j += 1\n",
    "else:\n",
    "    print(\"ended\")"
   ]
  },
  {
   "cell_type": "code",
   "execution_count": 10,
   "id": "f48728f3",
   "metadata": {},
   "outputs": [
    {
     "name": "stdout",
     "output_type": "stream",
     "text": [
      "1\n",
      "2\n",
      "4\n",
      "5\n",
      "7\n",
      "8\n",
      "end\n",
      "3으로 나눌 수 없습니다.\n",
      "3으로 나눌 수 없습니다.\n",
      "3으로 나눌 수 없습니다.\n",
      "3으로 나눌 수 없습니다.\n",
      "3으로 나눌 수 없습니다.\n",
      "3으로 나눌 수 없습니다.\n"
     ]
    }
   ],
   "source": [
    "# continue % pass\n",
    "for i in range(10):\n",
    "    if i % 3 == 0:\n",
    "        continue\n",
    "    print(i)\n",
    "else:\n",
    "    print('end')\n",
    "# 3의 배수들을 건너뜀\n",
    "# 끝까지 반복했기 때문에 else문을 실행\n",
    "\n",
    "for i in range(10):\n",
    "    if i % 3 == 0:\n",
    "        pass\n",
    "    else:\n",
    "        print('3으로 나눌 수 없습니다.')\n",
    "# 3의 배수의 경우에는 아무것도 하지 않고 반복됨"
   ]
  },
  {
   "cell_type": "markdown",
   "id": "c803ec04",
   "metadata": {},
   "source": [
    "### 구구단\n",
    "- 1. for, while 선택한 뒤, n단을 입력받아서 n단을 출력한다.\n",
    "    - 출력: == 3단 ==\n",
    "            3 x 1 = 3\n",
    "            3 x 2 = 6\n",
    "            ...\n",
    "            3 x 9 = 27\n",
    "            \n",
    "- 2. 1 ~ n단까지 출력한다.\n",
    "- 3. 시작단, 끝단 둘다 입력받을 것.\n",
    "    - 예: 4 ~7 단\n",
    "    - 시작단이 끝단보다 작을 떄 어떻게 처리할지\n",
    "- 4. 프로그램을 만든다.\n",
    "    - 1) n단 출력 2) 1~n단 3) n~m단\n",
    "    - 3번 -> n, m\n",
    "    - 메뉴에 없는 선택 처리"
   ]
  },
  {
   "cell_type": "code",
   "execution_count": 11,
   "id": "432d2474",
   "metadata": {},
   "outputs": [
    {
     "name": "stdout",
     "output_type": "stream",
     "text": [
      "원하는 단을 입력하시오: 3\n",
      "== 3단 == \n",
      "3 x 1 = 3\n",
      "3 x 2 = 6\n",
      "3 x 3 = 9\n",
      "3 x 4 = 12\n",
      "3 x 5 = 15\n",
      "3 x 6 = 18\n",
      "3 x 7 = 21\n",
      "3 x 8 = 24\n",
      "3 x 9 = 27\n"
     ]
    }
   ],
   "source": [
    "# 구구단의 경우 반복횟수가 정해져 있기 때문에 for이 좋음\n",
    "n = int(input('원하는 단을 입력하시오: '))\n",
    "print(f\"== {n}단 == \")\n",
    "for i in range(1,10):\n",
    "    print(f'{n} x {i} = {n * i}')"
   ]
  },
  {
   "cell_type": "code",
   "execution_count": 15,
   "id": "5d844565",
   "metadata": {},
   "outputs": [
    {
     "name": "stdout",
     "output_type": "stream",
     "text": [
      "원하는 단을 입력하시오: 2\n",
      "== 1단 == \n",
      "1 x 1 = 1\n",
      "1 x 2 = 2\n",
      "1 x 3 = 3\n",
      "1 x 4 = 4\n",
      "1 x 5 = 5\n",
      "1 x 6 = 6\n",
      "1 x 7 = 7\n",
      "1 x 8 = 8\n",
      "1 x 9 = 9\n",
      "== 2단 == \n",
      "2 x 1 = 2\n",
      "2 x 2 = 4\n",
      "2 x 3 = 6\n",
      "2 x 4 = 8\n",
      "2 x 5 = 10\n",
      "2 x 6 = 12\n",
      "2 x 7 = 14\n",
      "2 x 8 = 16\n",
      "2 x 9 = 18\n"
     ]
    }
   ],
   "source": [
    "n = int(input('원하는 단을 입력하시오: '))\n",
    "for i in range(1,n+1):\n",
    "    print(f\"== {i}단 == \")\n",
    "    for j in range(1,10):\n",
    "         print(f'{i} x {j} = {i * j}')"
   ]
  },
  {
   "cell_type": "code",
   "execution_count": 23,
   "id": "6f0566aa",
   "metadata": {},
   "outputs": [
    {
     "name": "stdout",
     "output_type": "stream",
     "text": [
      "시작할 단을 입력하시오:3\n",
      "끝날 단을 입력하시오:2\n",
      "올바른 입력 값이 아닙니다.\n",
      "시작할 단을 입력하시오:2\n",
      "끝날 단을 입력하시오:3\n",
      "== 2단 == \n",
      "2 x 1 = 2\n",
      "2 x 2 = 4\n",
      "2 x 3 = 6\n",
      "2 x 4 = 8\n",
      "2 x 5 = 10\n",
      "2 x 6 = 12\n",
      "2 x 7 = 14\n",
      "2 x 8 = 16\n",
      "2 x 9 = 18\n",
      "== 3단 == \n",
      "3 x 1 = 3\n",
      "3 x 2 = 6\n",
      "3 x 3 = 9\n",
      "3 x 4 = 12\n",
      "3 x 5 = 15\n",
      "3 x 6 = 18\n",
      "3 x 7 = 21\n",
      "3 x 8 = 24\n",
      "3 x 9 = 27\n"
     ]
    }
   ],
   "source": [
    "#예외적인 상황을 대비해 주어진 조건에 맞을때 까지 반복하는 while문 사용\n",
    "while True:\n",
    "    start_n = int(input('시작할 단을 입력하시오:'))\n",
    "    end_n = int(input('끝날 단을 입력하시오:'))\n",
    "    if start_n <= end_n:\n",
    "        for i in range(start_n, end_n + 1):\n",
    "            print(f\"== {i}단 == \")\n",
    "            for j in range(1, 10):\n",
    "                print(f'{i} x {j} = {i * j}')\n",
    "        break\n",
    "    else:\n",
    "        print('올바른 입력 값이 아닙니다.')\n",
    "        continue"
   ]
  },
  {
   "cell_type": "code",
   "execution_count": 32,
   "id": "1b9169bd",
   "metadata": {
    "scrolled": true
   },
   "outputs": [
    {
     "name": "stdout",
     "output_type": "stream",
     "text": [
      "1~3중에 원하는 메뉴를 선택하시오: 1\n",
      "원하는 단을 입력하시오: 2\n",
      "== 2단 == \n",
      "2 x 1 = 2\n",
      "2 x 2 = 4\n",
      "2 x 3 = 6\n",
      "2 x 4 = 8\n",
      "2 x 5 = 10\n",
      "2 x 6 = 12\n",
      "2 x 7 = 14\n",
      "2 x 8 = 16\n",
      "2 x 9 = 18\n"
     ]
    }
   ],
   "source": [
    "while True:\n",
    "    select_menu = int(input('1~3중에 원하는 메뉴를 선택하시오: '))\n",
    "    if select_menu == 1:\n",
    "        n = int(input('원하는 단을 입력하시오: '))\n",
    "        print(f\"== {n}단 == \")\n",
    "        for i in range(1,10):\n",
    "            print(f'{n} x {i} = {n * i}')\n",
    "        break\n",
    "    elif select_menu == 2:\n",
    "        n = int(input('원하는 단을 입력하시오: '))\n",
    "        for i in range(1,n+1):\n",
    "            print(f\"== {i}단 == \")\n",
    "            for j in range(1, 10):\n",
    "                print(f'{i} x {j} = {i * j}')\n",
    "        break\n",
    "    elif select_menu == 3:\n",
    "        while True:\n",
    "            start_n = int(input('시작할 단을 입력하시오:'))\n",
    "            end_n = int(input('끝날 단을 입력하시오:'))\n",
    "            if start_n <= end_n:\n",
    "                for i in range(start_n, end_n + 1):\n",
    "                    print(f\"== {i}단 == \")\n",
    "                    for j in range(1, 10):\n",
    "                        print(f'{i} x {j} = {i * j}')\n",
    "                break\n",
    "            else:\n",
    "                print('올바른 입력 값이 아닙니다.')\n",
    "                continue\n",
    "    else:\n",
    "        print('메뉴에 없는 번호입니다.')\n",
    "        continue"
   ]
  },
  {
   "cell_type": "markdown",
   "id": "de2071d2",
   "metadata": {},
   "source": [
    "### print formating\n",
    "- 1. f string\n",
    "    - f, F 둘다 사용 가능\n",
    "    - f'{var}'\n",
    "- 2. format\n",
    "    - '{}'.format(var)\n",
    "- 3. %\n",
    "    - ' %type ' % var\n",
    "    - ex) 문자열: %s\n",
    "          실수: %s\n",
    "          정수: %d          "
   ]
  },
  {
   "cell_type": "code",
   "execution_count": 33,
   "id": "240297cf",
   "metadata": {},
   "outputs": [
    {
     "name": "stdout",
     "output_type": "stream",
     "text": [
      "나의 이름은 lee입니다.\n"
     ]
    }
   ],
   "source": [
    "# f string\n",
    "name = 'lee'\n",
    "print(f'나의 이름은 {name}입니다.')"
   ]
  },
  {
   "cell_type": "code",
   "execution_count": 35,
   "id": "6568fc02",
   "metadata": {},
   "outputs": [
    {
     "name": "stdout",
     "output_type": "stream",
     "text": [
      "나의 이름은 lee입니다\n"
     ]
    }
   ],
   "source": [
    "# format\n",
    "print('나의 이름은 {}입니다'.format(name))"
   ]
  },
  {
   "cell_type": "code",
   "execution_count": 36,
   "id": "eff7ebb9",
   "metadata": {},
   "outputs": [
    {
     "name": "stdout",
     "output_type": "stream",
     "text": [
      "나의 이름은 lee입니다.\n"
     ]
    }
   ],
   "source": [
    "# % 포맷팅\n",
    "print('나의 이름은 %s입니다.'% name)"
   ]
  },
  {
   "cell_type": "code",
   "execution_count": 37,
   "id": "47b30535",
   "metadata": {},
   "outputs": [
    {
     "data": {
      "text/plain": [
       "True"
      ]
     },
     "execution_count": 37,
     "metadata": {},
     "output_type": "execute_result"
    }
   ],
   "source": [
    "import nltk\n",
    "from nltk.corpus import gutenberg\n",
    "nltk.download('gutenberg', quiet = True)"
   ]
  },
  {
   "cell_type": "markdown",
   "id": "ac8aef92",
   "metadata": {},
   "source": [
    "### NLTK: Corpus\n",
    "- 다양한 종류의 코퍼스가 있다.\n",
    "-> 코퍼스(corpus)란:  언어 분석에 사용되는 실제 언어의 체계적 디지털 모음\n",
    "- 더 다양한 언어 분석이 가능\n",
    "\n",
    "- 종류\n",
    "    - gutenberg\n",
    "    - brown\n",
    "    - inaugural\n",
    "- 함수\n",
    "    - words(): 단어를 다루는 함수\n",
    "    - sents(): 문장을 다루며 문장의 요소들이 원소로 리스트에 저장됨\n",
    "    - fileids(): 해당 말뭉치의 파일 이름을 확인\n",
    "    - raw(): 글자(letter)를 다루는 함수"
   ]
  },
  {
   "cell_type": "code",
   "execution_count": 38,
   "id": "330d5501",
   "metadata": {},
   "outputs": [
    {
     "data": {
      "text/plain": [
       "['austen-emma.txt',\n",
       " 'austen-persuasion.txt',\n",
       " 'austen-sense.txt',\n",
       " 'bible-kjv.txt',\n",
       " 'blake-poems.txt',\n",
       " 'bryant-stories.txt',\n",
       " 'burgess-busterbrown.txt',\n",
       " 'carroll-alice.txt',\n",
       " 'chesterton-ball.txt',\n",
       " 'chesterton-brown.txt',\n",
       " 'chesterton-thursday.txt',\n",
       " 'edgeworth-parents.txt',\n",
       " 'melville-moby_dick.txt',\n",
       " 'milton-paradise.txt',\n",
       " 'shakespeare-caesar.txt',\n",
       " 'shakespeare-hamlet.txt',\n",
       " 'shakespeare-macbeth.txt',\n",
       " 'whitman-leaves.txt']"
      ]
     },
     "execution_count": 38,
     "metadata": {},
     "output_type": "execute_result"
    }
   ],
   "source": [
    "gutenberg.fileids()\n",
    "# gutenberg의 파일 이름들을 확인시켜줌"
   ]
  },
  {
   "cell_type": "code",
   "execution_count": 41,
   "id": "9c267bb1",
   "metadata": {},
   "outputs": [
    {
     "name": "stdout",
     "output_type": "stream",
     "text": [
      "글자는 [Emma, 단어는 ['[', 'Emma', 'by', 'Jane', 'Austen'], 문장은[['[', 'Emma', 'by', 'Jane', 'Austen', '1816', ']'], ['VOLUME', 'I'], ['CHAPTER', 'I'], ['Emma', 'Woodhouse', ',', 'handsome', ',', 'clever', ',', 'and', 'rich', ',', 'with', 'a', 'comfortable', 'home', 'and', 'happy', 'disposition', ',', 'seemed', 'to', 'unite', 'some', 'of', 'the', 'best', 'blessings', 'of', 'existence', ';', 'and', 'had', 'lived', 'nearly', 'twenty', '-', 'one', 'years', 'in', 'the', 'world', 'with', 'very', 'little', 'to', 'distress', 'or', 'vex', 'her', '.'], ['She', 'was', 'the', 'youngest', 'of', 'the', 'two', 'daughters', 'of', 'a', 'most', 'affectionate', ',', 'indulgent', 'father', ';', 'and', 'had', ',', 'in', 'consequence', 'of', 'her', 'sister', \"'\", 's', 'marriage', ',', 'been', 'mistress', 'of', 'his', 'house', 'from', 'a', 'very', 'early', 'period', '.']]입니다.\n"
     ]
    }
   ],
   "source": [
    "# about 'austen-emma.txt'\n",
    "letter = gutenberg.raw('austen-emma.txt')[0:5]\n",
    "words = gutenberg.words('austen-emma.txt')[0:5]\n",
    "sents = gutenberg.sents('austen-emma.txt')[0:5]\n",
    "print('글자는 {}, 단어는 {}, 문장은{}입니다.'.format(letter, words, sents))"
   ]
  },
  {
   "cell_type": "code",
   "execution_count": 40,
   "id": "1f6f2de9",
   "metadata": {},
   "outputs": [
    {
     "name": "stdout",
     "output_type": "stream",
     "text": [
      "austen-emma.txt의 글자 수는 887071이고,  단어 수는 192427이고, 문장 수는 7752입니다.\n",
      "austen-persuasion.txt의 글자 수는 466292이고,  단어 수는 98171이고, 문장 수는 3747입니다.\n",
      "austen-sense.txt의 글자 수는 673022이고,  단어 수는 141576이고, 문장 수는 4999입니다.\n",
      "bible-kjv.txt의 글자 수는 4332554이고,  단어 수는 1010654이고, 문장 수는 30103입니다.\n",
      "blake-poems.txt의 글자 수는 38153이고,  단어 수는 8354이고, 문장 수는 438입니다.\n",
      "bryant-stories.txt의 글자 수는 249439이고,  단어 수는 55563이고, 문장 수는 2863입니다.\n",
      "burgess-busterbrown.txt의 글자 수는 84663이고,  단어 수는 18963이고, 문장 수는 1054입니다.\n",
      "carroll-alice.txt의 글자 수는 144395이고,  단어 수는 34110이고, 문장 수는 1703입니다.\n",
      "chesterton-ball.txt의 글자 수는 457450이고,  단어 수는 96996이고, 문장 수는 4779입니다.\n",
      "chesterton-brown.txt의 글자 수는 406629이고,  단어 수는 86063이고, 문장 수는 3806입니다.\n",
      "chesterton-thursday.txt의 글자 수는 320525이고,  단어 수는 69213이고, 문장 수는 3742입니다.\n",
      "edgeworth-parents.txt의 글자 수는 935158이고,  단어 수는 210663이고, 문장 수는 10230입니다.\n",
      "melville-moby_dick.txt의 글자 수는 1242990이고,  단어 수는 260819이고, 문장 수는 10059입니다.\n",
      "milton-paradise.txt의 글자 수는 468220이고,  단어 수는 96825이고, 문장 수는 1851입니다.\n",
      "shakespeare-caesar.txt의 글자 수는 112310이고,  단어 수는 25833이고, 문장 수는 2163입니다.\n",
      "shakespeare-hamlet.txt의 글자 수는 162881이고,  단어 수는 37360이고, 문장 수는 3106입니다.\n",
      "shakespeare-macbeth.txt의 글자 수는 100351이고,  단어 수는 23140이고, 문장 수는 1907입니다.\n",
      "whitman-leaves.txt의 글자 수는 711215이고,  단어 수는 154883이고, 문장 수는 4250입니다.\n"
     ]
    }
   ],
   "source": [
    "# 구텐베르그의 각 파일을 돌아가면서 글자 수, 단어 수, 문장 수를 출력합니다.\n",
    "for i in gutenberg.fileids():\n",
    "    letter_num = len(gutenberg.raw(i))\n",
    "    word_num = len(gutenberg.words(i))\n",
    "    sent_num = len(gutenberg.sents(i))\n",
    "    print(f'{i}의 글자 수는 {letter_num}이고,  단어 수는 {word_num}이고, 문장 수는 {sent_num}입니다.')"
   ]
  },
  {
   "cell_type": "code",
   "execution_count": 42,
   "id": "a01e40ff",
   "metadata": {},
   "outputs": [
    {
     "data": {
      "text/plain": [
       "True"
      ]
     },
     "execution_count": 42,
     "metadata": {},
     "output_type": "execute_result"
    }
   ],
   "source": [
    "from nltk.book import *\n",
    "nltk.download('book', quiet = True)"
   ]
  },
  {
   "cell_type": "code",
   "execution_count": 43,
   "id": "44ce38d9",
   "metadata": {},
   "outputs": [],
   "source": [
    "texts = [text1,...,text9]\n",
    "#1 text1-9 => str 'textn'\n",
    "#2 'text1'에 기능을 부여한다. "
   ]
  },
  {
   "cell_type": "markdown",
   "id": "cb9d284f",
   "metadata": {},
   "source": [
    "### getattr(), hasattr(), setattr()\n",
    "- getattr(library,string): 해당 library에tj string변수의 값 가져오기\n",
    "-> stirng 변수의 값 출력\n",
    "- hasattr(library, string): 해당 library에 string이 있는지\n",
    "-> True or False 출력\n",
    "- setattr(library,string,a): 해당 library의 string의 값을 a로 설정"
   ]
  },
  {
   "cell_type": "code",
   "execution_count": 53,
   "id": "1fab188f",
   "metadata": {},
   "outputs": [
    {
     "name": "stdout",
     "output_type": "stream",
     "text": [
      "<Text: Moby Dick by Herman Melville 1851>\n",
      "True\n"
     ]
    }
   ],
   "source": [
    "# getattr()\n",
    "print(getattr(nltk.book, 'text1'))\n",
    "\n",
    "# hasattr()\n",
    "print(hasattr(nltk.book, 'text1'))"
   ]
  },
  {
   "cell_type": "code",
   "execution_count": 47,
   "id": "6c1ceac8",
   "metadata": {
    "scrolled": true
   },
   "outputs": [
    {
     "data": {
      "text/plain": [
       "[<Text: Moby Dick by Herman Melville 1851>,\n",
       " <Text: Sense and Sensibility by Jane Austen 1811>,\n",
       " <Text: The Book of Genesis>,\n",
       " <Text: Inaugural Address Corpus>,\n",
       " <Text: Chat Corpus>,\n",
       " <Text: Monty Python and the Holy Grail>,\n",
       " <Text: Wall Street Journal>,\n",
       " <Text: Personals Corpus>,\n",
       " <Text: The Man Who Was Thursday by G . K . Chesterton 1908>]"
      ]
     },
     "execution_count": 47,
     "metadata": {},
     "output_type": "execute_result"
    }
   ],
   "source": [
    "texts = [getattr(nltk.book, f'text{i}') for i in range(1,10)]\n",
    "texts"
   ]
  },
  {
   "cell_type": "code",
   "execution_count": 54,
   "id": "06d197aa",
   "metadata": {},
   "outputs": [
    {
     "data": {
      "text/plain": [
       "4"
      ]
     },
     "execution_count": 54,
     "metadata": {},
     "output_type": "execute_result"
    }
   ],
   "source": [
    "corpus1 = gutenberg.words(fileids = 'austen-emma.txt')\n",
    "fdist = nltk.FreqDist([w.lower() for w in corpus1])\n",
    "\n",
    "fdist['tree']"
   ]
  },
  {
   "cell_type": "markdown",
   "id": "a83f18b5",
   "metadata": {},
   "source": [
    "### Brown corpus"
   ]
  },
  {
   "cell_type": "code",
   "execution_count": 55,
   "id": "9e0e7046",
   "metadata": {},
   "outputs": [
    {
     "name": "stderr",
     "output_type": "stream",
     "text": [
      "[nltk_data] Downloading package brown to\n",
      "[nltk_data]     C:\\Users\\dong\\AppData\\Roaming\\nltk_data...\n",
      "[nltk_data]   Package brown is already up-to-date!\n"
     ]
    }
   ],
   "source": [
    "# from nltk.corpus import brown\n",
    "nltk.download('brown')\n",
    "brown_corpus = nltk.corpus.brown"
   ]
  },
  {
   "cell_type": "code",
   "execution_count": 56,
   "id": "812e71c0",
   "metadata": {},
   "outputs": [
    {
     "data": {
      "text/plain": [
       "['adventure',\n",
       " 'belles_lettres',\n",
       " 'editorial',\n",
       " 'fiction',\n",
       " 'government',\n",
       " 'hobbies',\n",
       " 'humor',\n",
       " 'learned',\n",
       " 'lore',\n",
       " 'mystery',\n",
       " 'news',\n",
       " 'religion',\n",
       " 'reviews',\n",
       " 'romance',\n",
       " 'science_fiction']"
      ]
     },
     "execution_count": 56,
     "metadata": {},
     "output_type": "execute_result"
    }
   ],
   "source": [
    "brown_corpus.categories()"
   ]
  },
  {
   "cell_type": "code",
   "execution_count": 58,
   "id": "f57cc83e",
   "metadata": {},
   "outputs": [],
   "source": [
    "# brown corpus의 humor 카테고리의 단어의 집합\n",
    "humor = brown_corpus.words(categories = 'humor')"
   ]
  },
  {
   "cell_type": "code",
   "execution_count": 59,
   "id": "2e7e4960",
   "metadata": {},
   "outputs": [
    {
     "name": "stdout",
     "output_type": "stream",
     "text": [
      "can 17\n",
      "could 33\n",
      "may 8\n",
      "might 8\n",
      "will 13\n",
      "would 56\n"
     ]
    }
   ],
   "source": [
    "# humor 내부의 modal verbs의 쓰임\n",
    "modals = ['can', 'could', 'may', 'might', 'will', 'would']\n",
    "\n",
    "fdist_brown = nltk.FreqDist([w.lower() for w in humor])\n",
    "\n",
    "for verb in modals:\n",
    "    print(verb, fdist_brown[verb])"
   ]
  },
  {
   "cell_type": "markdown",
   "id": "1aabc382",
   "metadata": {},
   "source": [
    "### CFD\n",
    "- 조건이 있는 fdist"
   ]
  },
  {
   "cell_type": "code",
   "execution_count": 63,
   "id": "e67187b0",
   "metadata": {},
   "outputs": [
    {
     "data": {
      "text/plain": [
       "[('.', 4057),\n",
       " (',', 3488),\n",
       " ('the', 3370),\n",
       " ('and', 1622),\n",
       " ('a', 1354),\n",
       " ('of', 1322),\n",
       " ('to', 1309),\n",
       " ('``', 998),\n",
       " (\"''\", 995),\n",
       " ('was', 914)]"
      ]
     },
     "execution_count": 63,
     "metadata": {},
     "output_type": "execute_result"
    }
   ],
   "source": [
    "cfd = nltk.ConditionalFreqDist(\n",
    "    (genre, word)\n",
    "    for genre in brown_corpus.categories()\n",
    "    for word in brown_corpus.words(categories=genre)\n",
    ")\n",
    "\n",
    "cfd['adventure'].most_common(10)"
   ]
  },
  {
   "cell_type": "code",
   "execution_count": 66,
   "id": "6ecb5ec2",
   "metadata": {},
   "outputs": [
    {
     "name": "stdout",
     "output_type": "stream",
     "text": [
      "                 can could   may might  will would \n",
      "     adventure    46   151     5    58    50   191 \n",
      "belles_lettres   246   213   207   113   236   392 \n",
      "     editorial   121    56    74    39   233   180 \n"
     ]
    }
   ],
   "source": [
    "# tabulate() -> 테이블 구조로 데이터를 인쇄\n",
    "cfd.tabulate(conditions = brown_corpus.categories()[:3], samples = modals)"
   ]
  }
 ],
 "metadata": {
  "kernelspec": {
   "display_name": "Python 3 (ipykernel)",
   "language": "python",
   "name": "python3"
  },
  "language_info": {
   "codemirror_mode": {
    "name": "ipython",
    "version": 3
   },
   "file_extension": ".py",
   "mimetype": "text/x-python",
   "name": "python",
   "nbconvert_exporter": "python",
   "pygments_lexer": "ipython3",
   "version": "3.9.7"
  }
 },
 "nbformat": 4,
 "nbformat_minor": 5
}
