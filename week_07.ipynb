{
 "cells": [
  {
   "cell_type": "markdown",
   "id": "fee0d987",
   "metadata": {},
   "source": [
    "### 함수"
   ]
  },
  {
   "cell_type": "markdown",
   "id": "33fc3e8a",
   "metadata": {},
   "source": [
    "1. 정의\n",
    "    - 편리한 재사용을 위한 코드의 묶음\n",
    "    - 정의하기(define) -> 호출하기(call)\n",
    "    - 구조\n",
    "        *함수 만들기*\n",
    "        def 함수이름(매개변수1,2,3....):\n",
    "            수행문1\n",
    "            수행문2\n",
    "            ....\n",
    "            return 출력값 or print()도 가능\n",
    "            \n",
    "        *호출하기*\n",
    "        함수이름(인수1,2,3,....)\n",
    "        <들여쓰기 주의>\n",
    "    - \"인터페이스\" 잘 설정하면 내부를 몰라도 함수를 쉽게 쓸 수 있다."
   ]
  },
  {
   "cell_type": "code",
   "execution_count": 2,
   "id": "baae38b0",
   "metadata": {},
   "outputs": [
    {
     "name": "stdout",
     "output_type": "stream",
     "text": [
      "quack\n",
      "hello hello\n"
     ]
    },
    {
     "data": {
      "text/plain": [
       "'hello hello'"
      ]
     },
     "execution_count": 2,
     "metadata": {},
     "output_type": "execute_result"
    }
   ],
   "source": [
    "# 입력과 반환은 모두 있어야 하는 것은 아님\n",
    "# 1.입력 없고, 반환 없음\n",
    "\n",
    "def make_a_sound():\n",
    "    print('quack')\n",
    "    return None # 생략가능\n",
    "\n",
    "make_a_sound()\n",
    "\n",
    "# 2.입력 없고, 반환 있고\n",
    "def agree():\n",
    "    return True\n",
    "\n",
    "agree()\n",
    "\n",
    "# 3. 입력 있고, 반환 없고\n",
    "def echo1(thing):\n",
    "    print('{0} {0}'.format(thing))\n",
    "echo1('hello')\n",
    "\n",
    "# 4. 입력 있고, 반환 있고\n",
    "def echo2(thing):\n",
    "    return '{0} {0}'.format(thing)\n",
    "echo2('hello')\n",
    "\n",
    "# 스트링으로 나와 변수로 받아서 쓸수 있음\n",
    "# ex) echo = echo('hello')"
   ]
  },
  {
   "cell_type": "markdown",
   "id": "c6b44895",
   "metadata": {},
   "source": [
    "2. 이름 짓기 -> 어떠한 함수인지 나타내는 부분이기 때문에 매우 중요!\n",
    "    - 소문자 사용한다.\n",
    "    - 카멜표기법 가능 < 언더바\n",
    "    - 동사 위주의 이름을 사용 + 명사\n",
    "    - 줄임말 쓰지 말기 pr_output -> print_output"
   ]
  },
  {
   "cell_type": "code",
   "execution_count": 3,
   "id": "8ef3fefb",
   "metadata": {},
   "outputs": [
    {
     "data": {
      "text/plain": [
       "9"
      ]
     },
     "execution_count": 3,
     "metadata": {},
     "output_type": "execute_result"
    }
   ],
   "source": [
    "def plus_num(first_num,second_num): # 숫자를 더한다는 뜻이 담기도록\n",
    "    return first_num + second_num\n",
    "\n",
    "plus_num(4,5)"
   ]
  },
  {
   "cell_type": "markdown",
   "id": "262829fd",
   "metadata": {},
   "source": [
    "3. 인수 매개변수\n",
    "    - 매개변수: 정의할 때 쓰임. 인터페이스 내에서만 유효함\n",
    "    - 인수: 호출할 때 쓰임.\n",
    "    - 함수 호출 시 인수에 할당된 값이 매개변수에 복제됨\n",
    "        - line = 'hello'\n",
    "        - anything = line #### copy\n",
    "        - anything 사라짐\n",
    "- 위치 인수\n",
    "    - postional argument\n",
    "    - 값을 순서대로 상용하는 매개변수에 복사하는 것\n",
    "- 키워드 인수\n",
    "    - keyword argument\n",
    "    - 매개변수에 상용하는 이름을 인수에 지정한다.\n",
    "    - 위치가 달라도 됨\n",
    "- 디폴트 인수\n",
    "    - default argument\n",
    "    - 정의할 때 매개변수의 기본값 설정\n",
    "    - 호출 시 인수가 없으면 기본값으로 적용됨"
   ]
  },
  {
   "cell_type": "code",
   "execution_count": 1,
   "id": "93f45dd1",
   "metadata": {},
   "outputs": [
    {
     "data": {
      "text/plain": [
       "{'wine': 'roja', 'entree': 'cake', 'dessert': 'egg'}"
      ]
     },
     "execution_count": 1,
     "metadata": {},
     "output_type": "execute_result"
    }
   ],
   "source": [
    "# 위치 인수\n",
    "\n",
    "def menu(wine, entree, dessert):\n",
    "    return {'wine':wine, 'entree':entree, 'dessert':dessert}\n",
    "menu('roja','cake','egg')\n",
    "\n",
    "#= => wine 에는 roja를,entree에는 cake을, dessert에는 egg를 인수로 넣어줌"
   ]
  },
  {
   "cell_type": "code",
   "execution_count": 2,
   "id": "ac46e8e9",
   "metadata": {},
   "outputs": [
    {
     "name": "stdout",
     "output_type": "stream",
     "text": [
      "{'wine': 'rigid', 'entree': 'egg', 'dessert': 'pancake'}\n",
      "{'wine': 'red', 'entree': 'salad', 'dessert': 'cake'}\n"
     ]
    }
   ],
   "source": [
    "# 키워드 인수\n",
    "print(menu(entree = 'egg', wine = 'rigid', dessert = 'pancake'))\n",
    "print(menu(wine = 'red', dessert = 'cake', entree = 'salad'))\n",
    "# 순서와 상관없이 키워드를 통해서 인수를 정해줌"
   ]
  },
  {
   "cell_type": "code",
   "execution_count": 5,
   "id": "691a5cc4",
   "metadata": {},
   "outputs": [
    {
     "data": {
      "text/plain": [
       "{'wine': 'rioja', 'entree': 'egg', 'dessert': 'scone'}"
      ]
     },
     "execution_count": 5,
     "metadata": {},
     "output_type": "execute_result"
    }
   ],
   "source": [
    "# 디폴트 인수\n",
    "# default\n",
    "def menu2(wine, entree, dessert='scone'): # 순서가 중요\n",
    "    return {'wine':wine, 'entree':entree, 'dessert':dessert}\n",
    "menu2('rioja','egg')\n",
    "\n",
    "# def menu2(wine='merlot', entree, dessert)과 같이 default가 먼저 앞에 정해진다면 오류 발생"
   ]
  },
  {
   "cell_type": "markdown",
   "id": "e95fe740",
   "metadata": {},
   "source": [
    "###  Quiz. 나이 -> 연도\n",
    "def fx():\n",
    "    # 입력값 = 나이\n",
    "    # 반환 = 출생년도\n",
    "- input 입력 받아서 함수 사용해서 출력하기"
   ]
  },
  {
   "cell_type": "code",
   "execution_count": 6,
   "id": "a0550056",
   "metadata": {},
   "outputs": [
    {
     "name": "stdout",
     "output_type": "stream",
     "text": [
      "나이를 입력하시오:20\n"
     ]
    },
    {
     "data": {
      "text/plain": [
       "2003"
      ]
     },
     "execution_count": 6,
     "metadata": {},
     "output_type": "execute_result"
    }
   ],
   "source": [
    "def find_year(): # 나이를 연도로 바꾸는거에 대한 이해가 드러나도록\n",
    "    age = int(input('나이를 입력하시오:'))\n",
    "    born_year = 2022 - (age - 1)\n",
    "    return born_year\n",
    "\n",
    "find_year()"
   ]
  },
  {
   "cell_type": "code",
   "execution_count": 7,
   "id": "9d7a47fb",
   "metadata": {},
   "outputs": [
    {
     "name": "stdout",
     "output_type": "stream",
     "text": [
      "20\n"
     ]
    },
    {
     "data": {
      "text/plain": [
       "2003"
      ]
     },
     "execution_count": 7,
     "metadata": {},
     "output_type": "execute_result"
    }
   ],
   "source": [
    "def find_year(year_old):\n",
    "    this_year = 2022 # 숫자를 직접 쓰는 것보다 변수로 저장해서 사용하는 것이 좋다\n",
    "    return this_year - year_old + 1\n",
    "age = int(input())\n",
    "find_year(age)"
   ]
  },
  {
   "cell_type": "markdown",
   "id": "993bf5b1",
   "metadata": {},
   "source": [
    "### Quiz\n",
    "- 사각형 너비 구하기\n",
    "    - 입력: 두 변 길이\n",
    "    - 반환: string = 'xx cm'"
   ]
  },
  {
   "cell_type": "code",
   "execution_count": 8,
   "id": "0082f0fd",
   "metadata": {},
   "outputs": [
    {
     "name": "stdout",
     "output_type": "stream",
     "text": [
      "4\n",
      "5\n",
      "20 cm\n"
     ]
    }
   ],
   "source": [
    "def calc_square_area(length,width):\n",
    "    area = length * width\n",
    "    return f'{area} cm'\n",
    "\n",
    "length = int(input())\n",
    "width = int(input())\n",
    "print(calc_square_area(length,width))"
   ]
  },
  {
   "cell_type": "markdown",
   "id": "a19d9ecf",
   "metadata": {},
   "source": [
    "### 호출방식:\n",
    "- 호출이란 함수를 사용하는 것으로 이해 가능\n",
    "   - 정의된 부분이 메모리에 업로드 되지만 실행은 안된다.\n",
    "   - 실행은 호출 시\n",
    "   - 값을 넘기는 방식: 참조에 의한 호출(call by reference) 메모리 주소\n",
    "       - 참조에 의한 호출이란?\n",
    "       - 함수 선언시 매개변수를 사용해 변수의 위치를 받도록 하고 함수 내부에서는 위치를 준 변수를 일반 변수처럼 사용하는 법\n",
    "   - 메모리 주소가 복사되기 때문에 가변객체가 매개변수로 들어갈 때 주의할 것"
   ]
  },
  {
   "cell_type": "code",
   "execution_count": 9,
   "id": "e74dfbd4",
   "metadata": {},
   "outputs": [
    {
     "name": "stdout",
     "output_type": "stream",
     "text": [
      "['a']\n",
      "['a', 'b']\n"
     ]
    }
   ],
   "source": [
    "def buggy(arg, result =[]):\n",
    "    result.append(arg)\n",
    "    print(result)\n",
    "buggy('a')\n",
    "buggy('b')\n",
    "# 계속 쌓이는 문제가 생김 -> 얕은 복사 때문에"
   ]
  },
  {
   "cell_type": "code",
   "execution_count": 10,
   "id": "1072142d",
   "metadata": {},
   "outputs": [
    {
     "name": "stdout",
     "output_type": "stream",
     "text": [
      "['a']\n",
      "['b']\n"
     ]
    }
   ],
   "source": [
    "def buggy(arg, result =[]):\n",
    "    result = [] # 비운 뒤 -> 위와 같이 변수에 계속 쌓이는 문제를 해결 가능\n",
    "    result.append(arg)\n",
    "    print(result)\n",
    "buggy('a')\n",
    "buggy('b')\n",
    "# 가변객체가 들어갈 때는 주의해야함"
   ]
  },
  {
   "cell_type": "markdown",
   "id": "f217471f",
   "metadata": {},
   "source": [
    "### None\n",
    "- 값이 없다는 의미로 사용됨\n",
    "- is None: 값이 없을 때\n",
    "- is not None: 값이 있을 때"
   ]
  },
  {
   "cell_type": "code",
   "execution_count": 24,
   "id": "a4b97b68",
   "metadata": {},
   "outputs": [
    {
     "name": "stdout",
     "output_type": "stream",
     "text": [
      "최댓값은 92 입니다.\n",
      "92\n"
     ]
    }
   ],
   "source": [
    "# None을 활용하여 최대값 구하기\n",
    "array = [14,3,92,55,22]\n",
    "max_num = None # 값이 없이 시작\n",
    "for n in array:\n",
    "    if max_num is None:\n",
    "        max_num = n\n",
    "    elif n > max_num:\n",
    "        max_num = n\n",
    "print('최댓값은 {} 입니다.'.format(max_num))\n",
    "print(max_num)"
   ]
  },
  {
   "cell_type": "code",
   "execution_count": 26,
   "id": "f5aa903b",
   "metadata": {},
   "outputs": [
    {
     "name": "stdout",
     "output_type": "stream",
     "text": [
      "b\n",
      "None\n"
     ]
    }
   ],
   "source": [
    "# None <- is None\n",
    "thing = None\n",
    "if thing: # True\n",
    "    print('a')\n",
    "else: # False\n",
    "    print('b')\n",
    "print(thing)"
   ]
  },
  {
   "cell_type": "code",
   "execution_count": 29,
   "id": "6964f11d",
   "metadata": {},
   "outputs": [
    {
     "name": "stdout",
     "output_type": "stream",
     "text": [
      "a\n"
     ]
    }
   ],
   "source": [
    "# None <- is None\n",
    "thing = None\n",
    "if thing is None: # True\n",
    "    print('a')\n",
    "elif thing: # 왜 b는 출력하지 않는지..??\n",
    "    print('b')\n",
    "else: # False\n",
    "    print('c')"
   ]
  },
  {
   "cell_type": "markdown",
   "id": "5ef270ee",
   "metadata": {},
   "source": [
    "### Quiz\n",
    "def nonbuggy(arg,result):\n",
    "    # 목표: 리스트 쌓이거나 비우는 옵션 모두 설정하도록 None 사용해서 함수 재정의하기\n",
    "    # result is None, 빈리스트\n",
    "    # 아니면 코드 그대로"
   ]
  },
  {
   "cell_type": "code",
   "execution_count": 31,
   "id": "58edd2e2",
   "metadata": {},
   "outputs": [
    {
     "name": "stdout",
     "output_type": "stream",
     "text": [
      "None\n",
      "None\n"
     ]
    }
   ],
   "source": [
    "def nonbuggy(arg, result =None):\n",
    "    if result is None:\n",
    "        result=[]\n",
    "    result.append(arg)\n",
    "list_a =[]\n",
    "print(nonbuggy('a',list_a))\n",
    "print(nonbuggy('b',list_a))"
   ]
  },
  {
   "cell_type": "markdown",
   "id": "d23ca2b9",
   "metadata": {},
   "source": [
    "### 전역변수 vs 지역변수\n",
    "- 지역변수: 함수 내에서만 사용 가능\n",
    "    - 함수 밖에서는 사용 불가 -> 함수 밖에서 호출 자체가 안됨\n",
    "- 전역변수: 프로그램 전체에서 사용 가능\n",
    "    - 함수 내부를 포함한 모든 곳"
   ]
  },
  {
   "cell_type": "code",
   "execution_count": 32,
   "id": "8334dff8",
   "metadata": {},
   "outputs": [
    {
     "name": "stdout",
     "output_type": "stream",
     "text": [
      "london\n",
      "london\n"
     ]
    }
   ],
   "source": [
    "def fx():\n",
    "    global city # city를 전역변수로 만들어줌 by global 키워드\n",
    "    city = 'london'\n",
    "    print(city)\n",
    "city = 'paris'\n",
    "fx()\n",
    "# 만약 이부분에 city = 'paris'가 있었다면 달라짐\n",
    "print(city)"
   ]
  },
  {
   "cell_type": "code",
   "execution_count": 33,
   "id": "43da3c48",
   "metadata": {},
   "outputs": [
    {
     "name": "stdout",
     "output_type": "stream",
     "text": [
      "paris\n"
     ]
    }
   ],
   "source": [
    "city = 'paris'\n",
    "print(city)"
   ]
  },
  {
   "cell_type": "markdown",
   "id": "50a98694",
   "metadata": {},
   "source": [
    "### 독스트링\n",
    "- 독스트링은 함수나 클래스, 모듈에 첨부할 수 있는, 큰 따옴표 세 개 (\"\"\") 혹은 작은 따옴표 세 개 (''')로 둘러싸여진 문자열이다.\n",
    "- 보통은 함수, 클래스, 모듈의 목적과 이를 이용할 때 필요한 세부 정보들을 담음"
   ]
  },
  {
   "cell_type": "code",
   "execution_count": 34,
   "id": "e1c175d5",
   "metadata": {},
   "outputs": [
    {
     "data": {
      "text/plain": [
       "30"
      ]
     },
     "execution_count": 34,
     "metadata": {},
     "output_type": "execute_result"
    }
   ],
   "source": [
    "def num_sum(num1,num2):\n",
    "    \"\"\"\n",
    "    num1과 num2에는 더하고 싶은 숫자를 입력\n",
    "    int or float\n",
    "    \"\"\"\n",
    "    return num1 + num2\n",
    "num_sum(10,20)"
   ]
  },
  {
   "cell_type": "code",
   "execution_count": 36,
   "id": "7cf70ff5",
   "metadata": {},
   "outputs": [
    {
     "name": "stdout",
     "output_type": "stream",
     "text": [
      "Help on function num_sum in module __main__:\n",
      "\n",
      "num_sum(num1, num2)\n",
      "    doc string: 함수에 대한 설명\n",
      "    매개변수에 대한 설명, 타입, 함수의 의도\n",
      "\n"
     ]
    },
    {
     "data": {
      "text/plain": [
       "'\\n    doc string: 함수에 대한 설명\\n    매개변수에 대한 설명, 타입, 함수의 의도\\n    '"
      ]
     },
     "execution_count": 36,
     "metadata": {},
     "output_type": "execute_result"
    }
   ],
   "source": [
    "# 독스트링 읽는 법\n",
    "#방법1\n",
    "help(num_sum)\n",
    "\n",
    "#방법2\n",
    "num_sum.__doc__"
   ]
  }
 ],
 "metadata": {
  "kernelspec": {
   "display_name": "Python 3 (ipykernel)",
   "language": "python",
   "name": "python3"
  },
  "language_info": {
   "codemirror_mode": {
    "name": "ipython",
    "version": 3
   },
   "file_extension": ".py",
   "mimetype": "text/x-python",
   "name": "python",
   "nbconvert_exporter": "python",
   "pygments_lexer": "ipython3",
   "version": "3.9.7"
  }
 },
 "nbformat": 4,
 "nbformat_minor": 5
}
