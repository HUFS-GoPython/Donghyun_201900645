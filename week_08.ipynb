{
 "cells": [
  {
   "cell_type": "markdown",
   "id": "4fdb3874",
   "metadata": {},
   "source": [
    "### 딕셔너리\n",
    "- 영어사전이라고 생각하면 됨, {단어:뜻}\n",
    "- 키(key):값(value)\n",
    "    - 키값은 고유해야 한다. -> 고유한 값 사용 위해 노력\n",
    "- 순서가 없음 => 오프셋 없음\n",
    "    - 리스트나 튜플과 같이 순서관련 동작이 불가능\n",
    "- 가변객체 (수정, 추가, 삭제 가능) \n",
    "- 타입: dict, dict()\n",
    "- 생성: {key:value} 중괄호 사용\n",
    "- value에는 리스트, 튜플, 딕셔너리도 들어갈 수 있음."
   ]
  },
  {
   "cell_type": "code",
   "execution_count": 2,
   "id": "d70b624a",
   "metadata": {},
   "outputs": [
    {
     "name": "stdout",
     "output_type": "stream",
     "text": [
      "[1, 2, 3]\n",
      "[1, 2, 3]\n",
      "<class 'list'>\n",
      "{}\n",
      "set()\n"
     ]
    }
   ],
   "source": [
    "a = [1,2,3]\n",
    "print(a)\n",
    "set(a)\n",
    "print(a)\n",
    "print(type(a))\n",
    "a = dict()\n",
    "print(a)\n",
    "a = set()\n",
    "print(a)"
   ]
  },
  {
   "cell_type": "code",
   "execution_count": 5,
   "id": "34fc6e50",
   "metadata": {},
   "outputs": [
    {
     "name": "stdout",
     "output_type": "stream",
     "text": [
      "{'first': 'wile', 'middle': 'E', 'last': 'coyote'}\n"
     ]
    },
    {
     "data": {
      "text/plain": [
       "{}"
      ]
     },
     "execution_count": 5,
     "metadata": {},
     "output_type": "execute_result"
    }
   ],
   "source": [
    "# 딕셔너리 생성 방법\n",
    "# 1\n",
    "empty = dict()\n",
    "customer = dict(first='wile',middle='E',last='coyote')\n",
    "\n",
    "# 2\n",
    "empty = {}\n",
    "customer = {\"first\":\"wile\",\"middle\":\"E\",\"last\":\"coyote\"}\n",
    "\n",
    "print(customer)\n",
    "empty"
   ]
  },
  {
   "cell_type": "code",
   "execution_count": null,
   "id": "fa4573a5",
   "metadata": {},
   "outputs": [],
   "source": [
    "# Quiz 출석부 딕셔너리를 만들기\n",
    "\"\"\"이름, 학번, 학과\n",
    "제임스,경영학과\n",
    "줄리엣 아랍어과\n",
    "로버트 ELLT과\"\"\""
   ]
  },
  {
   "cell_type": "code",
   "execution_count": null,
   "id": "e996e10b",
   "metadata": {},
   "outputs": [],
   "source": [
    "student_dict = {'제임스':('202000642','경영학과'),'줄리엣':('202000374','아랍어과'),'로버트':('20204673','ELLT과')}\n",
    "student_dict\n",
    "\n",
    "# 고유한 값으로 key를 해줘야함 -> 이름의 경우는 겹칠수 있음\n",
    "student_dict = {'202000642':('제임스','경영학과'),'202000374':('줄리엣','아랍어과'),'20204673':('로버트','ELLT과')}"
   ]
  },
  {
   "cell_type": "code",
   "execution_count": 7,
   "id": "cd4afdf3",
   "metadata": {
    "scrolled": true
   },
   "outputs": [
    {
     "ename": "SyntaxError",
     "evalue": "invalid syntax (Temp/ipykernel_17344/1748523439.py, line 2)",
     "output_type": "error",
     "traceback": [
      "\u001b[1;36m  File \u001b[1;32m\"C:\\Users\\dong\\AppData\\Local\\Temp/ipykernel_17344/1748523439.py\"\u001b[1;36m, line \u001b[1;32m2\u001b[0m\n\u001b[1;33m    student_dict = {'202000642':'제임스':'경영학과','202000374':'줄리엣':'아랍어과','20204673':'로버트':'ELLT과'}\u001b[0m\n\u001b[1;37m                                     ^\u001b[0m\n\u001b[1;31mSyntaxError\u001b[0m\u001b[1;31m:\u001b[0m invalid syntax\n"
     ]
    }
   ],
   "source": [
    "# 세개를 함께 할수는 없는지\n",
    "student_dict = {'202000642':'제임스':'경영학과','202000374':'줄리엣':'아랍어과','20204673':'로버트':'ELLT과'}\n",
    "# 딕셔너리의 경우 한개의 key에 한개의 value가 대응하는 방식으로 이는 불가능"
   ]
  },
  {
   "cell_type": "markdown",
   "id": "2c25a86f",
   "metadata": {},
   "source": [
    "### 형변환"
   ]
  },
  {
   "cell_type": "code",
   "execution_count": 8,
   "id": "1d60ab0d",
   "metadata": {},
   "outputs": [
    {
     "name": "stdout",
     "output_type": "stream",
     "text": [
      "{1: 2, 3: 4, 5: 6}\n",
      "{1: 2, 3: 4, 5: 6}\n",
      "{'a': 'b', 'c': 'd', 'e': 'f'}\n"
     ]
    }
   ],
   "source": [
    "ex1 = [[1,2],[3,4],[5,6]]\n",
    "print(dict(ex1))\n",
    "\n",
    "ex2 = [(1,2),(3,4),(5,6)]\n",
    "print(dict(ex2))\n",
    "\n",
    "ex3 = ['ab','cd','ef'] # 길이가 2인 경우만 가능\n",
    "print(dict(ex3))"
   ]
  },
  {
   "cell_type": "code",
   "execution_count": 10,
   "id": "ae2bd5b1",
   "metadata": {},
   "outputs": [
    {
     "name": "stdout",
     "output_type": "stream",
     "text": [
      "{'ab': 'cd', 'ef': 'gh', 'jk': 'lm'}\n"
     ]
    }
   ],
   "source": [
    "# 직접 나눠주는 방법으로 길이가 2가 아니더라도 딕셔너리 형성 가능\n",
    "ex4_dict = {}\n",
    "ex4 = ['abcd','efgh','jklm']\n",
    "\n",
    "for i in ex4:\n",
    "    ex4_dict[i[0:2]] = i[2:]\n",
    "print(ex4_dict)"
   ]
  },
  {
   "cell_type": "markdown",
   "id": "b36b25be",
   "metadata": {},
   "source": [
    "### 항목조회 변경\n",
    "- 키로 항목을 찾아 값을 할당한다.\n",
    "- 이미 존재하는 키이면 값을 생성한다."
   ]
  },
  {
   "cell_type": "code",
   "execution_count": 2,
   "id": "fe273f84",
   "metadata": {},
   "outputs": [],
   "source": [
    "python = {\n",
    "    'Chapma':'Graham',\n",
    "    'Clese':'Hohn',\n",
    "    'Idle':'Eric',\n",
    "    'Jones':'Terry',\n",
    "    'Palin':'mciehe'\n",
    "}"
   ]
  },
  {
   "cell_type": "code",
   "execution_count": 3,
   "id": "32be7029",
   "metadata": {},
   "outputs": [
    {
     "data": {
      "text/plain": [
       "{'Chapma': 'Graham',\n",
       " 'Clese': 'Hohn',\n",
       " 'Idle': 'Eric',\n",
       " 'Jones': 'Terry',\n",
       " 'Palin': 'John',\n",
       " 'Kim': 'Laure'}"
      ]
     },
     "execution_count": 3,
     "metadata": {},
     "output_type": "execute_result"
    }
   ],
   "source": [
    "# 1.딕셔너리에 Palin이 있지만 value가 다를 경우 -> value가 John으로 바뀜\n",
    "# 2. 딕셔너리에 Palin이 있고 value가 같을 경우 -> 변화 없음\n",
    "# 3. 딕셔너리에 Palin이라는 key가 없을 경우 'Palin':'John'생성\n",
    "python['Palin'] = 'John' # case1\n",
    "\n",
    "python['Kim'] ='Laure' # case3\n",
    "python"
   ]
  },
  {
   "cell_type": "code",
   "execution_count": 4,
   "id": "af1b9ea8",
   "metadata": {},
   "outputs": [
    {
     "name": "stdout",
     "output_type": "stream",
     "text": [
      "False\n",
      "True\n",
      "None\n",
      "0\n",
      "Laure\n"
     ]
    }
   ],
   "source": [
    "# 딕셔너리 key 유무 확인\n",
    "# 1.\n",
    "print('Lee' in python)\n",
    "print('Kim' in python)\n",
    "\n",
    "# 2. \n",
    "print(python.get('Lee'))\n",
    "print(python.get('Lee',0)) # 없을 경우 0 출력\n",
    "print(python.get('Kim'))"
   ]
  },
  {
   "cell_type": "markdown",
   "id": "31e43adb",
   "metadata": {},
   "source": [
    "#### keys(), values(), items()\n",
    "- .keys() -> 딕셔너리의 key값 반환\n",
    "- .values() -> 딕셔너리의 value값 반환\n",
    "- .items() -> 딕셔너리의 items(key와 value) 반환"
   ]
  },
  {
   "cell_type": "code",
   "execution_count": 5,
   "id": "6f2bbf62",
   "metadata": {},
   "outputs": [
    {
     "name": "stdout",
     "output_type": "stream",
     "text": [
      "dict_keys(['Chapma', 'Clese', 'Idle', 'Jones', 'Palin', 'Kim'])\n",
      "dict_values(['Graham', 'Hohn', 'Eric', 'Terry', 'John', 'Laure'])\n",
      "dict_items([('Chapma', 'Graham'), ('Clese', 'Hohn'), ('Idle', 'Eric'), ('Jones', 'Terry'), ('Palin', 'John'), ('Kim', 'Laure')])\n"
     ]
    }
   ],
   "source": [
    "print(python.keys())\n",
    "print(python.values())\n",
    "print(python.items())"
   ]
  },
  {
   "cell_type": "code",
   "execution_count": 6,
   "id": "838ec383",
   "metadata": {},
   "outputs": [
    {
     "name": "stdout",
     "output_type": "stream",
     "text": [
      "['Chapma', 'Clese', 'Idle', 'Jones', 'Palin', 'Kim']\n",
      "['Graham', 'Hohn', 'Eric', 'Terry', 'John', 'Laure']\n"
     ]
    }
   ],
   "source": [
    "# items()를 이용한 순회\n",
    "a = [x[0] for x in python.items()] # key 값\n",
    "print(a)\n",
    "\n",
    "b = [x[1] for x in python.items()] # value 값\n",
    "print(b)"
   ]
  },
  {
   "cell_type": "code",
   "execution_count": 7,
   "id": "c6ea1f1d",
   "metadata": {},
   "outputs": [],
   "source": [
    "# Quiz 1\n",
    "#for loop 이용해서 animal:legs 이용한 딕셔너리\n",
    "animal = 'cat snake monkey ant spider'.split()\n",
    "legs = 4,0,2,4,8\n",
    "\n",
    "# Quiz 2\n",
    "# python에서 성:이름 => 리스트컴프리헨션 이용해서 {(성 앞글자, 이름의 글자 수)}"
   ]
  },
  {
   "cell_type": "code",
   "execution_count": 8,
   "id": "5b29b131",
   "metadata": {},
   "outputs": [
    {
     "name": "stdout",
     "output_type": "stream",
     "text": [
      "{'cat': 4, 'snake': 0, 'monkey': 2, 'ant': 4, 'spider': 8}\n"
     ]
    }
   ],
   "source": [
    "# Quiz 1\n",
    "dict_animal ={}\n",
    "for i in range(len(animal)):\n",
    "    dict_animal[animal[i]] = legs[i]\n",
    "print(dict_animal)"
   ]
  },
  {
   "cell_type": "code",
   "execution_count": 9,
   "id": "8eaf7c1e",
   "metadata": {},
   "outputs": [
    {
     "name": "stdout",
     "output_type": "stream",
     "text": [
      "{'C': 4, 'I': 4, 'J': 5, 'P': 4, 'K': 5}\n"
     ]
    },
    {
     "data": {
      "text/plain": [
       "[('C', 6), ('C', 4), ('I', 4), ('J', 5), ('P', 4), ('K', 5)]"
      ]
     },
     "execution_count": 9,
     "metadata": {},
     "output_type": "execute_result"
    }
   ],
   "source": [
    "# Quiz 2\n",
    "# 방법 1\n",
    "first_name = [name[0][0] for name in python.items()]\n",
    "len_name = [len(k[1]) for k in python.items()]\n",
    "name_dict ={}\n",
    "for i in range(len(first_name)):\n",
    "    name_dict[first_name[i]] = len_name[i]\n",
    "print(name_dict)\n",
    "# 한계점: 'C'의 경우 2개 존재 하기 때문에 딕셔너러의 key의 경우는 고유해야하기 때문에 하나가 사라짐\n",
    "\n",
    "# 방법 2\n",
    "[(k[0],len(v)) for k,v in python.items()]"
   ]
  },
  {
   "cell_type": "markdown",
   "id": "34fd7763",
   "metadata": {},
   "source": [
    "#### 값 수정, 삭제, 복제"
   ]
  },
  {
   "cell_type": "code",
   "execution_count": 10,
   "id": "40022fb4",
   "metadata": {},
   "outputs": [
    {
     "data": {
      "text/plain": [
       "{'Chapma': 'Graham',\n",
       " 'Clese': 'Hohn',\n",
       " 'Idle': 'Eric',\n",
       " 'Jones': 'Terry',\n",
       " 'Palin': 'John',\n",
       " 'Kim': 'Laure',\n",
       " 'Marx': 'Groucho',\n",
       " 'Howard': 'Moe'}"
      ]
     },
     "execution_count": 10,
     "metadata": {},
     "output_type": "execute_result"
    }
   ],
   "source": [
    "# update() -> 딕셔너리 추가\n",
    "others = {\n",
    "    'Marx':'Groucho',\n",
    "    'Howard':'Moe'\n",
    "}\n",
    "\n",
    "python.update(others)\n",
    "python"
   ]
  },
  {
   "cell_type": "code",
   "execution_count": 11,
   "id": "a2d4ea27",
   "metadata": {},
   "outputs": [
    {
     "name": "stdout",
     "output_type": "stream",
     "text": [
      "{'Chapma': 'Graham', 'Clese': 'Hohn', 'Idle': 'Eric', 'Jones': 'Terry', 'Palin': 'John', 'Marx': 'Groucho', 'Howard': 'Moe'}\n",
      "{'Chapma': 'Graham', 'Clese': 'Hohn', 'Idle': 'Eric', 'Jones': 'Terry', 'Palin': 'John', 'Howard': 'Moe'}\n",
      "{}\n"
     ]
    }
   ],
   "source": [
    "# 삭제\n",
    "# 1. del\n",
    "del python['Kim']\n",
    "print(python)\n",
    "\n",
    "# 2. pop() -> get()과 비슷한 성질\n",
    "python.pop('Marx',0) # 'Marx'를 삭제하고 0을 출력\n",
    "print(python)\n",
    "\n",
    "# 3. clear() -> 전부 삭제\n",
    "python.clear()\n",
    "print(python)\n",
    "# python = {}과 동일"
   ]
  },
  {
   "cell_type": "code",
   "execution_count": 15,
   "id": "44493951",
   "metadata": {},
   "outputs": [
    {
     "name": "stdout",
     "output_type": "stream",
     "text": [
      "{1: 10, 2: 3, 3: 4} {1: 10, 2: 3, 3: 4}\n",
      "{1: 100, 2: 3, 3: 4} {1: 10, 2: 3, 3: 4}\n",
      "{1: [100, 2, 2], 2: [1, 1, 1]} {1: [100, 2, 2], 2: [1, 1, 1]}\n",
      "{1: [9, 2, 2], 2: [1, 1, 1]} {1: [100, 2, 2], 2: [1, 1, 1]}\n"
     ]
    }
   ],
   "source": [
    "# copy\n",
    "#1. 할당\n",
    "a = {1:2,2:3,3:4}\n",
    "b = a\n",
    "a[1] = 10\n",
    "print(a,b)\n",
    "\n",
    "#2. 얕은 복사\n",
    "b = a.copy() # 그냥 딕셔너리의 경우는 반영 안됨\n",
    "a[1] = 100\n",
    "print(a,b)\n",
    "\n",
    "a = {1:[2,2,2],2:[1,1,1]} # 중첩 딕셔너리의 경우는 반영됨\n",
    "b = a.copy()\n",
    "a[1][0] = 100\n",
    "print(a,b)\n",
    "\n",
    "#3. 깊은 복사\n",
    "import copy # deepcopy의 경우 필요\n",
    "b = copy.deepcopy(a) # 중첩 딕셔너리의 경우도 반영안됨.\n",
    "a[1][0] = 9\n",
    "print(a,b)"
   ]
  },
  {
   "cell_type": "code",
   "execution_count": 16,
   "id": "704d4adc",
   "metadata": {},
   "outputs": [
    {
     "name": "stdout",
     "output_type": "stream",
     "text": [
      "False\n",
      "True\n"
     ]
    }
   ],
   "source": [
    "# 값 비교: 같고 다르고만 비교 가능(크다 작다x)\n",
    "print(a == b)\n",
    "print(a != b)"
   ]
  },
  {
   "cell_type": "markdown",
   "id": "9e44b7b2",
   "metadata": {},
   "source": [
    "### Quiz\n",
    "- 두 개 리스트를 딕셔너리로 만든다: {한국어:영어}\n",
    "- 명왕성: pluto 추가하기\n",
    "- '성'으로 끝나지 않는 단어 삭제하기\n",
    "    del ['태양'] -> 안됨\n",
    "- sorted 1)kor 2)eng\n"
   ]
  },
  {
   "cell_type": "code",
   "execution_count": 17,
   "id": "31fbc81b",
   "metadata": {},
   "outputs": [],
   "source": [
    "solar_kor = '태양 수성 금성 지구 화성 목성 토성 천왕성 해왕성'.split()\n",
    "solar_eng = 'sun mercary venus earth mars jupiter saturn uranus neptune'.split()"
   ]
  },
  {
   "cell_type": "code",
   "execution_count": 30,
   "id": "c7be5202",
   "metadata": {},
   "outputs": [
    {
     "data": {
      "text/plain": [
       "{'수성': 'mercary',\n",
       " '금성': 'venus',\n",
       " '화성': 'mars',\n",
       " '목성': 'jupiter',\n",
       " '토성': 'saturn',\n",
       " '천왕성': 'uranus',\n",
       " '해왕성': 'neptune',\n",
       " '명왕성': 'pluto'}"
      ]
     },
     "execution_count": 30,
     "metadata": {},
     "output_type": "execute_result"
    }
   ],
   "source": [
    "# 방법 1: 딕셔너리 컴프리헨션 사용\n",
    "solar_system ={}\n",
    "for ko,en in zip(solar_kor,solar_eng):\n",
    "    solar_system[ko] = en\n",
    "solar_system['명왕성'] ='pluto'\n",
    "{k:v for k,v in solar_system.items() if k.endswith('성')}"
   ]
  },
  {
   "cell_type": "code",
   "execution_count": 20,
   "id": "4fa62da9",
   "metadata": {},
   "outputs": [
    {
     "name": "stdout",
     "output_type": "stream",
     "text": [
      "{'수성': 'mercary', '금성': 'venus', '화성': 'mars', '목성': 'jupiter', '토성': 'saturn', '천왕성': 'uranus', '해왕성': 'neptune', '명왕성': 'pluto'}\n"
     ]
    }
   ],
   "source": [
    "# 방법 2: deepcopy 사용\n",
    "dict_solar = {}\n",
    "for i in range(len(solar_kor)):\n",
    "    dict_solar[solar_kor[i]] = solar_eng[i]\n",
    "    \n",
    "dict_solar['명왕성'] = 'pluto'\n",
    "\n",
    "import copy\n",
    "dict_copy = copy.deepcopy(dict_solar)\n",
    "for j in dict_copy:\n",
    "    if not j.endswith('성'):\n",
    "        del dict_solar[j]\n",
    "print(dict_solar)"
   ]
  },
  {
   "cell_type": "markdown",
   "id": "88a7750f",
   "metadata": {},
   "source": [
    "#### 딕셔너리 컴프리헨션"
   ]
  },
  {
   "cell_type": "code",
   "execution_count": 31,
   "id": "7190b6ba",
   "metadata": {},
   "outputs": [
    {
     "data": {
      "text/plain": [
       "{'a': 1, 'p': 2, 'l': 1, 'e': 1}"
      ]
     },
     "execution_count": 31,
     "metadata": {},
     "output_type": "execute_result"
    }
   ],
   "source": [
    "letter = 'apple'\n",
    "#(a:1,p:2....)\n",
    "{ch: letter.count(ch) for ch in set(letter)}"
   ]
  },
  {
   "cell_type": "code",
   "execution_count": 33,
   "id": "be345e77",
   "metadata": {},
   "outputs": [],
   "source": [
    "# Quiz 주어진 단어의 모음을 세기\n",
    "# vowels, word 각각 기준 잡아서 dic compre 만들기\n",
    "vowels = 'aeiou'\n",
    "word = 'onomatopoeia'"
   ]
  },
  {
   "cell_type": "code",
   "execution_count": 37,
   "id": "bc4b384a",
   "metadata": {},
   "outputs": [
    {
     "name": "stdout",
     "output_type": "stream",
     "text": [
      "{'a': 2, 'e': 1, 'i': 1, 'o': 4, 'u': 0}\n",
      "{'i': 1, 'o': 4, 'e': 1, 'a': 2}\n",
      "{'a': 2, 'e': 1, 'i': 1, 'o': 4, 'u': 0}\n"
     ]
    }
   ],
   "source": [
    "# vowel에서\n",
    "b = {v: word.count(v) for v in vowels}\n",
    "\n",
    "# word에서 \n",
    "c = {ch: word.count(ch) for ch in set(word) if ch in vowels}\n",
    "\n",
    "# 2번과 3번이 똑같게 가능한지\n",
    "a = {ch: word.count(ch) for ch in set(word) and vowels if ch in vowels}\n",
    "print(b)\n",
    "print(c)\n",
    "print(a)"
   ]
  },
  {
   "cell_type": "markdown",
   "id": "3d689952",
   "metadata": {},
   "source": [
    "### set\n",
    "- 딕셔너리 키만 모아놓음 => 중복없음!\n",
    "- 수학의 집합 개념 => 교집합, 합집합, 차집합 사용 가능\n",
    "- 데이터 자료, 순서없고, 인덱싱 없고"
   ]
  },
  {
   "cell_type": "code",
   "execution_count": 38,
   "id": "0826f845",
   "metadata": {},
   "outputs": [
    {
     "name": "stdout",
     "output_type": "stream",
     "text": [
      "set() {}\n",
      "<class 'set'> <class 'dict'>\n"
     ]
    }
   ],
   "source": [
    "empty = set()\n",
    "empty1 ={}\n",
    "print(empty,empty1)\n",
    "print(type(empty),type(empty1))"
   ]
  },
  {
   "cell_type": "code",
   "execution_count": 39,
   "id": "80e426a5",
   "metadata": {},
   "outputs": [
    {
     "name": "stdout",
     "output_type": "stream",
     "text": [
      "<class 'set'>\n",
      "{1, 2, 3}\n",
      "{1, 2, 3}\n"
     ]
    }
   ],
   "source": [
    "a = {1,2,3} # 딕셔너리의 key값만 있는 경우 type은 set이다.\n",
    "print(type(a))\n",
    "\n",
    "b = set((1,2,3)) # b = set(1,2,3)의 경우 오류 발생\n",
    "print(b)\n",
    "\n",
    "b = set((1,2,3,3,3,3,3)) # set은 중복이 없음\n",
    "print(b)"
   ]
  },
  {
   "cell_type": "code",
   "execution_count": 41,
   "id": "4bd3bc9f",
   "metadata": {},
   "outputs": [
    {
     "name": "stdout",
     "output_type": "stream",
     "text": [
      "{1, 2, 3, 4}\n",
      "{1, 2}\n"
     ]
    }
   ],
   "source": [
    "# 추가하기 by add()\n",
    "a.add(4)\n",
    "print(a)\n",
    "\n",
    "# 삭제 by remove() $ discard()\n",
    "a.remove(4)\n",
    "a.discard(3)\n",
    "print(a)"
   ]
  },
  {
   "cell_type": "markdown",
   "id": "81900150",
   "metadata": {},
   "source": [
    "#### remove()와 discard()의 차이\n",
    "- remove(): remove의 경우 해당 set에 remove하려고 하는 요소가 없을 경우 오류 발생\n",
    "\n",
    "- discard(): discard의 경우 해당 set에 discard하려고 하는 요소가 없어도 오류가 발생하지 않음"
   ]
  },
  {
   "cell_type": "code",
   "execution_count": 42,
   "id": "4dc12839",
   "metadata": {},
   "outputs": [
    {
     "ename": "KeyError",
     "evalue": "8",
     "output_type": "error",
     "traceback": [
      "\u001b[1;31m---------------------------------------------------------------------------\u001b[0m",
      "\u001b[1;31mKeyError\u001b[0m                                  Traceback (most recent call last)",
      "\u001b[1;32m~\\AppData\\Local\\Temp/ipykernel_27020/2375756575.py\u001b[0m in \u001b[0;36m<module>\u001b[1;34m\u001b[0m\n\u001b[1;32m----> 1\u001b[1;33m \u001b[0ma\u001b[0m\u001b[1;33m.\u001b[0m\u001b[0mremove\u001b[0m\u001b[1;33m(\u001b[0m\u001b[1;36m8\u001b[0m\u001b[1;33m)\u001b[0m\u001b[1;33m\u001b[0m\u001b[1;33m\u001b[0m\u001b[0m\n\u001b[0m",
      "\u001b[1;31mKeyError\u001b[0m: 8"
     ]
    }
   ],
   "source": [
    "a.remove(8)\n",
    "# 오류 발생"
   ]
  },
  {
   "cell_type": "code",
   "execution_count": 43,
   "id": "90e403cb",
   "metadata": {},
   "outputs": [],
   "source": [
    "a.discard(8)\n",
    "# 오류가 발생안하고 삭제도 발생 안함"
   ]
  },
  {
   "cell_type": "code",
   "execution_count": 44,
   "id": "b485a0ea",
   "metadata": {},
   "outputs": [],
   "source": [
    "# Quiz \n",
    "# vodka가 있는 키 골라내기(출력)\n",
    "#2 보드카는 있는 크림이나 버무스가 있으면 프린트하지 않기\n",
    "drinks = {\n",
    "    'martini':{'vodka','vermouth'},\n",
    "    'black russian':{'vodka','kahlua'},\n",
    "    'white russian':{'cream','kahlua','vodka'},\n",
    "    'mahattin':{'rye','vermouth','bitters'},\n",
    "    'sccrewdriver':{'orange juice','vodka'}\n",
    "}"
   ]
  },
  {
   "cell_type": "code",
   "execution_count": 47,
   "id": "16c52fd6",
   "metadata": {},
   "outputs": [
    {
     "name": "stdout",
     "output_type": "stream",
     "text": [
      "black russian\n",
      "sccrewdriver\n",
      "black russian\n",
      "sccrewdriver\n"
     ]
    }
   ],
   "source": [
    "# 방법 1\n",
    "for k,v in drinks.items():\n",
    "    if 'vodka' in v and not('cream' in v or 'vermouth' in v):\n",
    "        print(k)\n",
    "        \n",
    "# 방법 2 -> or 대신 교집합 사용\n",
    "for k,v in drinks.items():\n",
    "    if 'vodka' in v and not v & {'cream','vermouth'}: # 교집합 사용\n",
    "        print(k)"
   ]
  },
  {
   "cell_type": "code",
   "execution_count": 46,
   "id": "3796d115",
   "metadata": {},
   "outputs": [
    {
     "name": "stdout",
     "output_type": "stream",
     "text": [
      "{2, 3}\n",
      "{1, 2, 3, 4}\n",
      "{1}\n",
      "{4}\n"
     ]
    }
   ],
   "source": [
    "a = {1,2,3}\n",
    "b = {2,3,4}\n",
    "\n",
    "#교집합: intersection\n",
    "print(a.intersection(b))\n",
    "\n",
    "#합집합: union\n",
    "print(a.union(b))\n",
    "\n",
    "#차집합: difference\n",
    "print(a.difference(b)) # a - b와 동일\n",
    "print(b - a) # b.difference(a)와 동일"
   ]
  },
  {
   "cell_type": "code",
   "execution_count": 48,
   "id": "c3e72bc1",
   "metadata": {},
   "outputs": [
    {
     "data": {
      "text/plain": [
       "frozenset({1, 2, 3})"
      ]
     },
     "execution_count": 48,
     "metadata": {},
     "output_type": "execute_result"
    }
   ],
   "source": [
    "# frozenset -> immutable한 set\n",
    "fs = frozenset([1,2,3])\n",
    "fs"
   ]
  },
  {
   "cell_type": "code",
   "execution_count": 49,
   "id": "22df41de",
   "metadata": {},
   "outputs": [
    {
     "ename": "AttributeError",
     "evalue": "'frozenset' object has no attribute 'add'",
     "output_type": "error",
     "traceback": [
      "\u001b[1;31m---------------------------------------------------------------------------\u001b[0m",
      "\u001b[1;31mAttributeError\u001b[0m                            Traceback (most recent call last)",
      "\u001b[1;32m~\\AppData\\Local\\Temp/ipykernel_27020/1340664242.py\u001b[0m in \u001b[0;36m<module>\u001b[1;34m\u001b[0m\n\u001b[1;32m----> 1\u001b[1;33m \u001b[0mfs\u001b[0m\u001b[1;33m.\u001b[0m\u001b[0madd\u001b[0m\u001b[1;33m(\u001b[0m\u001b[1;36m4\u001b[0m\u001b[1;33m)\u001b[0m\u001b[1;33m\u001b[0m\u001b[1;33m\u001b[0m\u001b[0m\n\u001b[0m\u001b[0;32m      2\u001b[0m \u001b[0mfs\u001b[0m\u001b[1;33m\u001b[0m\u001b[1;33m\u001b[0m\u001b[0m\n",
      "\u001b[1;31mAttributeError\u001b[0m: 'frozenset' object has no attribute 'add'"
     ]
    }
   ],
   "source": [
    "fs.add(4)\n",
    "fs"
   ]
  }
 ],
 "metadata": {
  "kernelspec": {
   "display_name": "Python 3 (ipykernel)",
   "language": "python",
   "name": "python3"
  },
  "language_info": {
   "codemirror_mode": {
    "name": "ipython",
    "version": 3
   },
   "file_extension": ".py",
   "mimetype": "text/x-python",
   "name": "python",
   "nbconvert_exporter": "python",
   "pygments_lexer": "ipython3",
   "version": "3.9.7"
  }
 },
 "nbformat": 4,
 "nbformat_minor": 5
}
