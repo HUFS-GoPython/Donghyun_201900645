{
 "cells": [
  {
   "cell_type": "code",
   "execution_count": 1,
   "id": "39a68809",
   "metadata": {},
   "outputs": [],
   "source": [
    "from collections import defaultdict"
   ]
  },
  {
   "cell_type": "markdown",
   "id": "92eed197",
   "metadata": {},
   "source": [
    "### defaultdict\n",
    "- default 값이 존재하는 딕셔너리\n",
    "- 값이 없으면 0으로 설정될 수 있게 해주는 딕셔너리\n",
    "- setdefault보다 사용하기 편리함\n",
    "- defaultdict(list) # []"
   ]
  },
  {
   "cell_type": "code",
   "execution_count": 5,
   "id": "2f36d199",
   "metadata": {},
   "outputs": [
    {
     "data": {
      "text/plain": [
       "{'d': 2, 'e': 1, 'f': 1, 'a': 1, 'u': 1, 'l': 1, 't': 2, 'i': 1, 'c': 1}"
      ]
     },
     "execution_count": 5,
     "metadata": {},
     "output_type": "execute_result"
    }
   ],
   "source": [
    "# 방법1 -> setdefault 사용\n",
    "letter = 'defaultdict'\n",
    "empty = {}\n",
    "for ch in letter:\n",
    "    #if empty[ch] = 0\n",
    "    #else 값을 넣어라 -> 한줄로 가능\n",
    "    empty.setdefault(ch,0) #ch가 없으면 기본값으로 0을 넣어라\n",
    "    empty[ch] += 1\n",
    "empty"
   ]
  },
  {
   "cell_type": "code",
   "execution_count": 6,
   "id": "6c7c84a8",
   "metadata": {},
   "outputs": [
    {
     "data": {
      "text/plain": [
       "defaultdict(int,\n",
       "            {'d': 2,\n",
       "             'e': 1,\n",
       "             'f': 1,\n",
       "             'a': 1,\n",
       "             'u': 1,\n",
       "             'l': 1,\n",
       "             't': 2,\n",
       "             'i': 1,\n",
       "             'c': 1})"
      ]
     },
     "execution_count": 6,
     "metadata": {},
     "output_type": "execute_result"
    }
   ],
   "source": [
    "# 방법2 -> defaultdict() 사용 => 훨씬 짧고 편리한 장점이 있음\n",
    "empty2 = defaultdict(int)\n",
    "for ch in letter:\n",
    "    empty2[ch] += 1\n",
    "empty2"
   ]
  },
  {
   "cell_type": "code",
   "execution_count": 8,
   "id": "dd13935c",
   "metadata": {},
   "outputs": [
    {
     "name": "stdout",
     "output_type": "stream",
     "text": [
      "{'a': 0, 'b': 0, 'c': 0}\n",
      "defaultdict(<class 'int'>, {'a': 0, 'b': 0, 'c': 0})\n"
     ]
    }
   ],
   "source": [
    "# default dict 연습\n",
    "# setdefault 사용\n",
    "ex_dict = {}\n",
    " \n",
    "dict_key = [\"a\",\"b\",\"c\"]\n",
    " \n",
    "for item in dict_key:\n",
    " \n",
    "    ex_dict.setdefault(item, 0)\n",
    " \n",
    "print(ex_dict)\n",
    "\n",
    "# default() 사용\n",
    "ex_dict2 = defaultdict(int)\n",
    "for item in dict_key:\n",
    " \n",
    "    ex_dict2[item] = 0\n",
    " \n",
    "print(ex_dict2)"
   ]
  },
  {
   "cell_type": "markdown",
   "id": "b7b2f101",
   "metadata": {},
   "source": [
    "## object & class\n",
    "- 객체란 실체가 있는 물건, 개념\n",
    "- 속성, 행동을 가지는 개념\n",
    "- 자동차\n",
    "    - 속성: 엔진, 브랜드, 가격, 색상, 이름, .. => 변수\n",
    "    - 행동: 나가다, 정지하다, 좌회전, 우회전,.. => 메서드 (함수)\n",
    "- 고양이\n",
    "    - 속성: 종류, 이름, 컬러, 몸무게,..\n",
    "    - 행동: 짖다, 뛰다, 걷다, 째려보다,..\n",
    "- 사전\n",
    "    - 속성: 글자 수, 시작 글자, 출현 빈도수,..\n",
    "    - 행동: 추가하다, 제외하다,..\n",
    "- 관련 짓는 방법\n",
    "    - 사람        상점                  물건\n",
    "    - 이름, 돈    재고, 이익, 고객명단  브랜드, 이름, 가격\n",
    "    - 세다        회원등록, 팔다, 수익계산 => 행동\n",
    "- 객체 사용하는 이유: 코드 재사용 수월(유지보수가 쉬움)"
   ]
  },
  {
   "cell_type": "markdown",
   "id": "b488388b",
   "metadata": {},
   "source": [
    "### 클래스\n",
    "- 객체가 가져야 할 기본 정보를 담은 코드\n",
    "- 설계도, 틀, 프레임워크\n",
    "- nlkt.book type == Text > 이게 다 클래스\n",
    "\n",
    "- 붕어빵의 틀 => 클래스\n",
    "- 붕어빵 == 인스턴스 => 객체\n",
    "- 붕어빵 틀이 클래스라고 할때 찍혀 나오는 붕어빵은 객체이다. 따라서 클래스를 사용하면 객체를 쉽게 만들수 있다.\n",
    "\n",
    "- 'class Car':\n",
    "    - 클래스명은 카멜표기법 쓴다. \n",
    "    - 카멜표기법: 첫 글자를 대문자로 적되, 맨 앞에 오는 글자는 소문자로 표기하는 것\n",
    "    - ex) carBrand"
   ]
  },
  {
   "cell_type": "code",
   "execution_count": 11,
   "id": "72c02968",
   "metadata": {},
   "outputs": [
    {
     "name": "stdout",
     "output_type": "stream",
     "text": [
      "<__main__.Car object at 0x00000182E31DACA0> <class '__main__.Car'>\n"
     ]
    }
   ],
   "source": [
    "# 정의\n",
    "class Car:\n",
    "    pass # class 형성시 빈 부분에 사용\n",
    "# 선언(괄호 꼭 쓸 것)\n",
    "car1 = Car()\n",
    "print(car1, type(car1))"
   ]
  },
  {
   "cell_type": "code",
   "execution_count": 14,
   "id": "ec7a6315",
   "metadata": {},
   "outputs": [
    {
     "data": {
      "text/plain": [
       "'mercedes'"
      ]
     },
     "execution_count": 14,
     "metadata": {},
     "output_type": "execute_result"
    }
   ],
   "source": [
    "class Car:\n",
    "    # 속성 정해짐 -> 브랜드가 정해진 클래스\n",
    "    brand = 'mercedes'\n",
    "car3 = Car()\n",
    "car3.brand # 이미 브랜드가 지정되어 있음"
   ]
  },
  {
   "cell_type": "code",
   "execution_count": 17,
   "id": "8ee72cc5",
   "metadata": {},
   "outputs": [],
   "source": [
    "# 다양한 속성을 원한다.\n",
    "class Car:\n",
    "    def __init__(self, brand, model=None, color='orange'): # 속성을 초기화하는 함수(self == my_car)\n",
    "        # 여러 속성이 있을 경우 __init__은 생성자의 역할을 함\n",
    "        # 생성자란 객체가 생성될 때 자동으로 호출되는 메서드! (메서드: 객체만 사용하는 함수)\n",
    "        # 설정을 하고 싶지 않을 때는 None을 사용 => model은 값을 안받아도 상관 없음\n",
    "        self.brand = brand # self => 객체\n",
    "        # self.brand = 어떤 객체가 만들어지더라도 가져갈 브랜드\n",
    "        # brand = 객체 생성 시 설정되는 브랜드임(처음에 들어오는 값)\n",
    "        self.model = model\n",
    "        self.color = color\n",
    "        \n",
    "    # action 정의하기(행동)\n",
    "    def drive(self):# self는 필수\n",
    "        # 내차 (브랜드=모닝)이 움직인다.\n",
    "        print(f'내 차 (브랜드={self.brand})가 움직인다.')\n",
    "        \n",
    "    def stop(self):\n",
    "        print('차가 멈춘다.')\n",
    "        \n",
    "    def change_color(self, color):\n",
    "        # self.color = 'pink'\n",
    "        self.color = color\n",
    "my_morning = Car('kia','morning','balck')     \n",
    "# 'morning'의 경우 필수는 아님"
   ]
  },
  {
   "cell_type": "code",
   "execution_count": 19,
   "id": "9f17d3dd",
   "metadata": {},
   "outputs": [
    {
     "name": "stdout",
     "output_type": "stream",
     "text": [
      "yellow\n"
     ]
    }
   ],
   "source": [
    "# Quiz\n",
    "#1. 내가 원하는 컬러로 바꾸기\n",
    "#2. 컬러가 있으면 있는 컬러, 없으면 orange로 바꾸기\n",
    "\n",
    "def change_color(self):\n",
    "        want_color = input()\n",
    "        if want_color == '':\n",
    "            self.color = 'orange'\n",
    "        else:\n",
    "            self.color = want_color\n",
    "change_color(my_morning)"
   ]
  },
  {
   "cell_type": "code",
   "execution_count": 21,
   "id": "50da91d8",
   "metadata": {},
   "outputs": [
    {
     "data": {
      "text/plain": [
       "'yellow'"
      ]
     },
     "execution_count": 21,
     "metadata": {},
     "output_type": "execute_result"
    }
   ],
   "source": [
    "my_morning.color # black -> yellow"
   ]
  },
  {
   "cell_type": "code",
   "execution_count": 24,
   "id": "7b85b68d",
   "metadata": {},
   "outputs": [
    {
     "name": "stdout",
     "output_type": "stream",
     "text": [
      "white\n",
      "yellow\n"
     ]
    }
   ],
   "source": [
    "# color, model 속성 초기화하기\n",
    "my_morning.color = 'white' # 이 객체에 대해서만 속성 바꾸기\n",
    "print(my_morning.color)\n",
    "\n",
    "my_sorento = Car('kia','sorento','yellow')\n",
    "print(my_sorento.color)\n",
    "# my_morning이라는 객체에 대해서만 색이 변화"
   ]
  },
  {
   "cell_type": "markdown",
   "id": "f5003d2c",
   "metadata": {},
   "source": [
    "### getter, setter\n",
    "- 클래스를 사용할 때 변수에 대한 캡슐화, 은닉을 위해 사용\n",
    "- getter 은 인스턴스 변수를 반환하고 setter 은 인스턴스 변수를대입하거나 수정\n",
    "- 클래스 외부에서 변수 접근을 용이하지 못하게 하는 것\n",
    "- public -> private\n",
    "- getter => 변수 앞에 get이 붙음\n",
    "- setter => 변수 앞에 set이 붙음"
   ]
  },
  {
   "cell_type": "code",
   "execution_count": 37,
   "id": "f51e497c",
   "metadata": {},
   "outputs": [
    {
     "data": {
      "text/plain": [
       "'red'"
      ]
     },
     "execution_count": 37,
     "metadata": {},
     "output_type": "execute_result"
    }
   ],
   "source": [
    "class Fruit:\n",
    "    color = 'red'\n",
    "apple = Fruit()\n",
    "apple.color"
   ]
  },
  {
   "cell_type": "code",
   "execution_count": 38,
   "id": "cc5dfeef",
   "metadata": {},
   "outputs": [
    {
     "data": {
      "text/plain": [
       "'purple'"
      ]
     },
     "execution_count": 38,
     "metadata": {},
     "output_type": "execute_result"
    }
   ],
   "source": [
    "# 이 코드로 인해 앞으로 모든 컬러가 purple이 되는 문제 발생\n",
    "Fruit.color = 'purple' \n",
    "\n",
    "orange = Fruit()\n",
    "orange.color"
   ]
  },
  {
   "cell_type": "code",
   "execution_count": 39,
   "id": "78e35fe5",
   "metadata": {},
   "outputs": [],
   "source": [
    "# 위 문제 해결을 위해 setter로 바꾸기\n",
    "class Fruit:\n",
    "    def __init__(self, input_color):\n",
    "        self.color = input_color\n",
    "    def get_color(self):\n",
    "        # 원래 변수명에 접근하도록\n",
    "        print('from the getter')\n",
    "        return self.color\n",
    "    \n",
    "    def set_color(self, input_color):\n",
    "        # 변수명을 바꾸는 작업\n",
    "        print('from the setter')\n",
    "        self.color = input_color"
   ]
  },
  {
   "cell_type": "code",
   "execution_count": 40,
   "id": "4ee62585",
   "metadata": {},
   "outputs": [
    {
     "data": {
      "text/plain": [
       "'purple'"
      ]
     },
     "execution_count": 40,
     "metadata": {},
     "output_type": "execute_result"
    }
   ],
   "source": [
    "grape = Fruit('purple')\n",
    "grape.color"
   ]
  },
  {
   "cell_type": "code",
   "execution_count": 41,
   "id": "6e851af5",
   "metadata": {},
   "outputs": [
    {
     "name": "stdout",
     "output_type": "stream",
     "text": [
      "from the setter\n",
      "green\n",
      "red\n"
     ]
    }
   ],
   "source": [
    "grape.set_color('green')\n",
    "print(grape.color)\n",
    "apple = Fruit('red')\n",
    "print(apple.color)"
   ]
  },
  {
   "cell_type": "code",
   "execution_count": 45,
   "id": "0fddabff",
   "metadata": {},
   "outputs": [],
   "source": [
    "# 차 예시로 setter, getter 복습\n",
    "class Car:\n",
    "    def __init__(self,input_brand):\n",
    "        self.brand = input_brand\n",
    "    \n",
    "    def get_brand(self):\n",
    "        # 원래 변수명에 접근하도록\n",
    "        print('from the getter')\n",
    "        return self.brand\n",
    "    \n",
    "    def set_brand(self, input_brand):\n",
    "        # 변수명을 바꾸는 작업\n",
    "        print('from the setter')\n",
    "        self.brand = input_brand"
   ]
  },
  {
   "cell_type": "code",
   "execution_count": 46,
   "id": "f643e3b7",
   "metadata": {},
   "outputs": [
    {
     "name": "stdout",
     "output_type": "stream",
     "text": [
      "toyota\n",
      "from the getter\n",
      "toyota\n",
      "from the setter\n",
      "bmw\n",
      "audi\n",
      "from the getter\n",
      "audi\n"
     ]
    }
   ],
   "source": [
    "# 객체를 효율적으로 변경\n",
    "my_car = Car('toyota')\n",
    "print(my_car.brand)\n",
    "\n",
    "print(my_car.get_brand())\n",
    "\n",
    "my_car.set_brand('bmw')\n",
    "print(my_car.brand)\n",
    "\n",
    "Car.brand = 'kia'\n",
    "\n",
    "your_car = Car('audi')\n",
    "print(your_car.brand)\n",
    "print(your_car.get_brand())"
   ]
  },
  {
   "cell_type": "markdown",
   "id": "613f6d93",
   "metadata": {},
   "source": [
    "### property \n",
    "- property() 함수 사용\n",
    "- @property 데코레이터 사용\n",
    "    - 좀 더 효율적인 코드 가능"
   ]
  },
  {
   "cell_type": "code",
   "execution_count": 47,
   "id": "9657992d",
   "metadata": {},
   "outputs": [
    {
     "data": {
      "text/plain": [
       "'kia'"
      ]
     },
     "execution_count": 47,
     "metadata": {},
     "output_type": "execute_result"
    }
   ],
   "source": [
    "# 방법 2: property 함수 사용\n",
    "class Car:\n",
    "    def __init__(self, input_brand):\n",
    "        self.hidden_brand = input_brand\n",
    "    def get_brand(self):\n",
    "        return self.hidden_brand\n",
    "    def set_brand(self,input_brand):\n",
    "        self.hiddent_brand = input_brand\n",
    "    \n",
    "    brand = property(get_brand, set_brand) # property 예약어 사용\n",
    "c = Car('kia')\n",
    "c.brand"
   ]
  },
  {
   "cell_type": "code",
   "execution_count": 50,
   "id": "40c01310",
   "metadata": {},
   "outputs": [
    {
     "data": {
      "text/plain": [
       "'hyundai'"
      ]
     },
     "execution_count": 50,
     "metadata": {},
     "output_type": "execute_result"
    }
   ],
   "source": [
    "# 방법3: property 데코레이터 사용\n",
    "class Car:\n",
    "    def __init__(self, input_brand):\n",
    "        self.hidden_brand = input_brand\n",
    "    @property    \n",
    "    def brand(self):\n",
    "        return self.hidden_brand\n",
    "    @brand.setter\n",
    "    def brand(self,input_brand):\n",
    "        self.hidden_brand = input_brand\n",
    "c = Car('hyundai')\n",
    "c.brand"
   ]
  },
  {
   "cell_type": "code",
   "execution_count": 52,
   "id": "f7e0db9e",
   "metadata": {},
   "outputs": [
    {
     "data": {
      "text/plain": [
       "'toyota'"
      ]
     },
     "execution_count": 52,
     "metadata": {},
     "output_type": "execute_result"
    }
   ],
   "source": [
    "# 방법4: property 데코레이터 사용2\n",
    "# 데코레이터의 경우 대체적으로 이 방법 많이 사용\n",
    "class Car:\n",
    "    def __init__(self, input_brand):\n",
    "        self._brand = input_brand\n",
    "    @property    \n",
    "    def brand(self):\n",
    "        return self._brand\n",
    "    @brand.setter\n",
    "    def brand(self,input_brand):\n",
    "        self._brand = input_brand\n",
    "c = Car('toyota')\n",
    "c._brand"
   ]
  },
  {
   "cell_type": "code",
   "execution_count": 53,
   "id": "40e9c639",
   "metadata": {},
   "outputs": [
    {
     "data": {
      "text/plain": [
       "10"
      ]
     },
     "execution_count": 53,
     "metadata": {},
     "output_type": "execute_result"
    }
   ],
   "source": [
    "# Quiz \n",
    "# property 사용해서 원의 면적 구하는 클래스 만들기\n",
    "\n",
    "class Circle:\n",
    "    def __init__(self, radius):\n",
    "        self.radius = radius\n",
    "    @property\n",
    "    def diameter(self):\n",
    "        return self.radius * 2\n",
    "c = Circle(5)\n",
    "c.diameter"
   ]
  },
  {
   "cell_type": "markdown",
   "id": "922a10e5",
   "metadata": {},
   "source": [
    "### 실습\n",
    "- 객체: 메모장(노트),                메모\n",
    "- 변수: 제목, 페이지번호, 메모       글귀\n",
    "- 메서드: 추가, 삭제, 페이지번호     쓰기, 지우기\n",
    "\n",
    "- getter, setter 메모장 제목에 설정하기\n",
    "- '메모' 객체에 글귀를 추가한다\n",
    "- '메모장' 객체에 메모 추가\n",
    "- 페이지번호가 늘어난다.\n",
    "- 메모를 삭제하면 페이지번호가 줄어들고\n",
    "- 페이지가 300을 넘은면 메모 추가 못하게 막기\n",
    "- 페이지번호로 메모 찾기"
   ]
  },
  {
   "cell_type": "code",
   "execution_count": 92,
   "id": "69a112fc",
   "metadata": {},
   "outputs": [],
   "source": [
    "class Notebook:\n",
    "    def __init__(self, title = None, page_num = 0, memo = []):\n",
    "        self.__title = title\n",
    "        self.page_num = page_num\n",
    "        self.memo = memo\n",
    "    \n",
    "    def get_title(self):\n",
    "        print('from the getter')\n",
    "        return self.__title\n",
    "    \n",
    "    def set_title(self, title):\n",
    "        print('from the setter')\n",
    "        self.__title = title\n",
    "        \n",
    "    def add_note(self, note):\n",
    "        for note in note.notes:\n",
    "            if self.page_num >= 300:\n",
    "                print('300쪽이 넘어 메모를 추가할 수 없습니다.')\n",
    "            else:\n",
    "                self.memo.append(note)\n",
    "                self.page_num += 1\n",
    "        \n",
    "    def del_note(self, page_num):\n",
    "        self.memo.remove(self.memo[page_num])\n",
    "        self.page_num -= 1\n",
    "            \n",
    "    def get_page_num(self):\n",
    "        return self.page_num\n",
    "    \n",
    "    def print_note(self):\n",
    "        for i in range(self.page_num):\n",
    "            print(self.memo[i])\n",
    "    \n",
    "class Note:\n",
    "    def __init__(self, notes = []):\n",
    "        self.notes = notes\n",
    "    \n",
    "    def write(self, memo):\n",
    "        self.notes.append(memo)\n",
    "    \n",
    "    def erase(self, memo):\n",
    "        self.notes.remove(memo)"
   ]
  },
  {
   "cell_type": "code",
   "execution_count": 93,
   "id": "cf83a597",
   "metadata": {},
   "outputs": [
    {
     "name": "stdout",
     "output_type": "stream",
     "text": [
      "페이지 번호: 3\n"
     ]
    }
   ],
   "source": [
    "# 메모 추가하기            \n",
    "memo1= '꿈을 이루고자 하는 용기만 있다면 모든 꿈을 이룰 수 있다.'\n",
    "memo2= '웃음이 없는 하루는 버린 하루다.'\n",
    "memo3= '승리는 가장 끈기 있는 사람에게 들어간다.'\n",
    "                 \n",
    "my_note = Note()\n",
    "\n",
    "# 메모쓰기\n",
    "my_note.write(memo1)\n",
    "my_note.write(memo2)\n",
    "my_note.write(memo3)\n",
    "\n",
    "# 메모장에 메모 추가하기\n",
    "my_book = Notebook('나의 메모장') # 메모장 생성\n",
    "my_book.add_note(my_note)\n",
    "\n",
    "# 페이지 번호 확인하기\n",
    "print('페이지 번호:',my_book.get_page_num())"
   ]
  },
  {
   "cell_type": "code",
   "execution_count": 94,
   "id": "f5918ada",
   "metadata": {},
   "outputs": [
    {
     "name": "stdout",
     "output_type": "stream",
     "text": [
      "꿈을 이루고자 하는 용기만 있다면 모든 꿈을 이룰 수 있다.\n",
      "웃음이 없는 하루는 버린 하루다.\n",
      "승리는 가장 끈기 있는 사람에게 들어간다.\n"
     ]
    }
   ],
   "source": [
    "# 메모장의 메모 내용 확인하기\n",
    "my_book.print_note()"
   ]
  },
  {
   "cell_type": "code",
   "execution_count": 95,
   "id": "f333bed0",
   "metadata": {},
   "outputs": [
    {
     "name": "stdout",
     "output_type": "stream",
     "text": [
      "from the getter\n"
     ]
    },
    {
     "data": {
      "text/plain": [
       "'나의 메모장'"
      ]
     },
     "execution_count": 95,
     "metadata": {},
     "output_type": "execute_result"
    }
   ],
   "source": [
    "# 제목 출력\n",
    "my_book.get_title()"
   ]
  },
  {
   "cell_type": "code",
   "execution_count": 96,
   "id": "d3c64df7",
   "metadata": {},
   "outputs": [
    {
     "name": "stdout",
     "output_type": "stream",
     "text": [
      "from the setter\n",
      "from the getter\n"
     ]
    },
    {
     "data": {
      "text/plain": [
       "'새로운 메모장'"
      ]
     },
     "execution_count": 96,
     "metadata": {},
     "output_type": "execute_result"
    }
   ],
   "source": [
    "# 제목 변경\n",
    "my_book.set_title('새로운 메모장')\n",
    "my_book.get_title()"
   ]
  },
  {
   "cell_type": "code",
   "execution_count": 97,
   "id": "d7dd5b5c",
   "metadata": {},
   "outputs": [
    {
     "name": "stdout",
     "output_type": "stream",
     "text": [
      "2\n",
      "꿈을 이루고자 하는 용기만 있다면 모든 꿈을 이룰 수 있다.\n",
      "승리는 가장 끈기 있는 사람에게 들어간다.\n"
     ]
    }
   ],
   "source": [
    "# 노트 삭제하기\n",
    "my_book.del_note(1)\n",
    "print(my_book.get_page_num())\n",
    "my_book.print_note()"
   ]
  },
  {
   "cell_type": "code",
   "execution_count": 98,
   "id": "d8980498",
   "metadata": {},
   "outputs": [
    {
     "name": "stdout",
     "output_type": "stream",
     "text": [
      "['웃음이 없는 하루는 버린 하루다.', '승리는 가장 끈기 있는 사람에게 들어간다.']\n"
     ]
    }
   ],
   "source": [
    "# 메모 삭제하기\n",
    "my_note.erase(memo1)\n",
    "print(my_note.notes)"
   ]
  }
 ],
 "metadata": {
  "kernelspec": {
   "display_name": "Python 3 (ipykernel)",
   "language": "python",
   "name": "python3"
  },
  "language_info": {
   "codemirror_mode": {
    "name": "ipython",
    "version": 3
   },
   "file_extension": ".py",
   "mimetype": "text/x-python",
   "name": "python",
   "nbconvert_exporter": "python",
   "pygments_lexer": "ipython3",
   "version": "3.9.7"
  }
 },
 "nbformat": 4,
 "nbformat_minor": 5
}
