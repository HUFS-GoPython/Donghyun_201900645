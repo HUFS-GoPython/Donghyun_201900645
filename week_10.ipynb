{
 "cells": [
  {
   "cell_type": "markdown",
   "id": "ebd97634",
   "metadata": {},
   "source": [
    "### 상속 | inheritance\n",
    "\n",
    "- 이전 클래스의 내용을 추가, 변경해야 할 경우\n",
    "- 코드 재사용이 유용함\n",
    "- 너무 엮여 있으면 안됨 > 유의해야 할 부분\n",
    "- 기준: Vechicle, parent, super, base, 부모클래스\n",
    "- 상속 받는 클래스: child, sub, derived, 자식클래스\n",
    "Vehicle <- Car\n",
    "    - 부모클래스를 자식클래스가 구체화시킨다.\n",
    "    - Car is-a-Vehicle\n",
    "    - has-a: Notebook has-a-Note\n",
    "- 부모클래스는 자식 클래스의 메소드를 사용할 수 없다\n",
    "    - 자식클래스는 사용이 가능 "
   ]
  },
  {
   "cell_type": "code",
   "execution_count": 1,
   "id": "6ec9d6e0",
   "metadata": {},
   "outputs": [],
   "source": [
    "# 부모 클래스\n",
    "class Vehicle:\n",
    "    def __init__(self, speed):\n",
    "        self.speed = speed\n",
    "    def go(self):\n",
    "        print(f'{self.speed}의 속력으로 달린다.')\n",
    "        \n",
    "# 자식 클래스\n",
    "class Car(Vehicle):\n",
    "    pass"
   ]
  },
  {
   "cell_type": "code",
   "execution_count": 6,
   "id": "b0ecc2c7",
   "metadata": {},
   "outputs": [
    {
     "name": "stdout",
     "output_type": "stream",
     "text": [
      "20km/h의 속력으로 달린다.\n"
     ]
    }
   ],
   "source": [
    "car = Car('20km/h')\n",
    "car.go()\n",
    "# car.go랑 다르니 주의"
   ]
  },
  {
   "cell_type": "markdown",
   "id": "ef037e2c",
   "metadata": {},
   "source": [
    "### 추가, 변경\n",
    "- 속성(변수)\n",
    "- 부모 클래스로부터 가져오는 경우\n",
    "    - super().---(변수)\n",
    "- 자식 클래스의 독자적인 특성\n",
    "    - self.변수 = 변수\n",
    "- 부모 클래스로부터 반드시 모두 가져올 필요 없음 > 필요한 것만"
   ]
  },
  {
   "cell_type": "code",
   "execution_count": 7,
   "id": "7ae55fca",
   "metadata": {},
   "outputs": [],
   "source": [
    "# 자식 클래스에서의 변경\n",
    "class Car(Vehicle):\n",
    "    def __init__(self,speed,brand):\n",
    "        #self.speed = speed\n",
    "        super().__init__(speed) # speed는 부모로부터 가져온 것\n",
    "        # 부모로부터 반드시 모두 가져올 필요는 없다 > 갖고 오고 싶은 것만\n",
    "        self.brand = brand # car의 독자적인 속성"
   ]
  },
  {
   "cell_type": "code",
   "execution_count": 8,
   "id": "e39dc3aa",
   "metadata": {},
   "outputs": [],
   "source": [
    "car2 = Car('14km/h', 'kia')"
   ]
  },
  {
   "cell_type": "code",
   "execution_count": 11,
   "id": "4a1d9749",
   "metadata": {},
   "outputs": [
    {
     "name": "stdout",
     "output_type": "stream",
     "text": [
      "14km/h\n",
      "kia\n"
     ]
    }
   ],
   "source": [
    "print(car2.speed)\n",
    "# car2.speed()가 아님\n",
    "\n",
    "print(car2.brand)"
   ]
  },
  {
   "cell_type": "markdown",
   "id": "a5a92209",
   "metadata": {},
   "source": [
    "#### 메소드 변경 => 오버라이드(override), 재정의\n",
    "- 부모클래스에서의 함수를 재정의 해줌\n",
    "    - 자식 클래스에서는 다른 함수로 사용"
   ]
  },
  {
   "cell_type": "code",
   "execution_count": 12,
   "id": "c86fa052",
   "metadata": {},
   "outputs": [],
   "source": [
    "# 부모클래스와 차별성을 가지게 되는 부분에 주목할 것\n",
    "class Car(Vehicle): \n",
    "    def __init__(self,speed,brand):\n",
    "        super().__init__(speed) \n",
    "        self.brand = brand \n",
    "    def go(self): # 재정의 해준 부분\n",
    "        print(f'차종은 {self.brand}')\n",
    "    def stop(self):\n",
    "        print('차가 멈춘다')"
   ]
  },
  {
   "cell_type": "code",
   "execution_count": 13,
   "id": "ffe9a79d",
   "metadata": {},
   "outputs": [
    {
     "name": "stdout",
     "output_type": "stream",
     "text": [
      "차종은 nissan\n"
     ]
    }
   ],
   "source": [
    "car3 = Car('15km/h','nissan')\n",
    "car3.go() # 자식 클래스의 메소드를 타게 됨 => 오버라이드(메소드를 재정의)"
   ]
  },
  {
   "cell_type": "markdown",
   "id": "a64ea13e",
   "metadata": {},
   "source": [
    "#### 만약 부모의 go도 같이 타고 싶다면?\n",
    "- super.go() 사용\n",
    "- 순서: 부모클래스 -> 자식클래스\n",
    "\n",
    "- 부족했던 부분: __init__에 대한 이해\n",
    "- __init__이란 객체의 초기값을 설정해주는 메소드\n",
    "- def __init__(self, first, second):\n",
    "        self.first = first => first라는 객체의 초기값을 설정\n",
    "        self.second = second => second라는 객체의 초기값을 설정"
   ]
  },
  {
   "cell_type": "code",
   "execution_count": 16,
   "id": "32be36d5",
   "metadata": {},
   "outputs": [],
   "source": [
    "# 부모의 go도 같이 타고 싶을 때\n",
    "class Car(Vehicle):\n",
    "    def __init__(self,speed,brand):\n",
    "        super().__init__(speed) \n",
    "        self.brand = brand \n",
    "    def go(self):\n",
    "        super().go()\n",
    "        print(f'차종은 {self.brand}')"
   ]
  },
  {
   "cell_type": "code",
   "execution_count": 17,
   "id": "6ca09e68",
   "metadata": {},
   "outputs": [
    {
     "name": "stdout",
     "output_type": "stream",
     "text": [
      "19km/h의 속력으로 달린다.\n",
      "차종은 hyundai\n"
     ]
    }
   ],
   "source": [
    "car4 = Car('19km/h','hyundai')\n",
    "car4.go()\n",
    "# 부모를 먼저 타고 자식을 탄다"
   ]
  },
  {
   "cell_type": "code",
   "execution_count": 18,
   "id": "a6f0a38c",
   "metadata": {},
   "outputs": [],
   "source": [
    "# Quiz \n",
    "class Person:\n",
    "    # name\n",
    "    def __init__(self,name):\n",
    "        self.name = name\n",
    "class Doctor:\n",
    "    # \"Dr. name\"\n",
    "    def __init__(self,name):\n",
    "        supper().__init__('Dr. ' + name)\n",
    "        \n",
    "class Male:\n",
    "    # 'Mr. name'\n",
    "    pass\n",
    "class Frmale:\n",
    "    # Mrs. name\n",
    "    pass"
   ]
  },
  {
   "cell_type": "code",
   "execution_count": 25,
   "id": "4de6178e",
   "metadata": {},
   "outputs": [],
   "source": [
    "class Person:\n",
    "    def __init__(self, name):\n",
    "        self.name = name\n",
    "    \n",
    "class Doctor(Person):\n",
    "    def __init__(self,name):\n",
    "        super().__init__('Dr. ' + name)\n",
    "        \n",
    "class Male(Person):\n",
    "    def __init__(self,name):\n",
    "        super().__init__('Mr. ' + name)\n",
    "        \n",
    "class Female(Person):\n",
    "    def __init__(self,name):\n",
    "        super().__init__('Mrs. ' + name)"
   ]
  },
  {
   "cell_type": "code",
   "execution_count": 32,
   "id": "af292381",
   "metadata": {},
   "outputs": [
    {
     "name": "stdout",
     "output_type": "stream",
     "text": [
      "None\n"
     ]
    },
    {
     "data": {
      "text/plain": [
       "'Dr. Kim'"
      ]
     },
     "execution_count": 32,
     "metadata": {},
     "output_type": "execute_result"
    }
   ],
   "source": [
    "dr1 = Doctor('Kim')\n",
    "dr1.name"
   ]
  },
  {
   "cell_type": "markdown",
   "id": "90c4a476",
   "metadata": {},
   "source": [
    "### 다중 상속\n",
    "- method resolution order(MRO)\n",
    "- 더 중요한것이 먼저 사용되는 방식\n",
    "- 덜 중요하다고 상속을 안받는 것은 아님\n",
    "- Animal <- Horse\n",
    "        <- Donkey\n",
    "                <- Mule (donkey > horse)\n",
    "                <- Hinny (horse > donkey)\n",
    "                먼저 쓰이는게 더 중요"
   ]
  },
  {
   "cell_type": "code",
   "execution_count": 33,
   "id": "a3428491",
   "metadata": {},
   "outputs": [],
   "source": [
    "class Animal:\n",
    "    def says(self):\n",
    "        return '동물이 운다'\n",
    "    \n",
    "class Horse(Animal):\n",
    "    def says(self):\n",
    "        return '히히힝'\n",
    "class Donkey(Animal):\n",
    "    def says(self):\n",
    "        return '히이호'\n",
    "\n",
    "class Mule(Donkey, Horse): # Donkey > Horse\n",
    "    pass\n",
    "class Hinny(Horse, Donkey): # Horse > Donkey\n",
    "    pass"
   ]
  },
  {
   "cell_type": "code",
   "execution_count": 34,
   "id": "9e2fc285",
   "metadata": {},
   "outputs": [
    {
     "name": "stdout",
     "output_type": "stream",
     "text": [
      "히이호\n",
      "히히힝\n"
     ]
    }
   ],
   "source": [
    "print(Mule().says()) # 부모의 메서드를 사용\n",
    "print(Hinny().says())"
   ]
  },
  {
   "cell_type": "code",
   "execution_count": 35,
   "id": "8d6a75e7",
   "metadata": {},
   "outputs": [
    {
     "data": {
      "text/plain": [
       "[__main__.Mule, __main__.Donkey, __main__.Horse, __main__.Animal, object]"
      ]
     },
     "execution_count": 35,
     "metadata": {},
     "output_type": "execute_result"
    }
   ],
   "source": [
    "Mule.mro() # 가까운 순서대로 출력"
   ]
  },
  {
   "cell_type": "markdown",
   "id": "ff3f96f8",
   "metadata": {},
   "source": [
    "### 다형성, duck typing"
   ]
  },
  {
   "cell_type": "code",
   "execution_count": 36,
   "id": "06b3f59a",
   "metadata": {},
   "outputs": [
    {
     "name": "stdout",
     "output_type": "stream",
     "text": [
      "동물이 운다\n",
      "히히힝\n",
      "히이호\n"
     ]
    }
   ],
   "source": [
    "for animal in [Animal(), Horse(), Mule()]:\n",
    "    print(animal.says())\n",
    "# Animal > Horse > Mule"
   ]
  },
  {
   "cell_type": "code",
   "execution_count": 40,
   "id": "66e78e07",
   "metadata": {},
   "outputs": [
    {
     "name": "stdout",
     "output_type": "stream",
     "text": [
      "15km/h의 속력으로 달린다.\n",
      "20km/h의 속력으로 달린다.\n",
      "차종은 kia\n"
     ]
    }
   ],
   "source": [
    "for car in [Vehicle('15km/h'), Car('20km/h','kia')]:\n",
    "    car.go()"
   ]
  },
  {
   "cell_type": "markdown",
   "id": "1ec39182",
   "metadata": {},
   "source": [
    "### 메서드\n",
    "\n",
    "- 인스턴스 메서드: \n",
    "    - 첫 번째 인수가 self인 메서드 \n",
    "    - 우리가 주로 사용한 메서드\n",
    "    - 객체 생성 -> 사용 가능\n",
    "    \n",
    "- 클래스 메서드:\n",
    "    - 클래스 전체의 범위에서 작용하는 메서드\n",
    "    - 붕어빵 -> 밀가루 자체를 바꾸는것\n",
    "    - 객체마다 달라지지 않음\n",
    "    - 모든 객체가 공유하는 (클래스) 변수, 메소드\n",
    "    - cls\n",
    "    - 데코레이터 @classmethod 사용\n",
    "    - 객체 생성하지 않고 접근 가능!\n",
    "    \n",
    "- 정적 메서드\n",
    "    - 1번째 인수가 self 아님\n",
    "    - 클래스나 인스턴스에 접근하지 않는 메서드\n",
    "    - 비슷한 유틸리티에서 클래스 내에 묶어둘 때 사용한다.\n",
    "    - 객체 생성하지 않고 메서드 접근 가능!\n",
    "    \n",
    "- 추상 메서드\n",
    "    - from abc import * 필요\n",
    "    - abstract\n",
    "    - @abstractmethod"
   ]
  },
  {
   "cell_type": "code",
   "execution_count": 41,
   "id": "06b7f627",
   "metadata": {},
   "outputs": [],
   "source": [
    "# 클래스 메서드\n",
    "class A:\n",
    "    cnt = 0\n",
    "    @classmethod\n",
    "    def move(cls):\n",
    "        print(cls.cnt) # 클래스에 직접 접근"
   ]
  },
  {
   "cell_type": "markdown",
   "id": "d4dda9a0",
   "metadata": {},
   "source": [
    "####  Quiz 객체 생성될 때마다 횟수 증가하기"
   ]
  },
  {
   "cell_type": "code",
   "execution_count": 44,
   "id": "92c5b208",
   "metadata": {},
   "outputs": [],
   "source": [
    "# 방법 1 > 잘못된 방법\n",
    "class B:\n",
    "    cnt = 0\n",
    "    # classmethod\n",
    "    @classmethod\n",
    "    def count(cls):\n",
    "        #객체가 생성될 때마다 횟수 증가해서 프린트하기\n",
    "        cls.cnt += 1\n",
    "        print(cls.cnt)\n",
    "        \n",
    "# 이 방법은 객체 생성이 아닌 count()를 실행해야만 cnt가 증가하는 방법"
   ]
  },
  {
   "cell_type": "code",
   "execution_count": 45,
   "id": "28b042ff",
   "metadata": {},
   "outputs": [
    {
     "name": "stdout",
     "output_type": "stream",
     "text": [
      "1\n"
     ]
    }
   ],
   "source": [
    "B()\n",
    "B()\n",
    "B()\n",
    "B()\n",
    "B().count() # 이거 한번으로 1일 출력"
   ]
  },
  {
   "cell_type": "code",
   "execution_count": 46,
   "id": "ae539d89",
   "metadata": {},
   "outputs": [],
   "source": [
    "# 방법 2 > 올바른 방법\n",
    "class B:\n",
    "    cnt = 0\n",
    "    def __init__(self):\n",
    "        B.cnt += 1 # cls.cnt 사용 불가\n",
    "    @classmethod\n",
    "    def count(cls):\n",
    "        print(cls.cnt)"
   ]
  },
  {
   "cell_type": "code",
   "execution_count": 47,
   "id": "5645eed5",
   "metadata": {},
   "outputs": [
    {
     "name": "stdout",
     "output_type": "stream",
     "text": [
      "4\n"
     ]
    }
   ],
   "source": [
    "B()\n",
    "B()\n",
    "B()\n",
    "B().count()"
   ]
  },
  {
   "cell_type": "code",
   "execution_count": 48,
   "id": "48ec7d2b",
   "metadata": {},
   "outputs": [],
   "source": [
    "class Person:\n",
    "    def __init__(self,name,age):\n",
    "        self.name = name\n",
    "        self.age = age\n",
    "        \n",
    "    @classmethod\n",
    "    def tuple_object(cls, args):\n",
    "        # 튜플로 인자를 받아서 객체 생성하는 메서드 만들기\n",
    "        return cls(args[0],args[1]) # 괄호를 통해 Person의 역할을 할수 있다\n",
    "    \n",
    "name = 'hong'\n",
    "age = 24\n",
    "\n",
    "p = Person(name,age)\n",
    "info = name, age\n",
    "p = Person.tuple_object(info) # 객체 생성하지 않고 메서드에 접근했다.\n",
    "# 위에서 괄호가 없다는 점에 주목!"
   ]
  },
  {
   "cell_type": "code",
   "execution_count": 49,
   "id": "d0212bdf",
   "metadata": {},
   "outputs": [
    {
     "name": "stdout",
     "output_type": "stream",
     "text": [
      "hong\n",
      "24\n"
     ]
    }
   ],
   "source": [
    "print(p.name)\n",
    "print(p.age)"
   ]
  },
  {
   "cell_type": "code",
   "execution_count": 50,
   "id": "434b2127",
   "metadata": {},
   "outputs": [],
   "source": [
    "#  클래스 메서드 없이 튜플로 받는 것은 불가능한지?\n",
    "class Person:\n",
    "    def __init__(self,name,age):\n",
    "        self.name = name\n",
    "        self.age = age\n",
    "        \n",
    "    def tuple_object(args):\n",
    "        return (args[0],args[1]) # 괄호를 통해 Person의 역할을 할수 있다\n",
    "    \n",
    "name = 'hong'\n",
    "age = 24\n",
    "\n",
    "p = Person(name,age)\n",
    "info = name, age\n",
    "p = Person.tuple_object(info) # 객체 생성하지 않고 메서드에 접근했다.\n",
    "# 위에서 괄호가 없다는 점에 주목!"
   ]
  },
  {
   "cell_type": "code",
   "execution_count": 51,
   "id": "724be57d",
   "metadata": {},
   "outputs": [
    {
     "ename": "AttributeError",
     "evalue": "'tuple' object has no attribute 'name'",
     "output_type": "error",
     "traceback": [
      "\u001b[1;31m---------------------------------------------------------------------------\u001b[0m",
      "\u001b[1;31mAttributeError\u001b[0m                            Traceback (most recent call last)",
      "\u001b[1;32m~\\AppData\\Local\\Temp/ipykernel_1036/1888443627.py\u001b[0m in \u001b[0;36m<module>\u001b[1;34m\u001b[0m\n\u001b[1;32m----> 1\u001b[1;33m \u001b[0mp\u001b[0m\u001b[1;33m.\u001b[0m\u001b[0mname\u001b[0m\u001b[1;33m\u001b[0m\u001b[1;33m\u001b[0m\u001b[0m\n\u001b[0m",
      "\u001b[1;31mAttributeError\u001b[0m: 'tuple' object has no attribute 'name'"
     ]
    }
   ],
   "source": [
    "p.name # 오류 발생"
   ]
  },
  {
   "cell_type": "code",
   "execution_count": 54,
   "id": "abdc1688",
   "metadata": {},
   "outputs": [
    {
     "data": {
      "text/plain": [
       "'hi coyote'"
      ]
     },
     "execution_count": 54,
     "metadata": {},
     "output_type": "execute_result"
    }
   ],
   "source": [
    "# 정적 메서드\n",
    "# @staticmethod > 객체를 사용하지 않는 특징 => 클래스와는 좀 다른 느낌\n",
    "class Coyote:\n",
    "    \n",
    "    @staticmethod\n",
    "    def says(cry): # self 없음\n",
    "        return 'hi' + cry\n",
    "    \n",
    "Coyote.says(' coyote') # 괄호 안써도 사용가능"
   ]
  },
  {
   "cell_type": "markdown",
   "id": "46e58a4c",
   "metadata": {},
   "source": [
    "### 추상 클래스\n",
    "- 클래스 내부에 구현되지 않은 메서드를 한가지 이상 갖고 있는 클래스\n",
    "- 구현되지 않은 메서드는 자식 클래스에서 반드시 구현해야함\n",
    "    - 오버라이딩 해줘야함\n",
    "- 클래스 각 성격마다 메서드의 내부 구현이 다를것같으니 부모 클래스에서는 해당 메서드를 비워두는 클래스\n",
    "- 가독성이 좋아 사용"
   ]
  },
  {
   "cell_type": "code",
   "execution_count": 58,
   "id": "2ecf396f",
   "metadata": {},
   "outputs": [],
   "source": [
    "# 추상 메서드\n",
    "from abc import *\n",
    "\n",
    "class Vehicle(metaclass=ABCMeta): # 추상 클래스\n",
    "    # 변수에 뭘 넣을지 정의하기\n",
    "    speed = '속도'\n",
    "    \n",
    "    # 자식 클래스가 오버라이드해야 하는 메서드 정의, 구체화하지 않는다.\n",
    "    @abstractmethod\n",
    "    def drive(self):\n",
    "        print('교통수단에 관하여')\n",
    "        \n",
    "class Car(Vehicle): # 자식 클래스\n",
    "    def drive(self):\n",
    "        return super.speed()"
   ]
  },
  {
   "cell_type": "code",
   "execution_count": 63,
   "id": "b0cdb03b",
   "metadata": {},
   "outputs": [
    {
     "data": {
      "text/plain": [
       "'20km/h'"
      ]
     },
     "execution_count": 63,
     "metadata": {},
     "output_type": "execute_result"
    }
   ],
   "source": [
    "car5 = Car()\n",
    "car.speed"
   ]
  },
  {
   "cell_type": "code",
   "execution_count": 64,
   "id": "6bbef9cf",
   "metadata": {},
   "outputs": [],
   "source": [
    "# 추상메서드 예시\n",
    "from abc import *\n",
    "\n",
    "class Human(metaclass=ABCMeta):\n",
    "    # 추상 메서드\n",
    "    @abstractmethod\n",
    "    def walk(self):\n",
    "        print('Human walk : 사람은 걸어요')\n",
    "        \n",
    "# 자식 클래스 : 어른 클래스\n",
    "class Adult(Human):\n",
    "    def walk(self):\n",
    "        print('Adult walk : 어른은 걷습니다.')\n",
    "\n",
    "# 자식 클래스 : 아기 클래스\n",
    "class Baby(Human):\n",
    "    # 추상 메서드\n",
    "    def walk(self):\n",
    "        print('Baby walk : 아기는 기어갑니다.')"
   ]
  },
  {
   "cell_type": "code",
   "execution_count": 68,
   "id": "faec35dd",
   "metadata": {},
   "outputs": [
    {
     "name": "stdout",
     "output_type": "stream",
     "text": [
      "Adult walk : 어른은 걷습니다.\n",
      "Baby walk : 아기는 기어갑니다.\n"
     ]
    }
   ],
   "source": [
    "adult1 = Adult()\n",
    "adult1.walk()\n",
    "baby1 = Baby()\n",
    "baby1.walk()"
   ]
  },
  {
   "cell_type": "markdown",
   "id": "7f8d6d04",
   "metadata": {},
   "source": [
    "### 매직메소드\n",
    "- __init__ : special method\n",
    "- 반드시 self를 처음으로 갖고, 객체의 초기값을 설정\n",
    "- object 클래스 메서드 재정의 하는것\n",
    "    - __str__\n",
    "    - __repr__"
   ]
  },
  {
   "cell_type": "code",
   "execution_count": 69,
   "id": "ac48b93a",
   "metadata": {},
   "outputs": [],
   "source": [
    "class Person(object):\n",
    "    def __init__(self,name):\n",
    "        self.name = name\n",
    "    def __str__(self):\n",
    "        # 인스턴스를 스트링으로 출력: 이름, 메모리주소\n",
    "        # print(인스턴스) 했을 때 출력되는 값\n",
    "        return self.name\n",
    "    def __repr__(self):\n",
    "        # 사용자 이해할 수 있게 객체를 출력하고 싶을 때 사용\n",
    "        return f'Person({self.name})'"
   ]
  },
  {
   "cell_type": "code",
   "execution_count": 71,
   "id": "a02a045f",
   "metadata": {},
   "outputs": [
    {
     "data": {
      "text/plain": [
       "Person(lee)"
      ]
     },
     "execution_count": 71,
     "metadata": {},
     "output_type": "execute_result"
    }
   ],
   "source": [
    "p = Person('lee')\n",
    "p"
   ]
  },
  {
   "cell_type": "code",
   "execution_count": 72,
   "id": "774851bd",
   "metadata": {},
   "outputs": [
    {
     "name": "stdout",
     "output_type": "stream",
     "text": [
      "lee\n"
     ]
    }
   ],
   "source": [
    "print(p)"
   ]
  },
  {
   "cell_type": "code",
   "execution_count": 73,
   "id": "772329b8",
   "metadata": {},
   "outputs": [
    {
     "data": {
      "text/plain": [
       "'Person(lee)'"
      ]
     },
     "execution_count": 73,
     "metadata": {},
     "output_type": "execute_result"
    }
   ],
   "source": [
    "repr(p)"
   ]
  },
  {
   "cell_type": "markdown",
   "id": "8213ec09",
   "metadata": {},
   "source": [
    "### namedtuple, dataclass\n",
    "- 변수만 있는 클래스 설정할 때 더 효율적으로 사용하는 수단\n",
    "- 딕셔너리 키와 같은 기능"
   ]
  },
  {
   "cell_type": "code",
   "execution_count": 74,
   "id": "39584a58",
   "metadata": {},
   "outputs": [],
   "source": [
    "# namedtuple \n",
    "from collections import namedtuple\n",
    "\n",
    "Person = namedtuple('Person','name age')\n",
    "a = Person('kim',33)"
   ]
  },
  {
   "cell_type": "code",
   "execution_count": 75,
   "id": "ec6958eb",
   "metadata": {},
   "outputs": [
    {
     "name": "stdout",
     "output_type": "stream",
     "text": [
      "kim\n",
      "33\n"
     ]
    }
   ],
   "source": [
    "print(a.name)\n",
    "print(a.age)"
   ]
  },
  {
   "cell_type": "code",
   "execution_count": 76,
   "id": "cbaf1869",
   "metadata": {},
   "outputs": [
    {
     "data": {
      "text/plain": [
       "'lee'"
      ]
     },
     "execution_count": 76,
     "metadata": {},
     "output_type": "execute_result"
    }
   ],
   "source": [
    "# 변수를 변경해주는 방법\n",
    "b = a._replace(name='lee')\n",
    "b.name"
   ]
  },
  {
   "cell_type": "code",
   "execution_count": 77,
   "id": "eb29120d",
   "metadata": {},
   "outputs": [],
   "source": [
    "from collections import namedtuple\n",
    "class Movie:\n",
    "    def __init__(self, title, price, age):\n",
    "        self.title = title\n",
    "        self.price = price\n",
    "        self.age = age"
   ]
  },
  {
   "cell_type": "code",
   "execution_count": 80,
   "id": "f43c4a4e",
   "metadata": {},
   "outputs": [
    {
     "name": "stdout",
     "output_type": "stream",
     "text": [
      "War 12000 15\n"
     ]
    }
   ],
   "source": [
    "from collections import namedtuple\n",
    "Movie = namedtuple('Movie', ['title', 'price', 'age'])\n",
    "movie1 = Movie('War','12000','15')\n",
    "print(movie1.title,movie1.price,movie1.age)"
   ]
  },
  {
   "cell_type": "code",
   "execution_count": 81,
   "id": "079f0304",
   "metadata": {},
   "outputs": [],
   "source": [
    "# dataclass\n",
    "from dataclasses import dataclass\n",
    "\n",
    "@dataclass\n",
    "class Person:\n",
    "    name: str\n",
    "    age: int"
   ]
  },
  {
   "cell_type": "code",
   "execution_count": 82,
   "id": "097299f0",
   "metadata": {},
   "outputs": [],
   "source": [
    "a = Person('kim',33)"
   ]
  },
  {
   "cell_type": "code",
   "execution_count": 83,
   "id": "b7eab085",
   "metadata": {},
   "outputs": [
    {
     "name": "stdout",
     "output_type": "stream",
     "text": [
      "kim\n",
      "33\n"
     ]
    }
   ],
   "source": [
    "print(a.name)\n",
    "print(a.age)"
   ]
  }
 ],
 "metadata": {
  "kernelspec": {
   "display_name": "Python 3 (ipykernel)",
   "language": "python",
   "name": "python3"
  },
  "language_info": {
   "codemirror_mode": {
    "name": "ipython",
    "version": 3
   },
   "file_extension": ".py",
   "mimetype": "text/x-python",
   "name": "python",
   "nbconvert_exporter": "python",
   "pygments_lexer": "ipython3",
   "version": "3.9.7"
  }
 },
 "nbformat": 4,
 "nbformat_minor": 5
}
