{
 "cells": [
  {
   "cell_type": "markdown",
   "id": "5d0d77de",
   "metadata": {},
   "source": [
    "### 함수 심화"
   ]
  },
  {
   "cell_type": "markdown",
   "id": "fb16c192",
   "metadata": {},
   "source": [
    "#### asterisk (stars)  *, **"
   ]
  },
  {
   "cell_type": "markdown",
   "id": "5061bfcd",
   "metadata": {},
   "source": [
    "#### positional argument"
   ]
  },
  {
   "cell_type": "code",
   "execution_count": 1,
   "id": "9e532443",
   "metadata": {},
   "outputs": [
    {
     "name": "stdout",
     "output_type": "stream",
     "text": [
      "('hey', 'hello', 'hi')\n"
     ]
    }
   ],
   "source": [
    "def print_arg(*args):\n",
    "    # args로 들어온 애들을 튜플로 묶음\n",
    "    # 인자를 튜플로 묶어서 활용하는 역할\n",
    "    print(args) \n",
    "    \n",
    "print_arg('hey','hello','hi')"
   ]
  },
  {
   "cell_type": "code",
   "execution_count": 2,
   "id": "2d659956",
   "metadata": {},
   "outputs": [
    {
     "name": "stdout",
     "output_type": "stream",
     "text": [
      "hey hello hi\n"
     ]
    }
   ],
   "source": [
    "# *args일 경우 다르게 출력 > unpacking해줌\n",
    "\n",
    "def print_arg(*args):\n",
    "    print(*args) \n",
    "    \n",
    "print_arg('hey','hello','hi')"
   ]
  },
  {
   "cell_type": "code",
   "execution_count": 13,
   "id": "f3492ff5",
   "metadata": {},
   "outputs": [
    {
     "name": "stdout",
     "output_type": "stream",
     "text": [
      "hey\n",
      "<class 'tuple'>\n"
     ]
    }
   ],
   "source": [
    "# args는 튜플이기 때문에 index로 접근이 가능\n",
    "\n",
    "def with_arg(*args):\n",
    "    return args\n",
    "\n",
    "print(with_arg('hey','hello','hi')[0])\n",
    "print(type(with_arg('hey','hello','hi')))"
   ]
  },
  {
   "cell_type": "code",
   "execution_count": 11,
   "id": "1c8ff98c",
   "metadata": {},
   "outputs": [
    {
     "name": "stdout",
     "output_type": "stream",
     "text": [
      "hey hello hi\n",
      "None\n",
      "<class 'NoneType'>\n"
     ]
    }
   ],
   "source": [
    "# unpacking 해줄 경우 nonetype\n",
    "\n",
    "def print_arg(*args):\n",
    "    print(*args) \n",
    "    \n",
    "a = print_arg('hey','hello','hi')\n",
    "print(a) \n",
    "print(type(a))"
   ]
  },
  {
   "cell_type": "code",
   "execution_count": 14,
   "id": "ce1a9a99",
   "metadata": {},
   "outputs": [
    {
     "name": "stdout",
     "output_type": "stream",
     "text": [
      "obligatory book\n",
      "1 2 3 4\n",
      "obligatory book\n",
      "(1, 2, 3, 4)\n",
      "obligatory book\n",
      "1 2 3 4\n"
     ]
    }
   ],
   "source": [
    "def print_arg2(name, *args): # 순서에 유의\n",
    "    print('obligatory',name)\n",
    "    print(*args)\n",
    "\n",
    "print_arg2('book',1,2,3,4) # args = 1,2,3,4\n",
    "nums = (1,2,3,4)\n",
    "x = print_arg2('book',nums) # nums가 튜플로 들어감\n",
    "y = print_arg2('book',*nums) # nums를 언패킹"
   ]
  },
  {
   "cell_type": "code",
   "execution_count": 16,
   "id": "df9df48c",
   "metadata": {},
   "outputs": [
    {
     "name": "stdout",
     "output_type": "stream",
     "text": [
      "행렬  2x2\n",
      "1 2\n",
      "5 6\n"
     ]
    }
   ],
   "source": [
    "def make_procession(name,args):\n",
    "    print('행렬 ',name)\n",
    "    for i in args:\n",
    "        print(*i)\n",
    "make_procession('2x2',((1,2),(5,6)))"
   ]
  },
  {
   "cell_type": "markdown",
   "id": "08aff17e",
   "metadata": {},
   "source": [
    "#### 외부에서 활용하기\n",
    "- 컬렉션 자료형 언패킹 출력 시\n",
    "    - 컬렉션 자료형: 여러 가지 요소를 하나로 묶어 사용하는 데이터 타입\n",
    "- zip()\n",
    "- 키워드 전용 인수 선언\n",
    "    - 쎌 뒤에 오는 매개변수들은 반드시 키워드 인수로 들어오도록 설정하는 역할\n",
    "    -kargs와 혼선을 빚지 않기 위해"
   ]
  },
  {
   "cell_type": "code",
   "execution_count": 17,
   "id": "da5d64b9",
   "metadata": {},
   "outputs": [
    {
     "name": "stdout",
     "output_type": "stream",
     "text": [
      "0 1 2 3 4\n"
     ]
    }
   ],
   "source": [
    "# 컬렉션 자료형 언패킹 출력\n",
    "nums = list(range(5))\n",
    "print(*nums)"
   ]
  },
  {
   "cell_type": "code",
   "execution_count": 29,
   "id": "741d07f9",
   "metadata": {},
   "outputs": [
    {
     "name": "stdout",
     "output_type": "stream",
     "text": [
      "1 2 3\n",
      "하나 둘 셋\n",
      "(1, '하나') (2, '둘') (3, '셋')\n"
     ]
    }
   ],
   "source": [
    "nums_dict = {1:'하나',2:'둘',3:'셋'}\n",
    "print(*nums_dict) # 키로 출력\n",
    "print(*nums_dict.values()) # value로 출력\n",
    "print(*nums_dict.items()) # key와 value 동시에"
   ]
  },
  {
   "cell_type": "code",
   "execution_count": 32,
   "id": "415c3614",
   "metadata": {},
   "outputs": [
    {
     "ename": "TypeError",
     "evalue": "'dict_items' object is not subscriptable",
     "output_type": "error",
     "traceback": [
      "\u001b[1;31m---------------------------------------------------------------------------\u001b[0m",
      "\u001b[1;31mTypeError\u001b[0m                                 Traceback (most recent call last)",
      "\u001b[1;32m~\\AppData\\Local\\Temp/ipykernel_13668/1386550675.py\u001b[0m in \u001b[0;36m<module>\u001b[1;34m\u001b[0m\n\u001b[1;32m----> 1\u001b[1;33m \u001b[0mprint\u001b[0m\u001b[1;33m(\u001b[0m\u001b[1;33m*\u001b[0m\u001b[0mnums_dict\u001b[0m\u001b[1;33m.\u001b[0m\u001b[0mitems\u001b[0m\u001b[1;33m(\u001b[0m\u001b[1;33m)\u001b[0m\u001b[1;33m[\u001b[0m\u001b[1;36m0\u001b[0m\u001b[1;33m]\u001b[0m\u001b[1;33m)\u001b[0m\u001b[1;33m\u001b[0m\u001b[1;33m\u001b[0m\u001b[0m\n\u001b[0m",
      "\u001b[1;31mTypeError\u001b[0m: 'dict_items' object is not subscriptable"
     ]
    }
   ],
   "source": [
    "print(*nums_dict.items()[0]) # 인덱스 접근은 불가능"
   ]
  },
  {
   "cell_type": "code",
   "execution_count": 53,
   "id": "65ce75d3",
   "metadata": {
    "scrolled": false
   },
   "outputs": [
    {
     "name": "stdout",
     "output_type": "stream",
     "text": [
      "[1, 2]\n",
      "[3, 4]\n",
      "[5, 6]\n",
      "(1, 3, 5)\n",
      "(2, 4, 6)\n"
     ]
    }
   ],
   "source": [
    "# zip()\n",
    "\n",
    "a = [\n",
    "    [1,2],\n",
    "    [3,4],\n",
    "    [5,6],\n",
    "]\n",
    "\n",
    "\n",
    "for i in zip(a):\n",
    "    print(*i)\n",
    "    \n",
    "# 1,3,5 / 2,4,6\n",
    "\n",
    "for row in zip(*a):\n",
    "    print(row)"
   ]
  },
  {
   "cell_type": "code",
   "execution_count": 55,
   "id": "18da1caf",
   "metadata": {},
   "outputs": [
    {
     "name": "stdout",
     "output_type": "stream",
     "text": [
      "(1, 3, 5)\n",
      "(2, 4, 6)\n"
     ]
    }
   ],
   "source": [
    "# 출력되는 과정\n",
    "for i in zip([1, 2], [3, 4], [5, 6]):\n",
    "    print(i)"
   ]
  },
  {
   "cell_type": "code",
   "execution_count": 56,
   "id": "b6e9c9aa",
   "metadata": {},
   "outputs": [
    {
     "name": "stdout",
     "output_type": "stream",
     "text": [
      "1\n",
      "2\n"
     ]
    }
   ],
   "source": [
    "# 키워드 전용 인수 선언\n",
    "# start와 end는 키워드로 받고 싶은 경우\n",
    "\n",
    "def print_data(data,*, start, end): # data,* 임에 주의\n",
    "    for value in data[start:end]:\n",
    "        print(value)\n",
    "        \n",
    "print_data(nums, start = 1, end =3)"
   ]
  },
  {
   "cell_type": "markdown",
   "id": "4b706ddb",
   "metadata": {},
   "source": [
    "#### ** (kargs)"
   ]
  },
  {
   "cell_type": "code",
   "execution_count": 63,
   "id": "ed1741a3",
   "metadata": {},
   "outputs": [
    {
     "name": "stdout",
     "output_type": "stream",
     "text": [
      "{'wine': 'merlot', 'dessert': 'cake'}\n",
      "merlot is-semi-sweet\n"
     ]
    }
   ],
   "source": [
    "def print_kargs(**kargs): # 딕셔너리로 묶는 기능\n",
    "    print(kargs) # **kargs가 불가능\n",
    "    print(kargs['wine'],'is-semi-sweet') # get(key, default)\n",
    "    \n",
    "print_kargs(wine='merlot',dessert='cake')"
   ]
  },
  {
   "cell_type": "code",
   "execution_count": 64,
   "id": "babc893c",
   "metadata": {},
   "outputs": [
    {
     "name": "stdout",
     "output_type": "stream",
     "text": [
      "merlot is good\n",
      "not in menu but it is good\n"
     ]
    }
   ],
   "source": [
    "# get을 사용\n",
    "def print_kargs2(**kargs):\n",
    "    print(kargs.get('wine','not in menu but it'),'is good')\n",
    "    \n",
    "print_kargs2(wine='merlot',dessert='cake')\n",
    "print_kargs2(soju='cham',dessert='cake')"
   ]
  },
  {
   "cell_type": "code",
   "execution_count": 65,
   "id": "97e8d332",
   "metadata": {},
   "outputs": [
    {
     "name": "stdout",
     "output_type": "stream",
     "text": [
      "{'wine': 'merlot', 'dessert': 'scone'}\n",
      "merlot is-semi-sweet\n",
      "{'wine': 'cabernet', 'dessert': 'scone'}\n",
      "cabernet is-semi-sweet\n",
      "{'wine': 'crianze', 'dessert': 'scone'}\n",
      "crianze is-semi-sweet\n"
     ]
    }
   ],
   "source": [
    "wine_list = 'merlot cabernet crianze'.split()\n",
    "\n",
    "for wine in wine_list:\n",
    "    print_kargs(wine=wine, dessert = 'scone')"
   ]
  },
  {
   "cell_type": "code",
   "execution_count": 69,
   "id": "28edd1fd",
   "metadata": {},
   "outputs": [
    {
     "name": "stdout",
     "output_type": "stream",
     "text": [
      "15\n",
      "(3, 4, 5)\n",
      "{'first': 1, 'second': 2}\n",
      "3\n",
      "()\n",
      "{}\n",
      "10\n",
      "(3, 4)\n",
      "{}\n"
     ]
    }
   ],
   "source": [
    "# 순서: 위치인수 > args > kargs\n",
    "def print_both(one, two, *args, **kargs): # one과 two는 필수 \n",
    "    print(one + two + sum(args))\n",
    "    print(args)\n",
    "    print(kargs)\n",
    "    \n",
    "print_both(1,2,3,4,5,first =1,second=2)\n",
    "print_both(1,2) # one, two만 존재 args도 존재하지 않음\n",
    "print_both(1,2,3,4)"
   ]
  },
  {
   "cell_type": "markdown",
   "id": "339a7777",
   "metadata": {},
   "source": [
    "#### 딕셔너리 결합할 때 사용할 수 있다(3.5이상)"
   ]
  },
  {
   "cell_type": "code",
   "execution_count": 70,
   "id": "27d316ef",
   "metadata": {},
   "outputs": [
    {
     "data": {
      "text/plain": [
       "{1: 'a', 2: 'c', 3: 'd'}"
      ]
     },
     "execution_count": 70,
     "metadata": {},
     "output_type": "execute_result"
    }
   ],
   "source": [
    "x = {1:'a',2:'b'}\n",
    "y = {2:'c',3:'d'}\n",
    "{**x,**y}\n",
    "# '2'의 값이 중복됨 > 뒤에 나오는 키의 value값으로 대응됨"
   ]
  },
  {
   "cell_type": "code",
   "execution_count": 71,
   "id": "27d1c76c",
   "metadata": {},
   "outputs": [
    {
     "data": {
      "text/plain": [
       "{2: 'b', 3: 'd', 1: 'a'}"
      ]
     },
     "execution_count": 71,
     "metadata": {},
     "output_type": "execute_result"
    }
   ],
   "source": [
    "{**y,**x} \n",
    "# '2'의 값이 뒤에 나오는 x에서 가져와짐"
   ]
  },
  {
   "cell_type": "markdown",
   "id": "e35d1dab",
   "metadata": {},
   "source": [
    "### 일급객체\n",
    "- first class object / first class citizen\n",
    "- 함수도 객체다.\n",
    "    - 객체는 인자로 전달 가능\n",
    "    - 객체는 반환값이 될 수 있다.\n",
    "    - 객체는 수정, 할당될 수 있다."
   ]
  },
  {
   "cell_type": "code",
   "execution_count": 76,
   "id": "61a96922",
   "metadata": {},
   "outputs": [
    {
     "name": "stdout",
     "output_type": "stream",
     "text": [
      "43\n",
      "43\n"
     ]
    }
   ],
   "source": [
    "def answer():\n",
    "    print(43)\n",
    "def run_something(func): # 파이썬에서만 가능 => 함수가 객체의 성질을 갖기 때문\n",
    "    func()\n",
    "    \n",
    "run_something(answer)\n",
    "\n",
    "# 둘의 차이는 return과 함수 실행\n",
    "def run_anything(func):\n",
    "    return func\n",
    "\n",
    "run_anything(answer)() # 괄호 > 함수 실행"
   ]
  },
  {
   "cell_type": "code",
   "execution_count": 74,
   "id": "adeab74c",
   "metadata": {},
   "outputs": [
    {
     "data": {
      "text/plain": [
       "<function __main__.answer()>"
      ]
     },
     "execution_count": 74,
     "metadata": {},
     "output_type": "execute_result"
    }
   ],
   "source": [
    "# 괄호가 없다면\n",
    "run_anything(answer)"
   ]
  },
  {
   "cell_type": "code",
   "execution_count": 77,
   "id": "88e74197",
   "metadata": {},
   "outputs": [
    {
     "data": {
      "text/plain": [
       "15"
      ]
     },
     "execution_count": 77,
     "metadata": {},
     "output_type": "execute_result"
    }
   ],
   "source": [
    "def sum_args(*args):\n",
    "    return sum(args)\n",
    "\n",
    "def run_with_possitional_args(func, *args):\n",
    "    return func(*args)\n",
    "\n",
    "run_with_possitional_args(sum_args,1,2,3,4,5)"
   ]
  },
  {
   "cell_type": "code",
   "execution_count": 82,
   "id": "9120b1ac",
   "metadata": {},
   "outputs": [
    {
     "name": "stdout",
     "output_type": "stream",
     "text": [
      "merlot = 15도\n"
     ]
    }
   ],
   "source": [
    "# kargs 사용\n",
    "def print_kargs3(**kargs):\n",
    "    print(kargs.get('wine')[0],'=',kargs.get('wine')[1])\n",
    "\n",
    "def run_with_kargs(func,**kargs):\n",
    "    return func(**kargs)\n",
    "    \n",
    "run_with_kargs(print_kargs3,wine=['merlot','15도'])"
   ]
  },
  {
   "cell_type": "code",
   "execution_count": 83,
   "id": "4e2277da",
   "metadata": {},
   "outputs": [],
   "source": [
    "# 가변 인자일 때 => 초기화하지 않으면 변수 내용이 변할 수 있음\n",
    "def func(num_list):\n",
    "    # 변할 수 있음을 문서화 할 것, 혹은 다른 방법 찾아볼것\n",
    "    # 다른 방법 > copy하거나 안에서 새로 만듬\n",
    "    sum_num = sum(num_list)\n",
    "    num_list.append(sum_num)\n",
    "    \n",
    "a = [1,3,5]\n",
    "func(a)"
   ]
  },
  {
   "cell_type": "code",
   "execution_count": 84,
   "id": "5c92faa2",
   "metadata": {},
   "outputs": [
    {
     "data": {
      "text/plain": [
       "[1, 3, 5, 9]"
      ]
     },
     "execution_count": 84,
     "metadata": {},
     "output_type": "execute_result"
    }
   ],
   "source": [
    "a # a에 계속 쌓임"
   ]
  },
  {
   "cell_type": "code",
   "execution_count": 85,
   "id": "8540a50d",
   "metadata": {},
   "outputs": [
    {
     "data": {
      "text/plain": [
       "[1, 3, 5, 9, 18]"
      ]
     },
     "execution_count": 85,
     "metadata": {},
     "output_type": "execute_result"
    }
   ],
   "source": [
    "func(a)\n",
    "a\n",
    "# 초기화 되지 않고 계속 쌓임"
   ]
  },
  {
   "cell_type": "code",
   "execution_count": 98,
   "id": "f032889b",
   "metadata": {},
   "outputs": [
    {
     "data": {
      "text/plain": [
       "[1, 3, 5, 9]"
      ]
     },
     "execution_count": 98,
     "metadata": {},
     "output_type": "execute_result"
    }
   ],
   "source": [
    "import copy\n",
    "\n",
    "def func2(num_list):\n",
    "    new_num_list = copy.deepcopy(num_list)\n",
    "    sum_num = sum(new_num_list)\n",
    "    new_num_list.append(sum_num)\n",
    "    return new_num_list\n",
    "    \n",
    "b = [1,3,5]\n",
    "func2(b)    "
   ]
  },
  {
   "cell_type": "code",
   "execution_count": 99,
   "id": "e3ee0026",
   "metadata": {},
   "outputs": [
    {
     "data": {
      "text/plain": [
       "[1, 3, 5]"
      ]
     },
     "execution_count": 99,
     "metadata": {},
     "output_type": "execute_result"
    }
   ],
   "source": [
    "b"
   ]
  },
  {
   "cell_type": "markdown",
   "id": "18470572",
   "metadata": {},
   "source": [
    "### 익명함수(람다)\n",
    "- lambda\n",
    "- 함수인데 이름이 없음(def, return)\n",
    "- 사용 이유: 단순한 함수를 사용할 때(한줄짜리)\n",
    "- 단, 잦은 사용은 권장하지 않는다 > 직관적이지 않고 재활용이 불가능하기 때문\n",
    "- 문법: lambda x: <x를 요리할 코드>"
   ]
  },
  {
   "cell_type": "code",
   "execution_count": 104,
   "id": "8ac9dd5a",
   "metadata": {},
   "outputs": [
    {
     "name": "stdout",
     "output_type": "stream",
     "text": [
      "ok\n",
      "ok\n"
     ]
    },
    {
     "data": {
      "text/plain": [
       "'ok'"
      ]
     },
     "execution_count": 104,
     "metadata": {},
     "output_type": "execute_result"
    }
   ],
   "source": [
    "# 함수를 선언해서\n",
    "def f(x):\n",
    "    return x.lower()\n",
    "print(f('OK'))\n",
    "\n",
    "# 특정 이름에 람다를 선언해서\n",
    "f2 = lambda x:x.lower()\n",
    "print(f2('OK'))\n",
    "\n",
    "# 이름 없이 사용 가능\n",
    "(lambda x:x.lower())('OK')"
   ]
  },
  {
   "cell_type": "code",
   "execution_count": 105,
   "id": "d7aa6201",
   "metadata": {},
   "outputs": [
    {
     "data": {
      "text/plain": [
       "10"
      ]
     },
     "execution_count": 105,
     "metadata": {},
     "output_type": "execute_result"
    }
   ],
   "source": [
    "f3 = lambda x,y : x+y\n",
    "f3(5,5)"
   ]
  },
  {
   "cell_type": "code",
   "execution_count": 108,
   "id": "64f180e8",
   "metadata": {},
   "outputs": [
    {
     "data": {
      "text/plain": [
       "'Abc!'"
      ]
     },
     "execution_count": 108,
     "metadata": {},
     "output_type": "execute_result"
    }
   ],
   "source": [
    "# Quiz\n",
    "# abc -> Abc!\n",
    "# 방법 1 => 비효율적 방법\n",
    "f4 = lambda x: x[0].upper() + x[1:] + '!'\n",
    "f4('abc')\n",
    "\n",
    "# 방법 2 \n",
    "f5 = lambda x : x.capitalize() + '!'\n",
    "f5('abc')"
   ]
  },
  {
   "cell_type": "code",
   "execution_count": 109,
   "id": "21a34011",
   "metadata": {},
   "outputs": [
    {
     "data": {
      "text/plain": [
       "[11, 12, 13]"
      ]
     },
     "execution_count": 109,
     "metadata": {},
     "output_type": "execute_result"
    }
   ],
   "source": [
    "# lambda 활용 -> map 함수 활용\n",
    "list(map(lambda x: x + 10, [1, 2, 3]))"
   ]
  }
 ],
 "metadata": {
  "kernelspec": {
   "display_name": "Python 3 (ipykernel)",
   "language": "python",
   "name": "python3"
  },
  "language_info": {
   "codemirror_mode": {
    "name": "ipython",
    "version": 3
   },
   "file_extension": ".py",
   "mimetype": "text/x-python",
   "name": "python",
   "nbconvert_exporter": "python",
   "pygments_lexer": "ipython3",
   "version": "3.9.7"
  }
 },
 "nbformat": 4,
 "nbformat_minor": 5
}
