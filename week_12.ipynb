{
 "cells": [
  {
   "cell_type": "markdown",
   "id": "dc125611",
   "metadata": {},
   "source": [
    "### 함수 2\n",
    "- 중첩함수 > 함수 안에 함수가 또 중첩 되어 있는 경우\n",
    "    - 중첩 함수는 원래 함수 밖에서는 호출이 불가\n",
    "    - 복잡한 수식들을 해결하는데 유용하게 사용\n",
    "    - 캡슐화 목적\n",
    "        - 변수 범위를 제한할 수 있다.\n",
    "        - 책임, 관리 명확해짐\n",
    "- 제너레이터 > 이터레이터를 생성해주는 것\n",
    "    - 순회를 가능하게 해줌\n",
    "    - yield로 반환\n",
    "- 재귀함수\n",
    "    - 함수 안에서 자기 자신을 호출\n",
    "    - 너무 깊어지는 것에 대해 주의"
   ]
  },
  {
   "cell_type": "code",
   "execution_count": 1,
   "id": "4122b2af",
   "metadata": {},
   "outputs": [
    {
     "data": {
      "text/plain": [
       "4"
      ]
     },
     "execution_count": 1,
     "metadata": {},
     "output_type": "execute_result"
    }
   ],
   "source": [
    "# 중첩함수의 구조\n",
    "def outer(a,b): # 외부함수\n",
    "    def inner(c,d): # 내부함수 \n",
    "        return c+d\n",
    "    return inner(a,b)\n",
    "outer(2,2)"
   ]
  },
  {
   "cell_type": "code",
   "execution_count": 2,
   "id": "e96ba340",
   "metadata": {},
   "outputs": [
    {
     "ename": "NameError",
     "evalue": "name 'inner' is not defined",
     "output_type": "error",
     "traceback": [
      "\u001b[1;31m---------------------------------------------------------------------------\u001b[0m",
      "\u001b[1;31mNameError\u001b[0m                                 Traceback (most recent call last)",
      "\u001b[1;32m~\\AppData\\Local\\Temp/ipykernel_10824/4048059116.py\u001b[0m in \u001b[0;36m<module>\u001b[1;34m\u001b[0m\n\u001b[1;32m----> 1\u001b[1;33m \u001b[0minner\u001b[0m\u001b[1;33m(\u001b[0m\u001b[1;36m2\u001b[0m\u001b[1;33m,\u001b[0m\u001b[1;36m3\u001b[0m\u001b[1;33m)\u001b[0m\u001b[1;33m\u001b[0m\u001b[1;33m\u001b[0m\u001b[0m\n\u001b[0m",
      "\u001b[1;31mNameError\u001b[0m: name 'inner' is not defined"
     ]
    }
   ],
   "source": [
    "inner(2,3) # 내부함수는 따로 호출이 불가능"
   ]
  },
  {
   "cell_type": "code",
   "execution_count": 3,
   "id": "6ee0f8d2",
   "metadata": {},
   "outputs": [
    {
     "data": {
      "text/plain": [
       "'we are the knights who say: Ni!'"
      ]
     },
     "execution_count": 3,
     "metadata": {},
     "output_type": "execute_result"
    }
   ],
   "source": [
    "# 내부함수와 외부함수가 별개\n",
    "def knight(saying):\n",
    "    def inner(quote):\n",
    "        return f'we are the knights who say: {quote}'\n",
    "    return inner(saying)\n",
    "knight('Ni!')"
   ]
  },
  {
   "cell_type": "markdown",
   "id": "546c4046",
   "metadata": {},
   "source": [
    "#### 클로저\n",
    "- 자신을 둘러싼 scope (name space)의 상태값을 기억하는 함수\n",
    "- 메모리 효율적 사용 (함수 호출시 꺼낼 수 있다)\n",
    "- 조건\n",
    "    - 중첩함수여야함\n",
    "    - 외부함수의 상태값 참조해야함\n",
    "    - 외부함수가 내부함수를 반환해야 함"
   ]
  },
  {
   "cell_type": "code",
   "execution_count": 8,
   "id": "f6f533a9",
   "metadata": {},
   "outputs": [
    {
     "data": {
      "text/plain": [
       "<function __main__.multiply(x)>"
      ]
     },
     "execution_count": 8,
     "metadata": {},
     "output_type": "execute_result"
    }
   ],
   "source": [
    "# 내부함수와 외부함수가 연결되어 있음 by 클로저\n",
    "def multiply(x): # 클로저(closure)\n",
    "    def inner(y): # 외부함수를 참고하게 됨\n",
    "        return x * y\n",
    "    return inner # 괄호도 없음 함수가 실행되기 전\n",
    "\n",
    "multiply"
   ]
  },
  {
   "cell_type": "code",
   "execution_count": 9,
   "id": "3a5fe00c",
   "metadata": {},
   "outputs": [],
   "source": [
    "m5 = multiply(5) # x = 5\n",
    "m6 = multiply(6) # x = 6"
   ]
  },
  {
   "cell_type": "code",
   "execution_count": 10,
   "id": "d7c16170",
   "metadata": {},
   "outputs": [
    {
     "data": {
      "text/plain": [
       "20"
      ]
     },
     "execution_count": 10,
     "metadata": {},
     "output_type": "execute_result"
    }
   ],
   "source": [
    "m5(4) # x = 5로 정해져 있기 때문\n",
    "# 함수에서 x = 5, y = 4를 넣어준것과 동일"
   ]
  },
  {
   "cell_type": "code",
   "execution_count": 11,
   "id": "bb2a24c4",
   "metadata": {},
   "outputs": [],
   "source": [
    "del(multiply)"
   ]
  },
  {
   "cell_type": "code",
   "execution_count": 12,
   "id": "da2996af",
   "metadata": {},
   "outputs": [
    {
     "ename": "NameError",
     "evalue": "name 'multiply' is not defined",
     "output_type": "error",
     "traceback": [
      "\u001b[1;31m---------------------------------------------------------------------------\u001b[0m",
      "\u001b[1;31mNameError\u001b[0m                                 Traceback (most recent call last)",
      "\u001b[1;32m~\\AppData\\Local\\Temp/ipykernel_10824/330517852.py\u001b[0m in \u001b[0;36m<module>\u001b[1;34m\u001b[0m\n\u001b[1;32m----> 1\u001b[1;33m \u001b[0mmultiply\u001b[0m\u001b[1;33m\u001b[0m\u001b[1;33m\u001b[0m\u001b[0m\n\u001b[0m",
      "\u001b[1;31mNameError\u001b[0m: name 'multiply' is not defined"
     ]
    }
   ],
   "source": [
    "multiply # multiply가 삭제됨"
   ]
  },
  {
   "cell_type": "code",
   "execution_count": 13,
   "id": "a20f7302",
   "metadata": {},
   "outputs": [
    {
     "data": {
      "text/plain": [
       "50"
      ]
     },
     "execution_count": 13,
     "metadata": {},
     "output_type": "execute_result"
    }
   ],
   "source": [
    "m5(10) # multiply는 지워졌지만 m5는 계속 유지됨"
   ]
  },
  {
   "cell_type": "code",
   "execution_count": 14,
   "id": "9d55dedf",
   "metadata": {},
   "outputs": [],
   "source": [
    "# 예제\n",
    "def order_meal(main, side):\n",
    "    def order_drink(drink):\n",
    "        return f'{main},{side},{drink}를 주문하셨습니다.'\n",
    "    return order_drink\n",
    "\n",
    "order1 = order_meal('burger','fries')"
   ]
  },
  {
   "cell_type": "code",
   "execution_count": 15,
   "id": "c61b7e84",
   "metadata": {},
   "outputs": [
    {
     "data": {
      "text/plain": [
       "'burger,fries,sprite를 주문하셨습니다.'"
      ]
     },
     "execution_count": 15,
     "metadata": {},
     "output_type": "execute_result"
    }
   ],
   "source": [
    "order1('sprite')"
   ]
  },
  {
   "cell_type": "markdown",
   "id": "20a6f6f2",
   "metadata": {},
   "source": [
    "### 데코레이터\n",
    "- 메인 함수에 또 다른 함수를 데코레이터로 선언하여 사용할 수 있음\n",
    "- 목적:\n",
    "    - 재사용, 가독성, 직관적임 "
   ]
  },
  {
   "cell_type": "code",
   "execution_count": 17,
   "id": "b55af72c",
   "metadata": {},
   "outputs": [],
   "source": [
    "def document_it(func):\n",
    "    def new_func(*args,**kargs):\n",
    "        print('arguments: ', args)\n",
    "        print('key arguments: ',kargs)\n",
    "        return func(*args,**kargs)\n",
    "    return new_func\n",
    "\n",
    "@document_it\n",
    "def add(a,b):\n",
    "    return a + b\n",
    "\n",
    "@document_it\n",
    "def subtract(a,b):\n",
    "    return a-b"
   ]
  },
  {
   "cell_type": "code",
   "execution_count": 21,
   "id": "88427783",
   "metadata": {},
   "outputs": [
    {
     "name": "stdout",
     "output_type": "stream",
     "text": [
      "arguments:  (1, 3)\n",
      "key arguments:  {}\n",
      "arguments:  (4, 2)\n",
      "key arguments:  {}\n"
     ]
    },
    {
     "data": {
      "text/plain": [
       "2"
      ]
     },
     "execution_count": 21,
     "metadata": {},
     "output_type": "execute_result"
    }
   ],
   "source": [
    "add(1,3)\n",
    "subtract(4,2)"
   ]
  },
  {
   "cell_type": "code",
   "execution_count": null,
   "id": "cb4e989f",
   "metadata": {},
   "outputs": [],
   "source": [
    "#Quiz: add를 활용할 중첩함수 만들기\n",
    "- 결과값의 제곱 값을 반환하는 클로저 함수 만들기"
   ]
  },
  {
   "cell_type": "code",
   "execution_count": 30,
   "id": "34cb3139",
   "metadata": {},
   "outputs": [],
   "source": [
    "def square(func):\n",
    "    def inner(*args):\n",
    "        result = func(*args) \n",
    "        return result * result\n",
    "    return inner\n",
    "\n",
    "@square\n",
    "def add(a,b):\n",
    "    return a + b"
   ]
  },
  {
   "cell_type": "code",
   "execution_count": 35,
   "id": "b0689b64",
   "metadata": {},
   "outputs": [
    {
     "data": {
      "text/plain": [
       "64"
      ]
     },
     "execution_count": 35,
     "metadata": {},
     "output_type": "execute_result"
    }
   ],
   "source": [
    "add(4,4)"
   ]
  },
  {
   "cell_type": "markdown",
   "id": "741aef79",
   "metadata": {},
   "source": [
    "### scope(변수의 유효범위): global, local, nonlocal\n",
    "- local: 지역변수, 함수 내부에서 선언된 변수\n",
    "    - 함수 내부에서만 사용\n",
    "- global: 전역변수, 함수 외부에서 선언된 변수\n",
    "    - global 키워드로 함수 내부에서 사용 가능\n",
    "- 내부함수는 외부함수의 인자를 '참조'만 \n",
    "- nonlocal\n",
    "    - 동일한 이름의 새로운 변수가 생성되는 것을 방지하기 위해서 사용"
   ]
  },
  {
   "cell_type": "code",
   "execution_count": 37,
   "id": "6b8017a5",
   "metadata": {},
   "outputs": [],
   "source": [
    "# 위의 예시를 통한 변수의 범위 확인\n",
    "# 전역(global)\n",
    "a = 4 # 전역변수\n",
    "def square(func):\n",
    "    # 지역(local)\n",
    "    def inner(*args):\n",
    "        # 지역 내의 지역?\n",
    "        result = func(*args) \n",
    "        return result * result\n",
    "    return inner"
   ]
  },
  {
   "cell_type": "code",
   "execution_count": 38,
   "id": "84f5bf64",
   "metadata": {},
   "outputs": [
    {
     "data": {
      "text/plain": [
       "10"
      ]
     },
     "execution_count": 38,
     "metadata": {},
     "output_type": "execute_result"
    }
   ],
   "source": [
    "z = 3\n",
    "def outer(x):\n",
    "    y = 4\n",
    "    def inner(x):\n",
    "        x = 1000\n",
    "        return x\n",
    "    return x\n",
    "outer(10) # inner를 선언했지만 inner을 타지 않았기 때문    "
   ]
  },
  {
   "cell_type": "code",
   "execution_count": 39,
   "id": "0abc7b78",
   "metadata": {},
   "outputs": [
    {
     "data": {
      "text/plain": [
       "1000"
      ]
     },
     "execution_count": 39,
     "metadata": {},
     "output_type": "execute_result"
    }
   ],
   "source": [
    "def outer(x):\n",
    "    y = 4\n",
    "    def inner():\n",
    "        x = 1000\n",
    "        return x\n",
    "    return inner() # inner를 선언하여 x값에 변화가 생김\n",
    "outer(10)"
   ]
  },
  {
   "cell_type": "code",
   "execution_count": 40,
   "id": "ff278c12",
   "metadata": {},
   "outputs": [
    {
     "data": {
      "text/plain": [
       "11"
      ]
     },
     "execution_count": 40,
     "metadata": {},
     "output_type": "execute_result"
    }
   ],
   "source": [
    "def outer(x):\n",
    "    y = 4\n",
    "    def inner():\n",
    "        nonlocal x\n",
    "        x += 1\n",
    "        return x\n",
    "    return inner()\n",
    "outer(10)"
   ]
  },
  {
   "cell_type": "code",
   "execution_count": 45,
   "id": "8e9ca925",
   "metadata": {},
   "outputs": [],
   "source": [
    "# 가변인자를 인수로 사용할 때는 주의\n",
    "def my_func(nums:list): # 가변인자 -> 리턴 없이도 리턴 얻음\n",
    "    # 문서화 => 사용자가 알 수 있게 or 다른 방법 사용\n",
    "    nums.append(sum(nums))\n",
    "a = [1,2,3]\n",
    "my_func(a)\n",
    "my_func(a)\n",
    "my_func(a)\n",
    "my_func(a)"
   ]
  },
  {
   "cell_type": "code",
   "execution_count": 46,
   "id": "845e93f4",
   "metadata": {},
   "outputs": [
    {
     "data": {
      "text/plain": [
       "[1, 2, 3, 6, 12, 24, 48]"
      ]
     },
     "execution_count": 46,
     "metadata": {},
     "output_type": "execute_result"
    }
   ],
   "source": [
    "a # 리스트는 가변인자이기 때문에 초기화 되지 않고 계속 쌓임"
   ]
  },
  {
   "cell_type": "markdown",
   "id": "a84ec832",
   "metadata": {},
   "source": [
    "### 실습\n",
    "1. 함수: 차 속도, 제한 속도를 비교해서 true,false 반환\n",
    "2. 데코레이터 함수\n",
    "- 만약에 제한속도를 초과했다면 얼마나 초과했는지 프린트하는 함수\n",
    "- 예: 100, 80\n",
    "- 20km/h 초과"
   ]
  },
  {
   "cell_type": "code",
   "execution_count": 47,
   "id": "a447206a",
   "metadata": {},
   "outputs": [
    {
     "data": {
      "text/plain": [
       "'20 km/h 초과'"
      ]
     },
     "execution_count": 47,
     "metadata": {},
     "output_type": "execute_result"
    }
   ],
   "source": [
    "# 처음 풀이\n",
    "def document_it(func):\n",
    "    def over_speed(*args):\n",
    "        if func(*args) == False:\n",
    "            return f'{args[0] - args[1]} km/h 초과'\n",
    "    return over_speed\n",
    "\n",
    "@document_it\n",
    "def car_speed(my_car, limit_speed):\n",
    "    if my_car <= limit_speed:\n",
    "        return True\n",
    "    else:\n",
    "        return False\n",
    "    \n",
    "car_speed(80,60)"
   ]
  },
  {
   "cell_type": "code",
   "execution_count": null,
   "id": "19998684",
   "metadata": {},
   "outputs": [],
   "source": [
    "# car_speed()함수 간략화 가능\n",
    "# args로 접근할 경우 안정적이지 못함 -> speed, limit로 접근\n",
    "# 정상속도에 대한 처리"
   ]
  },
  {
   "cell_type": "code",
   "execution_count": 48,
   "id": "b72a90eb",
   "metadata": {},
   "outputs": [
    {
     "data": {
      "text/plain": [
       "'초과속도 20km/h'"
      ]
     },
     "execution_count": 48,
     "metadata": {},
     "output_type": "execute_result"
    }
   ],
   "source": [
    "# 개선안\n",
    "def calc_speed(func):\n",
    "    def inner(speed, limit):\n",
    "        if func(speed,limit):\n",
    "            return f'초과속도 {speed-limit}km/h'\n",
    "        else:\n",
    "            return '정상속도'\n",
    "        return\n",
    "    return inner\n",
    "\n",
    "@calc_speed\n",
    "def is_speeding(speed, limit):\n",
    "    return speed > limit # True, False를 바로 출력\n",
    "\n",
    "is_speeding(100,80)"
   ]
  },
  {
   "cell_type": "markdown",
   "id": "f29b23f9",
   "metadata": {},
   "source": [
    "### 제너레이터\n",
    "- return -> yield\n",
    "- 순회의 리턴값을 하나씩 반환\n",
    "- 시퀀스를 생성하는 객체\n",
    "- 메모리 효율성 증대 > 한번만 사용"
   ]
  },
  {
   "cell_type": "code",
   "execution_count": null,
   "id": "080b2e90",
   "metadata": {},
   "outputs": [],
   "source": [
    "# 제너레이터 구조\n",
    "def ...():\n",
    "    for i in range(5):\n",
    "        yield i # return -> yield"
   ]
  },
  {
   "cell_type": "code",
   "execution_count": 52,
   "id": "0899841e",
   "metadata": {},
   "outputs": [
    {
     "name": "stdout",
     "output_type": "stream",
     "text": [
      "return 값 Kevin\n",
      "Kevin\n",
      "Michael\n",
      "Juliette\n",
      "Laura\n"
     ]
    }
   ],
   "source": [
    "names = 'Kevin Michael Juliette Laura'.split()\n",
    "\n",
    "# return 사용할 경우 하나만 출력\n",
    "def printing(name_list:list):\n",
    "    for name in name_list:\n",
    "        return name\n",
    "print('return 값',printing(names)) # 하나만 나옴\n",
    "\n",
    "# yield를 통해 모두 출력\n",
    "def printing(name_list:list):\n",
    "    for name in name_list:\n",
    "        yield name\n",
    "name_list = printing(names)\n",
    "\n",
    "for i in name_list:\n",
    "    print(i)"
   ]
  },
  {
   "cell_type": "markdown",
   "id": "87ab0c46",
   "metadata": {},
   "source": [
    "#### Type Hints\n",
    "- 타입에 대한 힌트를 제공 \n",
    "- 강제성은 없음"
   ]
  },
  {
   "cell_type": "code",
   "execution_count": 54,
   "id": "295ab9ef",
   "metadata": {},
   "outputs": [
    {
     "data": {
      "text/plain": [
       "'Hello kim'"
      ]
     },
     "execution_count": 54,
     "metadata": {},
     "output_type": "execute_result"
    }
   ],
   "source": [
    "def greeting(name: str) -> str:\n",
    "    return 'Hello ' + name\n",
    "\n",
    "greeting('kim')"
   ]
  },
  {
   "cell_type": "code",
   "execution_count": 55,
   "id": "dd4480ee",
   "metadata": {},
   "outputs": [],
   "source": [
    "#딕셔너리, 리스트, 튜플에서도 사용 가능\n",
    "from typing import Dict, List, Tuple\n",
    "\n",
    "animal: Dict[str, int] = {\n",
    "    \"horse\": 2,\n",
    "    \"cat\": 1\n",
    "}\n",
    "\n",
    "num_list: List[int] = [1,3,5,7]\n",
    "\n",
    "person_info: Tuple[str, int, float] = (\"kim\", 26, 176.2)"
   ]
  },
  {
   "cell_type": "code",
   "execution_count": null,
   "id": "5022fde4",
   "metadata": {},
   "outputs": [],
   "source": [
    "# 실습: range 함수 구현하기\n",
    "# 함수안에서 range() 사용x\n",
    "- def my_range(start,end,step):\n",
    "    # write\n",
    "    yield\n",
    "ranger = my_range(1,10)"
   ]
  },
  {
   "cell_type": "code",
   "execution_count": 56,
   "id": "c3d133fa",
   "metadata": {},
   "outputs": [
    {
     "name": "stdout",
     "output_type": "stream",
     "text": [
      "1\n",
      "2\n",
      "3\n",
      "4\n",
      "5\n",
      "6\n",
      "7\n",
      "8\n",
      "9\n"
     ]
    }
   ],
   "source": [
    "# 답안\n",
    "def my_range(start,end,step=1):\n",
    "    while start < end:\n",
    "        yield start\n",
    "        start += step\n",
    "        \n",
    "num_list = my_range(1,10)\n",
    "\n",
    "for i in num_list:\n",
    "    print(i)"
   ]
  },
  {
   "cell_type": "code",
   "execution_count": 57,
   "id": "bd23a215",
   "metadata": {
    "scrolled": true
   },
   "outputs": [
    {
     "name": "stdout",
     "output_type": "stream",
     "text": [
      "[0, 1, 2, 3, 4, 5, 6, 7, 8, 9]\n",
      "Num0\n",
      "Num1\n",
      "Num2\n",
      "Num3\n",
      "Num4\n",
      "Num5\n",
      "Num6\n",
      "Num7\n",
      "Num8\n",
      "Num9\n"
     ]
    }
   ],
   "source": [
    "# 리스트 컴프리핸션으로 사용\n",
    "print([i for i in range(10)])\n",
    "\n",
    "ranger = (i for i in range(10))\n",
    "for i in ranger:\n",
    "    print(f'Num{i}')"
   ]
  },
  {
   "cell_type": "code",
   "execution_count": 60,
   "id": "63a4c00b",
   "metadata": {},
   "outputs": [
    {
     "name": "stdout",
     "output_type": "stream",
     "text": [
      "0\n",
      "1\n",
      "2\n",
      "3\n",
      "4\n",
      "5\n",
      "6\n"
     ]
    }
   ],
   "source": [
    "# yield from\n",
    "\n",
    "def yield_num():\n",
    "    yield from [0,1,2,3,4,5,6]\n",
    "\n",
    "a = yield_num()\n",
    "for i in a:\n",
    "    print(i)"
   ]
  },
  {
   "cell_type": "markdown",
   "id": "49bdc759",
   "metadata": {},
   "source": [
    "### 재귀함수\n",
    "- 자기 자신을 호출하는 함수\n",
    "- 재귀가 너무 깊어지면 예외 발생, 주의해야 함\n",
    "- 리스트 안에 문장 안에...\n",
    "=> 모든 요소의 차원을 단일화시킬때 "
   ]
  },
  {
   "cell_type": "code",
   "execution_count": 63,
   "id": "67797ed0",
   "metadata": {},
   "outputs": [
    {
     "name": "stdout",
     "output_type": "stream",
     "text": [
      "1\n",
      "2\n",
      "2\n",
      "3\n",
      "4\n",
      "1\n",
      "2\n"
     ]
    }
   ],
   "source": [
    "def flatten(sent):\n",
    "    for word in sent:\n",
    "        if isinstance(word,list):\n",
    "            # 리스트가 맞다\n",
    "            for sub_word in flatten(word):\n",
    "                yield sub_word\n",
    "        else: #리스트가 아닐 경우\n",
    "            yield word\n",
    "            \n",
    "a = [1,2,[2,3,4],[[[1,2]]]]\n",
    "\n",
    "for i in flatten(a):\n",
    "    print(i)"
   ]
  },
  {
   "cell_type": "code",
   "execution_count": 66,
   "id": "b93fc86f",
   "metadata": {},
   "outputs": [
    {
     "name": "stdout",
     "output_type": "stream",
     "text": [
      "True\n",
      "False\n"
     ]
    }
   ],
   "source": [
    "# isinstance() 함수\n",
    "# 특정 자료형이 맞는지 확인하는 함수\n",
    "\n",
    "result1 = isinstance(1, int) \n",
    "print(result1) \n",
    "\n",
    "result2 = isinstance('hello', int) \n",
    "print(result2) "
   ]
  },
  {
   "cell_type": "code",
   "execution_count": 65,
   "id": "1c282bf7",
   "metadata": {},
   "outputs": [],
   "source": [
    "# 파이썬 3.3이상 -> yield from 사용 가능\n",
    "def flatten(sent):\n",
    "    for word in sent:\n",
    "        if isinstance(word,list):\n",
    "            # 리스트가 맞다\n",
    "            #for sub_word in flatten(word):\n",
    "                #yield sub_word\n",
    "            yield from flatten(word)\n",
    "        else:\n",
    "            yield word"
   ]
  },
  {
   "cell_type": "markdown",
   "id": "144b4285",
   "metadata": {},
   "source": [
    "### 예외처리 | exception handling\n",
    "- 프로그램 동작 중 예외가 발생했을 때 대처하기 위해\n",
    "- 사용자에게 예외를 알리고, 원하는 조치를 설정한다.\n",
    "- 프로그램이 정상적으로 종료가 될 수 있다."
   ]
  },
  {
   "cell_type": "code",
   "execution_count": 67,
   "id": "d66bbfbd",
   "metadata": {},
   "outputs": [
    {
     "name": "stdout",
     "output_type": "stream",
     "text": [
      "0으로 나눌 수 없음\n"
     ]
    }
   ],
   "source": [
    "# 오류가 뜨지 않고 내가 설정한 메세지 출력\n",
    "try:\n",
    "    # 예외가 발생할 수도 있는 코드 블럭\n",
    "    5 / 0\n",
    "except ZeroDivisionError:\n",
    "    # 예외 시 행할 행동\n",
    "    print('0으로 나눌 수 없음')"
   ]
  },
  {
   "cell_type": "code",
   "execution_count": 69,
   "id": "756d4905",
   "metadata": {},
   "outputs": [
    {
     "name": "stdout",
     "output_type": "stream",
     "text": [
      "0으로 나눌 수 없음\n"
     ]
    }
   ],
   "source": [
    "# 0으로 나눌수 있는 경우도 출력하지 않고 예외처리 해줌\n",
    "try:\n",
    "    for i in range(10):\n",
    "        print(10/i)\n",
    "except ZeroDivisionError:\n",
    "    print('0으로 나눌 수 없음')"
   ]
  },
  {
   "cell_type": "code",
   "execution_count": 70,
   "id": "8644bd4e",
   "metadata": {},
   "outputs": [
    {
     "name": "stdout",
     "output_type": "stream",
     "text": [
      "0으로 나눌 수 없음\n",
      "10.0\n",
      "5.0\n",
      "3.3333333333333335\n",
      "2.5\n",
      "2.0\n",
      "1.6666666666666667\n",
      "1.4285714285714286\n",
      "1.25\n",
      "1.1111111111111112\n"
     ]
    }
   ],
   "source": [
    "# 0으로 나눌수 없는 경우에만 예외처리를 해줌\n",
    "for i in range(10):\n",
    "    try:\n",
    "        print(10/i)\n",
    "    except ZeroDivisionError:\n",
    "        print('0으로 나눌 수 없음')"
   ]
  },
  {
   "cell_type": "code",
   "execution_count": 71,
   "id": "fe7725f8",
   "metadata": {},
   "outputs": [
    {
     "name": "stdout",
     "output_type": "stream",
     "text": [
      "인덱스를 입력하세요>> 9\n",
      "string index out of range\n",
      "인덱스를 입력하세요>> \n",
      "invalid literal for int() with base 10: ''\n",
      "인덱스를 입력하세요>> 2\n",
      "l\n",
      "인덱스를 입력하세요>> q\n"
     ]
    }
   ],
   "source": [
    "word = 'hello'\n",
    "while True:\n",
    "    index = input('인덱스를 입력하세요>> ')\n",
    "    if index == 'q':\n",
    "        break\n",
    "    try:\n",
    "        index = int(index) #ValueError, IndexError \n",
    "        print(word[index])\n",
    "    except ValueError as e1:\n",
    "        print(e1)\n",
    "    except IndexError as e2:\n",
    "        print(e2)"
   ]
  },
  {
   "cell_type": "code",
   "execution_count": 73,
   "id": "68594824",
   "metadata": {},
   "outputs": [
    {
     "name": "stdout",
     "output_type": "stream",
     "text": [
      "출력할 단을 고르세요>> ㄴㅁㄹㅇㄴㄹ\n",
      "잘못된 입력 값입니다.\n"
     ]
    }
   ],
   "source": [
    "# 구구단 예외처리 활용\n",
    "\n",
    "import sys\n",
    "n = input('출력할 단을 고르세요>> ')\n",
    "if n == 'q':\n",
    "    sys.exit()\n",
    "try:\n",
    "    n = int(n)\n",
    "    if n>=1 and n <= 9:\n",
    "        for i in range(1,10):\n",
    "            print(f'{i}x{n} = {i*n}')\n",
    "except ValueError:\n",
    "    print('잘못된 입력 값입니다.')"
   ]
  },
  {
   "cell_type": "markdown",
   "id": "f533b77c",
   "metadata": {},
   "source": [
    "### 예외 일으키기\n",
    "- 예외를 의도적으로 설정\n",
    "- 프로그램을 강제 종료시키기 위해 사용함\n",
    "- raise\n",
    "    - 그냥 raise\n",
    "    - raise + 예외처리 이름\n",
    "    - raise + 메시지\n",
    "- assert\n",
    "    - 참인 조건과 함께 사용\n",
    "    - assrt <참인 조건>,<Flase일 경우 내보낼 메시지>"
   ]
  },
  {
   "cell_type": "code",
   "execution_count": 74,
   "id": "bfac47d2",
   "metadata": {},
   "outputs": [
    {
     "name": "stdout",
     "output_type": "stream",
     "text": [
      "1부터 10까지 입력 : 100\n"
     ]
    },
    {
     "ename": "RuntimeError",
     "evalue": "No active exception to reraise",
     "output_type": "error",
     "traceback": [
      "\u001b[1;31m---------------------------------------------------------------------------\u001b[0m",
      "\u001b[1;31mRuntimeError\u001b[0m                              Traceback (most recent call last)",
      "\u001b[1;32m~\\AppData\\Local\\Temp/ipykernel_10824/261967343.py\u001b[0m in \u001b[0;36m<module>\u001b[1;34m\u001b[0m\n\u001b[0;32m      2\u001b[0m \u001b[0ma\u001b[0m \u001b[1;33m=\u001b[0m \u001b[0mint\u001b[0m\u001b[1;33m(\u001b[0m\u001b[0minput\u001b[0m\u001b[1;33m(\u001b[0m\u001b[1;34m\"1부터 10까지 입력 : \"\u001b[0m\u001b[1;33m)\u001b[0m\u001b[1;33m)\u001b[0m\u001b[1;33m\u001b[0m\u001b[1;33m\u001b[0m\u001b[0m\n\u001b[0;32m      3\u001b[0m \u001b[1;32mif\u001b[0m \u001b[0ma\u001b[0m \u001b[1;33m<\u001b[0m \u001b[1;36m1\u001b[0m \u001b[1;32mor\u001b[0m \u001b[0ma\u001b[0m \u001b[1;33m>\u001b[0m \u001b[1;36m10\u001b[0m\u001b[1;33m:\u001b[0m\u001b[1;33m\u001b[0m\u001b[1;33m\u001b[0m\u001b[0m\n\u001b[1;32m----> 4\u001b[1;33m     \u001b[1;32mraise\u001b[0m\u001b[1;33m\u001b[0m\u001b[1;33m\u001b[0m\u001b[0m\n\u001b[0m",
      "\u001b[1;31mRuntimeError\u001b[0m: No active exception to reraise"
     ]
    }
   ],
   "source": [
    "# raise\n",
    "a = int(input(\"1부터 10까지 입력 : \"))\n",
    "if a < 1 or a > 10:\n",
    "    raise\n",
    "# 그냥 에러가 발생"
   ]
  },
  {
   "cell_type": "code",
   "execution_count": 75,
   "id": "e8856ac1",
   "metadata": {},
   "outputs": [
    {
     "name": "stdout",
     "output_type": "stream",
     "text": [
      "1부터 10까지 입력 : 100\n"
     ]
    },
    {
     "ename": "ValueError",
     "evalue": "",
     "output_type": "error",
     "traceback": [
      "\u001b[1;31m---------------------------------------------------------------------------\u001b[0m",
      "\u001b[1;31mValueError\u001b[0m                                Traceback (most recent call last)",
      "\u001b[1;32m~\\AppData\\Local\\Temp/ipykernel_10824/264349891.py\u001b[0m in \u001b[0;36m<module>\u001b[1;34m\u001b[0m\n\u001b[0;32m      2\u001b[0m \u001b[0ma\u001b[0m \u001b[1;33m=\u001b[0m \u001b[0mint\u001b[0m\u001b[1;33m(\u001b[0m\u001b[0minput\u001b[0m\u001b[1;33m(\u001b[0m\u001b[1;34m\"1부터 10까지 입력 : \"\u001b[0m\u001b[1;33m)\u001b[0m\u001b[1;33m)\u001b[0m\u001b[1;33m\u001b[0m\u001b[1;33m\u001b[0m\u001b[0m\n\u001b[0;32m      3\u001b[0m \u001b[1;32mif\u001b[0m \u001b[0ma\u001b[0m \u001b[1;33m<\u001b[0m \u001b[1;36m1\u001b[0m \u001b[1;32mor\u001b[0m \u001b[0ma\u001b[0m \u001b[1;33m>\u001b[0m \u001b[1;36m10\u001b[0m\u001b[1;33m:\u001b[0m\u001b[1;33m\u001b[0m\u001b[1;33m\u001b[0m\u001b[0m\n\u001b[1;32m----> 4\u001b[1;33m     \u001b[1;32mraise\u001b[0m \u001b[0mValueError\u001b[0m\u001b[1;33m\u001b[0m\u001b[1;33m\u001b[0m\u001b[0m\n\u001b[0m",
      "\u001b[1;31mValueError\u001b[0m: "
     ]
    }
   ],
   "source": [
    "# raise + 예외처리 이름\n",
    "a = int(input(\"1부터 10까지 입력 : \"))\n",
    "if a < 1 or a > 10:\n",
    "    raise ValueError\n",
    "# ValueError가 발생"
   ]
  },
  {
   "cell_type": "code",
   "execution_count": 76,
   "id": "7493e4b0",
   "metadata": {
    "scrolled": true
   },
   "outputs": [
    {
     "name": "stdout",
     "output_type": "stream",
     "text": [
      "1부터 10까지 입력 : 100\n"
     ]
    },
    {
     "ename": "Exception",
     "evalue": "에러입니다.",
     "output_type": "error",
     "traceback": [
      "\u001b[1;31m---------------------------------------------------------------------------\u001b[0m",
      "\u001b[1;31mException\u001b[0m                                 Traceback (most recent call last)",
      "\u001b[1;32m~\\AppData\\Local\\Temp/ipykernel_10824/2938876512.py\u001b[0m in \u001b[0;36m<module>\u001b[1;34m\u001b[0m\n\u001b[0;32m      2\u001b[0m \u001b[0ma\u001b[0m \u001b[1;33m=\u001b[0m \u001b[0mint\u001b[0m\u001b[1;33m(\u001b[0m\u001b[0minput\u001b[0m\u001b[1;33m(\u001b[0m\u001b[1;34m\"1부터 10까지 입력 : \"\u001b[0m\u001b[1;33m)\u001b[0m\u001b[1;33m)\u001b[0m\u001b[1;33m\u001b[0m\u001b[1;33m\u001b[0m\u001b[0m\n\u001b[0;32m      3\u001b[0m \u001b[1;32mif\u001b[0m \u001b[0ma\u001b[0m \u001b[1;33m<\u001b[0m \u001b[1;36m1\u001b[0m \u001b[1;32mor\u001b[0m \u001b[0ma\u001b[0m \u001b[1;33m>\u001b[0m \u001b[1;36m10\u001b[0m\u001b[1;33m:\u001b[0m\u001b[1;33m\u001b[0m\u001b[1;33m\u001b[0m\u001b[0m\n\u001b[1;32m----> 4\u001b[1;33m     \u001b[1;32mraise\u001b[0m \u001b[0mException\u001b[0m\u001b[1;33m(\u001b[0m\u001b[1;34m'에러입니다.'\u001b[0m\u001b[1;33m)\u001b[0m\u001b[1;33m\u001b[0m\u001b[1;33m\u001b[0m\u001b[0m\n\u001b[0m",
      "\u001b[1;31mException\u001b[0m: 에러입니다."
     ]
    }
   ],
   "source": [
    "# raise + 메시지\n",
    "a = int(input(\"1부터 10까지 입력 : \"))\n",
    "if a < 1 or a > 10:\n",
    "    raise Exception('에러입니다.')"
   ]
  },
  {
   "cell_type": "code",
   "execution_count": 77,
   "id": "4965ca26",
   "metadata": {},
   "outputs": [
    {
     "name": "stdout",
     "output_type": "stream",
     "text": [
      "숫자>> d\n"
     ]
    },
    {
     "ename": "ValueError",
     "evalue": "숫자가 아닙니다.",
     "output_type": "error",
     "traceback": [
      "\u001b[1;31m---------------------------------------------------------------------------\u001b[0m",
      "\u001b[1;31mValueError\u001b[0m                                Traceback (most recent call last)",
      "\u001b[1;32m~\\AppData\\Local\\Temp/ipykernel_10824/1985752639.py\u001b[0m in \u001b[0;36m<module>\u001b[1;34m\u001b[0m\n\u001b[0;32m      3\u001b[0m     \u001b[0mnum\u001b[0m \u001b[1;33m=\u001b[0m \u001b[0minput\u001b[0m\u001b[1;33m(\u001b[0m\u001b[1;34m'숫자>> '\u001b[0m\u001b[1;33m)\u001b[0m\u001b[1;33m\u001b[0m\u001b[1;33m\u001b[0m\u001b[0m\n\u001b[0;32m      4\u001b[0m     \u001b[1;32mif\u001b[0m \u001b[1;32mnot\u001b[0m \u001b[0mnum\u001b[0m\u001b[1;33m.\u001b[0m\u001b[0misdigit\u001b[0m\u001b[1;33m(\u001b[0m\u001b[1;33m)\u001b[0m\u001b[1;33m:\u001b[0m\u001b[1;33m\u001b[0m\u001b[1;33m\u001b[0m\u001b[0m\n\u001b[1;32m----> 5\u001b[1;33m         \u001b[1;32mraise\u001b[0m \u001b[0mValueError\u001b[0m\u001b[1;33m(\u001b[0m\u001b[1;34m'숫자가 아닙니다.'\u001b[0m\u001b[1;33m)\u001b[0m\u001b[1;33m\u001b[0m\u001b[1;33m\u001b[0m\u001b[0m\n\u001b[0m\u001b[0;32m      6\u001b[0m     \u001b[1;32melse\u001b[0m\u001b[1;33m:\u001b[0m\u001b[1;33m\u001b[0m\u001b[1;33m\u001b[0m\u001b[0m\n\u001b[0;32m      7\u001b[0m         \u001b[0mprint\u001b[0m\u001b[1;33m(\u001b[0m\u001b[0mint\u001b[0m\u001b[1;33m(\u001b[0m\u001b[0mnum\u001b[0m\u001b[1;33m)\u001b[0m \u001b[1;33m+\u001b[0m \u001b[1;36m5\u001b[0m\u001b[1;33m)\u001b[0m\u001b[1;33m\u001b[0m\u001b[1;33m\u001b[0m\u001b[0m\n",
      "\u001b[1;31mValueError\u001b[0m: 숫자가 아닙니다."
     ]
    }
   ],
   "source": [
    "# 에러이름 설정 + 메세지\n",
    "while True:\n",
    "    num = input('숫자>> ')\n",
    "    if not num.isdigit():\n",
    "        raise ValueError('숫자가 아닙니다.')\n",
    "    else:\n",
    "        print(int(num) + 5)"
   ]
  },
  {
   "cell_type": "code",
   "execution_count": 80,
   "id": "bd1910f5",
   "metadata": {},
   "outputs": [
    {
     "name": "stdout",
     "output_type": "stream",
     "text": [
      "0b1010\n"
     ]
    },
    {
     "ename": "AssertionError",
     "evalue": "정수 아님",
     "output_type": "error",
     "traceback": [
      "\u001b[1;31m---------------------------------------------------------------------------\u001b[0m",
      "\u001b[1;31mAssertionError\u001b[0m                            Traceback (most recent call last)",
      "\u001b[1;32m~\\AppData\\Local\\Temp/ipykernel_10824/1657229027.py\u001b[0m in \u001b[0;36m<module>\u001b[1;34m\u001b[0m\n\u001b[0;32m      3\u001b[0m     \u001b[1;32mreturn\u001b[0m \u001b[0mbin\u001b[0m\u001b[1;33m(\u001b[0m\u001b[0mnum\u001b[0m\u001b[1;33m)\u001b[0m\u001b[1;33m\u001b[0m\u001b[1;33m\u001b[0m\u001b[0m\n\u001b[0;32m      4\u001b[0m \u001b[0mprint\u001b[0m\u001b[1;33m(\u001b[0m\u001b[0mget_binary\u001b[0m\u001b[1;33m(\u001b[0m\u001b[1;36m10\u001b[0m\u001b[1;33m)\u001b[0m\u001b[1;33m)\u001b[0m\u001b[1;33m\u001b[0m\u001b[1;33m\u001b[0m\u001b[0m\n\u001b[1;32m----> 5\u001b[1;33m \u001b[0mprint\u001b[0m\u001b[1;33m(\u001b[0m\u001b[0mget_binary\u001b[0m\u001b[1;33m(\u001b[0m\u001b[1;34m'10'\u001b[0m\u001b[1;33m)\u001b[0m\u001b[1;33m)\u001b[0m\u001b[1;33m\u001b[0m\u001b[1;33m\u001b[0m\u001b[0m\n\u001b[0m",
      "\u001b[1;32m~\\AppData\\Local\\Temp/ipykernel_10824/1657229027.py\u001b[0m in \u001b[0;36mget_binary\u001b[1;34m(num)\u001b[0m\n\u001b[0;32m      1\u001b[0m \u001b[1;32mdef\u001b[0m \u001b[0mget_binary\u001b[0m\u001b[1;33m(\u001b[0m\u001b[0mnum\u001b[0m\u001b[1;33m)\u001b[0m\u001b[1;33m:\u001b[0m\u001b[1;33m\u001b[0m\u001b[1;33m\u001b[0m\u001b[0m\n\u001b[1;32m----> 2\u001b[1;33m     \u001b[1;32massert\u001b[0m \u001b[0misinstance\u001b[0m\u001b[1;33m(\u001b[0m\u001b[0mnum\u001b[0m\u001b[1;33m,\u001b[0m \u001b[0mint\u001b[0m\u001b[1;33m)\u001b[0m\u001b[1;33m,\u001b[0m \u001b[1;34m'정수 아님'\u001b[0m\u001b[1;33m\u001b[0m\u001b[1;33m\u001b[0m\u001b[0m\n\u001b[0m\u001b[0;32m      3\u001b[0m     \u001b[1;32mreturn\u001b[0m \u001b[0mbin\u001b[0m\u001b[1;33m(\u001b[0m\u001b[0mnum\u001b[0m\u001b[1;33m)\u001b[0m\u001b[1;33m\u001b[0m\u001b[1;33m\u001b[0m\u001b[0m\n\u001b[0;32m      4\u001b[0m \u001b[0mprint\u001b[0m\u001b[1;33m(\u001b[0m\u001b[0mget_binary\u001b[0m\u001b[1;33m(\u001b[0m\u001b[1;36m10\u001b[0m\u001b[1;33m)\u001b[0m\u001b[1;33m)\u001b[0m\u001b[1;33m\u001b[0m\u001b[1;33m\u001b[0m\u001b[0m\n\u001b[0;32m      5\u001b[0m \u001b[0mprint\u001b[0m\u001b[1;33m(\u001b[0m\u001b[0mget_binary\u001b[0m\u001b[1;33m(\u001b[0m\u001b[1;34m'10'\u001b[0m\u001b[1;33m)\u001b[0m\u001b[1;33m)\u001b[0m\u001b[1;33m\u001b[0m\u001b[1;33m\u001b[0m\u001b[0m\n",
      "\u001b[1;31mAssertionError\u001b[0m: 정수 아님"
     ]
    }
   ],
   "source": [
    "def get_binary(num):\n",
    "    assert isinstance(num, int), '정수 아님'\n",
    "    return bin(num)\n",
    "print(get_binary(10))\n",
    "print(get_binary('10'))"
   ]
  },
  {
   "cell_type": "markdown",
   "id": "e8369758",
   "metadata": {},
   "source": [
    "### 사용자 정의 예외 타입\n",
    "- class 선언, Exception 클래스를 상속 받는다.\n",
    "    - 반드시 상속을 받아야함."
   ]
  },
  {
   "cell_type": "code",
   "execution_count": 82,
   "id": "448fc9f8",
   "metadata": {},
   "outputs": [],
   "source": [
    "# 형식\n",
    "class MyException(Exception):\n",
    "    pass"
   ]
  },
  {
   "cell_type": "code",
   "execution_count": 83,
   "id": "cf0fea7c",
   "metadata": {},
   "outputs": [
    {
     "name": "stdout",
     "output_type": "stream",
     "text": [
      "dublin\n",
      "newyork\n",
      "seoul\n"
     ]
    },
    {
     "ename": "MyException",
     "evalue": "대문자 안됨",
     "output_type": "error",
     "traceback": [
      "\u001b[1;31m---------------------------------------------------------------------------\u001b[0m",
      "\u001b[1;31mMyException\u001b[0m                               Traceback (most recent call last)",
      "\u001b[1;32m~\\AppData\\Local\\Temp/ipykernel_10824/1378832386.py\u001b[0m in \u001b[0;36m<module>\u001b[1;34m\u001b[0m\n\u001b[0;32m      4\u001b[0m \u001b[1;32mfor\u001b[0m \u001b[0mcity\u001b[0m \u001b[1;32min\u001b[0m \u001b[0mcities\u001b[0m\u001b[1;33m:\u001b[0m\u001b[1;33m\u001b[0m\u001b[1;33m\u001b[0m\u001b[0m\n\u001b[0;32m      5\u001b[0m     \u001b[1;32mif\u001b[0m \u001b[0mcity\u001b[0m\u001b[1;33m.\u001b[0m\u001b[0misupper\u001b[0m\u001b[1;33m(\u001b[0m\u001b[1;33m)\u001b[0m\u001b[1;33m:\u001b[0m\u001b[1;33m\u001b[0m\u001b[1;33m\u001b[0m\u001b[0m\n\u001b[1;32m----> 6\u001b[1;33m         \u001b[1;32mraise\u001b[0m \u001b[0mMyException\u001b[0m\u001b[1;33m(\u001b[0m\u001b[1;34m'대문자 안됨'\u001b[0m\u001b[1;33m)\u001b[0m\u001b[1;33m\u001b[0m\u001b[1;33m\u001b[0m\u001b[0m\n\u001b[0m\u001b[0;32m      7\u001b[0m     \u001b[1;32melse\u001b[0m\u001b[1;33m:\u001b[0m\u001b[1;33m\u001b[0m\u001b[1;33m\u001b[0m\u001b[0m\n\u001b[0;32m      8\u001b[0m         \u001b[0mprint\u001b[0m\u001b[1;33m(\u001b[0m\u001b[0mcity\u001b[0m\u001b[1;33m)\u001b[0m\u001b[1;33m\u001b[0m\u001b[1;33m\u001b[0m\u001b[0m\n",
      "\u001b[1;31mMyException\u001b[0m: 대문자 안됨"
     ]
    }
   ],
   "source": [
    "# 대문자일 경우 오류\n",
    "cities = 'dublin newyork seoul TOKYO'.split()\n",
    "\n",
    "for city in cities:\n",
    "    if city.isupper():\n",
    "        raise MyException('대문자 안됨')\n",
    "    else:\n",
    "        print(city)"
   ]
  },
  {
   "cell_type": "code",
   "execution_count": null,
   "id": "748c213c",
   "metadata": {},
   "outputs": [],
   "source": [
    "class UppercaseException(Exception):\n",
    "    def __init__(self):\n",
    "        super().__init__('대문자 안된다고')"
   ]
  }
 ],
 "metadata": {
  "kernelspec": {
   "display_name": "Python 3 (ipykernel)",
   "language": "python",
   "name": "python3"
  },
  "language_info": {
   "codemirror_mode": {
    "name": "ipython",
    "version": 3
   },
   "file_extension": ".py",
   "mimetype": "text/x-python",
   "name": "python",
   "nbconvert_exporter": "python",
   "pygments_lexer": "ipython3",
   "version": "3.9.7"
  }
 },
 "nbformat": 4,
 "nbformat_minor": 5
}
