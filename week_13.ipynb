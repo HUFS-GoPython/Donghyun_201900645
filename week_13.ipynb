{
 "cells": [
  {
   "cell_type": "markdown",
   "id": "7f37daba",
   "metadata": {},
   "source": [
    "### 파일과 디렉터리\n",
    "- 파일: 컴퓨터를 실행할 때 가장 기본이 되는 단위\n",
    "- 디렉터리: 폴더 개념, 파일을 논리적으로 묶어놓은 단위\n",
    "    - 직박구리: a,b,c..\n",
    "- 파일 = 파일명 + 확장자(.txt, .csv)\n",
    "    - ex) text1.txt\n",
    "- 바이너리, 텍스트\n",
    "    - 바이너리: 엑셀, 워드,...\n",
    "    - 텍스트: 바이너리 -> 문자로 변환\n",
    "        - 메모장, python, html...\n",
    "        - 기준: 아스키코드, 유니코드 제정(\"인코딩\")\n",
    "        - utf-8 -> 가장 많이 사용\n",
    "        - cp494\n",
    "- f = open(파일명, 모드)\n",
    "    - r: read(default)\n",
    "    - w: write (없으면 새로 만들고 있으면 덮어쓴다)\n",
    "    - a: add (기존 파일에 마지막에 추가)\n",
    "    - x: write + (없을 때만 쓸수 있게)\n",
    "    \n",
    "    - b:바이너리\n",
    "    - t:텍스트(디폴트)\n",
    "        - rb, rt이런식으로 사용"
   ]
  },
  {
   "cell_type": "code",
   "execution_count": 1,
   "id": "840cc4d7",
   "metadata": {},
   "outputs": [
    {
     "data": {
      "text/plain": [
       "<_io.TextIOWrapper name='test.txt' mode='r' encoding='cp949'>"
      ]
     },
     "execution_count": 1,
     "metadata": {},
     "output_type": "execute_result"
    }
   ],
   "source": [
    "f = open('test.txt','r')\n",
    "f"
   ]
  },
  {
   "cell_type": "code",
   "execution_count": 3,
   "id": "19680967",
   "metadata": {},
   "outputs": [
    {
     "data": {
      "text/plain": [
       "'hello'"
      ]
     },
     "execution_count": 3,
     "metadata": {},
     "output_type": "execute_result"
    }
   ],
   "source": [
    "f.read(5)"
   ]
  },
  {
   "cell_type": "code",
   "execution_count": 4,
   "id": "ee75c125",
   "metadata": {},
   "outputs": [
    {
     "data": {
      "text/plain": [
       "' pyth'"
      ]
     },
     "execution_count": 4,
     "metadata": {},
     "output_type": "execute_result"
    }
   ],
   "source": [
    "f.read(5) # 앞에서 읽어온 부분 다음 부분부터 읽어옴"
   ]
  },
  {
   "cell_type": "code",
   "execution_count": 5,
   "id": "25f6d1e1",
   "metadata": {},
   "outputs": [],
   "source": [
    "f.close() # 꼭 닫아줘야함\n",
    "# 자원 해제 -> 메모리 문제, 다른 프로그램에서 호출할수 있기 때문"
   ]
  },
  {
   "cell_type": "code",
   "execution_count": null,
   "id": "a05ab773",
   "metadata": {},
   "outputs": [],
   "source": [
    "with open(파일, 모드) as f:# f라는 이름으로 열어라\n",
    "    ... open 함수 기능이 유지되는 블록\n",
    "    data = f.read() # data는 살아있는 변수\n",
    "자원 해제됨(자동)\n",
    "-> 따로 close()를 해줄 필요 없음"
   ]
  },
  {
   "cell_type": "markdown",
   "id": "497e6f17",
   "metadata": {},
   "source": [
    "- read() : str\n",
    "- readline():  한줄씩\n",
    "- readlines(): 전체를 한줄씩 str 담아서 리스트로"
   ]
  },
  {
   "cell_type": "code",
   "execution_count": 7,
   "id": "4a799f4b",
   "metadata": {},
   "outputs": [
    {
     "data": {
      "text/plain": [
       "'hello python\\nnice to meet you'"
      ]
     },
     "execution_count": 7,
     "metadata": {},
     "output_type": "execute_result"
    }
   ],
   "source": [
    "# read()\n",
    "with open('test.txt','r') as f:\n",
    "    data = f.read()\n",
    "    \n",
    "data"
   ]
  },
  {
   "cell_type": "code",
   "execution_count": 9,
   "id": "05a4f7d9",
   "metadata": {},
   "outputs": [
    {
     "data": {
      "text/plain": [
       "'hello python\\n'"
      ]
     },
     "execution_count": 9,
     "metadata": {},
     "output_type": "execute_result"
    }
   ],
   "source": [
    "# readline()\n",
    "with open('test.txt','r') as f:\n",
    "    data = f.readline()\n",
    "    \n",
    "data"
   ]
  },
  {
   "cell_type": "code",
   "execution_count": 10,
   "id": "b83e5454",
   "metadata": {},
   "outputs": [
    {
     "data": {
      "text/plain": [
       "['hello python', 'nice to meet you']"
      ]
     },
     "execution_count": 10,
     "metadata": {},
     "output_type": "execute_result"
    }
   ],
   "source": [
    "# readlines()\n",
    "with open('test.txt','r') as f:\n",
    "    data = f.readlines()\n",
    "    # 텍스트 정제\n",
    "    data = [line.strip() for line in data]\n",
    "data"
   ]
  },
  {
   "cell_type": "code",
   "execution_count": 14,
   "id": "5e180d99",
   "metadata": {},
   "outputs": [
    {
     "data": {
      "text/plain": [
       "[['hello', 'python'], ['nice', 'to', 'meet', 'you']]"
      ]
     },
     "execution_count": 14,
     "metadata": {},
     "output_type": "execute_result"
    }
   ],
   "source": [
    "# 단어로 할 경우\n",
    "with open('test.txt','r') as f:\n",
    "    data = f.readlines()\n",
    "    data = [line.strip() for line in data]\n",
    "    data = [word.split() for word in data]\n",
    "data"
   ]
  },
  {
   "cell_type": "markdown",
   "id": "6eb98be6",
   "metadata": {},
   "source": [
    "### 쓰기\n",
    "- write : w\n",
    "- add : a"
   ]
  },
  {
   "cell_type": "code",
   "execution_count": 20,
   "id": "9d98e4bd",
   "metadata": {},
   "outputs": [],
   "source": [
    "# write \n",
    "# 없을 경우 파일을 만들어줌\n",
    "file = 'test6.txt'\n",
    "f = open(file,'w',encoding = 'utf-8')\n",
    "# encoding = 'utf-8' -> encoding을 utf -8로\n",
    "# 인코딩을 통일하지 않을 경우 오류가 발생할 수 있음"
   ]
  },
  {
   "cell_type": "code",
   "execution_count": 21,
   "id": "1b9ead92",
   "metadata": {},
   "outputs": [],
   "source": [
    "for i in range(10):\n",
    "    data = f'{i}번째 줄입니다.\\n'\n",
    "    f.write(data)"
   ]
  },
  {
   "cell_type": "code",
   "execution_count": 22,
   "id": "85bcf002",
   "metadata": {},
   "outputs": [],
   "source": [
    "f.close()"
   ]
  },
  {
   "cell_type": "code",
   "execution_count": 25,
   "id": "e1f8dccb",
   "metadata": {},
   "outputs": [],
   "source": [
    "# add\n",
    "f = open(file,'a')\n",
    "print('문구 추가',file=f)\n",
    "# 프린트로도 간단하게 추가가 가능함"
   ]
  },
  {
   "cell_type": "code",
   "execution_count": 26,
   "id": "1c09b610",
   "metadata": {},
   "outputs": [],
   "source": [
    "# a모드로 추가하는 경우\n",
    "f = open(file,'a')\n",
    "for i in range(10):\n",
    "    data = f'{i+10}번째 줄 추가입니다.\\n'\n",
    "    f.write(data)"
   ]
  },
  {
   "cell_type": "code",
   "execution_count": 27,
   "id": "afffbcc8",
   "metadata": {},
   "outputs": [],
   "source": [
    "f.close()"
   ]
  },
  {
   "cell_type": "markdown",
   "id": "476fd2ca",
   "metadata": {},
   "source": [
    "### 다른 디렉토리에 파일 쓰기\n",
    "- os\n",
    "- .: 현재 위치를 조회\n",
    "- ..: 상위 디렉토리 조회"
   ]
  },
  {
   "cell_type": "code",
   "execution_count": 28,
   "id": "8a514275",
   "metadata": {},
   "outputs": [],
   "source": [
    "import os"
   ]
  },
  {
   "cell_type": "code",
   "execution_count": 35,
   "id": "f75ea97d",
   "metadata": {},
   "outputs": [
    {
     "ename": "FileNotFoundError",
     "evalue": "[Errno 2] No such file or directory: './folder7/test7.txt'",
     "output_type": "error",
     "traceback": [
      "\u001b[1;31m---------------------------------------------------------------------------\u001b[0m",
      "\u001b[1;31mFileNotFoundError\u001b[0m                         Traceback (most recent call last)",
      "\u001b[1;32m~\\AppData\\Local\\Temp/ipykernel_1484/2489790228.py\u001b[0m in \u001b[0;36m<module>\u001b[1;34m\u001b[0m\n\u001b[0;32m      1\u001b[0m \u001b[0mfile\u001b[0m \u001b[1;33m=\u001b[0m \u001b[1;34m'./folder7/test7.txt'\u001b[0m \u001b[1;31m# 디렉토리가 깊어질때마다 /로 표시\u001b[0m\u001b[1;33m\u001b[0m\u001b[1;33m\u001b[0m\u001b[0m\n\u001b[1;32m----> 2\u001b[1;33m \u001b[0mf\u001b[0m \u001b[1;33m=\u001b[0m \u001b[0mopen\u001b[0m\u001b[1;33m(\u001b[0m\u001b[0mfile\u001b[0m\u001b[1;33m,\u001b[0m\u001b[1;34m'w'\u001b[0m\u001b[1;33m,\u001b[0m\u001b[0mencoding\u001b[0m\u001b[1;33m=\u001b[0m\u001b[1;34m'utf-8'\u001b[0m\u001b[1;33m)\u001b[0m\u001b[1;33m\u001b[0m\u001b[1;33m\u001b[0m\u001b[0m\n\u001b[0m\u001b[0;32m      3\u001b[0m \u001b[1;31m# 폴더가 없기 때문\u001b[0m\u001b[1;33m\u001b[0m\u001b[1;33m\u001b[0m\u001b[0m\n\u001b[0;32m      4\u001b[0m \u001b[0mf\u001b[0m\u001b[1;33m.\u001b[0m\u001b[0mclose\u001b[0m\u001b[1;33m(\u001b[0m\u001b[1;33m)\u001b[0m\u001b[1;33m\u001b[0m\u001b[1;33m\u001b[0m\u001b[0m\n",
      "\u001b[1;31mFileNotFoundError\u001b[0m: [Errno 2] No such file or directory: './folder7/test7.txt'"
     ]
    }
   ],
   "source": [
    "file = './folder7/test7.txt' # 디렉토리가 깊어질때마다 /로 표시\n",
    "f = open(file,'w',encoding='utf-8')\n",
    "# 폴더가 없기 때문\n",
    "f.close()"
   ]
  },
  {
   "cell_type": "code",
   "execution_count": 36,
   "id": "ed2e141b",
   "metadata": {},
   "outputs": [],
   "source": [
    "# folder 만들기\n",
    "os.mkdir('folder7')"
   ]
  },
  {
   "cell_type": "code",
   "execution_count": 37,
   "id": "2d6b1e84",
   "metadata": {},
   "outputs": [],
   "source": [
    "# folder가 없을 때 만들어 주는 방법\n",
    "if not os.path.isdir('folder7'):\n",
    "    os.mkdir('folder7')"
   ]
  },
  {
   "cell_type": "code",
   "execution_count": 42,
   "id": "128aa072",
   "metadata": {},
   "outputs": [
    {
     "name": "stdout",
     "output_type": "stream",
     "text": [
      "존재하는 디렉토리입니다.\n"
     ]
    }
   ],
   "source": [
    "# isdir() -> 디렉토리의 존재여부를 검사\n",
    "directory = 'folder7'\n",
    "\n",
    "if os.path.isdir(directory):\n",
    "    print('존재하는 디렉토리입니다.')"
   ]
  },
  {
   "cell_type": "code",
   "execution_count": 39,
   "id": "d259436d",
   "metadata": {},
   "outputs": [
    {
     "data": {
      "text/plain": [
       "True"
      ]
     },
     "execution_count": 39,
     "metadata": {},
     "output_type": "execute_result"
    }
   ],
   "source": [
    "os.path.exists('folder7') # assert 느낌으로\n",
    "# exists()는 os 함수로 파일의 존재여부 확인시 사용"
   ]
  },
  {
   "cell_type": "code",
   "execution_count": null,
   "id": "880cf663",
   "metadata": {},
   "outputs": [],
   "source": [
    "# 파일 삭제 -> rmdir() or remove()\n",
    "os.remove(file)\n",
    "os.rmdir(dir_name)"
   ]
  },
  {
   "cell_type": "code",
   "execution_count": null,
   "id": "f7e6562e",
   "metadata": {},
   "outputs": [],
   "source": [
    "# Quiz\n",
    "# folder: 새로 만들기\n",
    "# 파일쓰기: 내용 아무거나\n",
    "# 열기"
   ]
  },
  {
   "cell_type": "code",
   "execution_count": 43,
   "id": "73677d00",
   "metadata": {},
   "outputs": [],
   "source": [
    "if not os.path.isdir('folder7'):\n",
    "    os.mkdir('folder7')\n",
    "\n",
    "file = './folder7/test7.txt'\n",
    "\n",
    "f = open(file,'w',encoding='utf-8')\n",
    "data = '안녕하세요'\n",
    "f.write(data)\n",
    "f.close()"
   ]
  },
  {
   "cell_type": "markdown",
   "id": "f6b70682",
   "metadata": {},
   "source": [
    "### 삭제\n",
    "- shutil 모듈\n",
    "    - shutil.rmtree('폴더이름')\n",
    "    - 폴더가 아닐 경우 오류 발생\n",
    "    \n",
    "    - 참고\n",
    "    - shutil.copyfile() -> 파일을 복사하는 함수\n",
    "    - shutil.copytree() -> 폴더를 복사하는 함수"
   ]
  },
  {
   "cell_type": "code",
   "execution_count": 46,
   "id": "a33594eb",
   "metadata": {},
   "outputs": [
    {
     "data": {
      "text/plain": [
       "'C:\\\\Users\\\\dong'"
      ]
     },
     "execution_count": 46,
     "metadata": {},
     "output_type": "execute_result"
    }
   ],
   "source": [
    "import shutil\n",
    "shutil.rmtree('folder7')\n",
    "os.getcwd()"
   ]
  },
  {
   "cell_type": "code",
   "execution_count": 47,
   "id": "ac779afc",
   "metadata": {},
   "outputs": [
    {
     "data": {
      "text/plain": [
       "'C:\\\\Users'"
      ]
     },
     "execution_count": 47,
     "metadata": {},
     "output_type": "execute_result"
    }
   ],
   "source": [
    "# 상위로 이동\n",
    "os.chdir(\"..\")\n",
    "os.getcwd()\n",
    "# 그냥 이동 cd('이동하고 싶은곳')"
   ]
  },
  {
   "cell_type": "markdown",
   "id": "48782697",
   "metadata": {},
   "source": [
    "### pickle\n",
    "- 객체를 저장, 불러드릴수 있다. => 객체 자체를 바이너리로 저장\n",
    "    - 저장된 파일을 그냥 불러오기만 하면 됨 -> 속도 빠름\n",
    "- 저장: pickle.dump(변수,파일명)\n",
    "- 열때: 변수명 = pickle.load(파일)"
   ]
  },
  {
   "cell_type": "code",
   "execution_count": 66,
   "id": "f5bd3986",
   "metadata": {},
   "outputs": [],
   "source": [
    "import pickle"
   ]
  },
  {
   "cell_type": "code",
   "execution_count": 70,
   "id": "44334520",
   "metadata": {},
   "outputs": [],
   "source": [
    "# 피클로 저장\n",
    "f = open('test.pickle','wb')\n",
    "num = list(range(10))\n",
    "pickle.dump(num,f)\n",
    "f.close()"
   ]
  },
  {
   "cell_type": "code",
   "execution_count": 71,
   "id": "f8f5c97b",
   "metadata": {},
   "outputs": [
    {
     "data": {
      "text/plain": [
       "[0, 1, 2, 3, 4, 5, 6, 7, 8, 9]"
      ]
     },
     "execution_count": 71,
     "metadata": {},
     "output_type": "execute_result"
    }
   ],
   "source": [
    "# 피클 열기\n",
    "with open('test.pickle','rb') as f:\n",
    "    num = pickle.load(f)\n",
    "    \n",
    "num"
   ]
  }
 ],
 "metadata": {
  "kernelspec": {
   "display_name": "Python 3 (ipykernel)",
   "language": "python",
   "name": "python3"
  },
  "language_info": {
   "codemirror_mode": {
    "name": "ipython",
    "version": 3
   },
   "file_extension": ".py",
   "mimetype": "text/x-python",
   "name": "python",
   "nbconvert_exporter": "python",
   "pygments_lexer": "ipython3",
   "version": "3.9.7"
  }
 },
 "nbformat": 4,
 "nbformat_minor": 5
}
